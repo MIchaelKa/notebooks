{
 "cells": [
  {
   "cell_type": "code",
   "execution_count": 3,
   "id": "pregnant-mailing",
   "metadata": {},
   "outputs": [],
   "source": [
    "import numpy as np\n",
    "import math"
   ]
  },
  {
   "cell_type": "markdown",
   "id": "worthy-ordinary",
   "metadata": {},
   "source": [
    "## 2.1"
   ]
  },
  {
   "cell_type": "code",
   "execution_count": 14,
   "id": "formal-giving",
   "metadata": {},
   "outputs": [],
   "source": [
    "x = [0, 0, 0, 1, 1, 1, 1, 1, 1, 1, 1, 1, 1, 1, 2, 2, 2, 2, 3, 3, 3, 3, 4, 4, 5, 5, 5, 5, 6, 7, 9, 10, 11]\n",
    "x = np.array(x)"
   ]
  },
  {
   "cell_type": "code",
   "execution_count": 11,
   "id": "facial-adoption",
   "metadata": {},
   "outputs": [
    {
     "data": {
      "text/plain": [
       "3.090909090909091"
      ]
     },
     "execution_count": 11,
     "metadata": {},
     "output_type": "execute_result"
    }
   ],
   "source": [
    "np.sum(x) / len(x)"
   ]
  },
  {
   "cell_type": "code",
   "execution_count": 13,
   "id": "agreed-lighter",
   "metadata": {},
   "outputs": [
    {
     "data": {
      "text/plain": [
       "3.090909090909091"
      ]
     },
     "execution_count": 13,
     "metadata": {},
     "output_type": "execute_result"
    }
   ],
   "source": [
    "X = np.mean(x)\n",
    "X"
   ]
  },
  {
   "cell_type": "code",
   "execution_count": 18,
   "id": "bearing-promise",
   "metadata": {},
   "outputs": [
    {
     "data": {
      "text/plain": [
       "8.082644628099173"
      ]
     },
     "execution_count": 18,
     "metadata": {},
     "output_type": "execute_result"
    }
   ],
   "source": [
    "D = np.sum((x-X)**2) / len(x)\n",
    "D"
   ]
  },
  {
   "cell_type": "code",
   "execution_count": 19,
   "id": "floral-momentum",
   "metadata": {},
   "outputs": [
    {
     "data": {
      "text/plain": [
       "2.8429992311112526"
      ]
     },
     "execution_count": 19,
     "metadata": {},
     "output_type": "execute_result"
    }
   ],
   "source": [
    "D**0.5"
   ]
  },
  {
   "cell_type": "code",
   "execution_count": 21,
   "id": "hearing-routine",
   "metadata": {},
   "outputs": [
    {
     "data": {
      "text/plain": [
       "2.8429992311112526"
      ]
     },
     "execution_count": 21,
     "metadata": {},
     "output_type": "execute_result"
    }
   ],
   "source": [
    "math.sqrt(D)"
   ]
  },
  {
   "cell_type": "code",
   "execution_count": 22,
   "id": "ancient-blogger",
   "metadata": {},
   "outputs": [
    {
     "data": {
      "text/plain": [
       "2.8429992311112526"
      ]
     },
     "execution_count": 22,
     "metadata": {},
     "output_type": "execute_result"
    }
   ],
   "source": [
    "std = np.std(x)\n",
    "std"
   ]
  },
  {
   "cell_type": "code",
   "execution_count": 23,
   "id": "traditional-punch",
   "metadata": {},
   "outputs": [
    {
     "data": {
      "text/plain": [
       "1"
      ]
     },
     "execution_count": 23,
     "metadata": {},
     "output_type": "execute_result"
    }
   ],
   "source": [
    "p_25 = x[int(len(x)*0.25)]\n",
    "p_25"
   ]
  },
  {
   "cell_type": "code",
   "execution_count": 57,
   "id": "accepted-solomon",
   "metadata": {},
   "outputs": [
    {
     "data": {
      "text/plain": [
       "2"
      ]
     },
     "execution_count": 57,
     "metadata": {},
     "output_type": "execute_result"
    }
   ],
   "source": [
    "p_50 = x[int(len(x)*0.5)]\n",
    "p_50"
   ]
  },
  {
   "cell_type": "code",
   "execution_count": 24,
   "id": "worldwide-wireless",
   "metadata": {},
   "outputs": [
    {
     "data": {
      "text/plain": [
       "5"
      ]
     },
     "execution_count": 24,
     "metadata": {},
     "output_type": "execute_result"
    }
   ],
   "source": [
    "p_75 = x[int(len(x)*0.75)]\n",
    "p_75"
   ]
  },
  {
   "cell_type": "code",
   "execution_count": 58,
   "id": "realistic-kelly",
   "metadata": {},
   "outputs": [
    {
     "data": {
      "text/plain": [
       "(1.0, 2.0, 5.0)"
      ]
     },
     "execution_count": 58,
     "metadata": {},
     "output_type": "execute_result"
    }
   ],
   "source": [
    "np.percentile(x, 25), np.percentile(x, 50), np.percentile(x, 75)"
   ]
  },
  {
   "cell_type": "markdown",
   "id": "cooperative-mediterranean",
   "metadata": {},
   "source": [
    "### Является ли это распределение нормальным?\n",
    "Нужно понять сколько данных лежит в пределах одного нормально отклонения\n",
    "<br>\n",
    "и сравнить с 25м и 75 процентилями???\n",
    "<br>\n",
    "Медиана должна совпадать со средним\n",
    "<br>\n",
    "Какое равенство строгое или нет нужно использовать в данном случае?"
   ]
  },
  {
   "cell_type": "code",
   "execution_count": 50,
   "id": "representative-flesh",
   "metadata": {},
   "outputs": [
    {
     "data": {
      "text/plain": [
       "array([ True,  True,  True,  True,  True,  True,  True,  True,  True,\n",
       "        True,  True,  True,  True,  True, False, False, False, False,\n",
       "       False, False, False, False, False, False, False, False, False,\n",
       "       False,  True,  True,  True,  True,  True])"
      ]
     },
     "execution_count": 50,
     "metadata": {},
     "output_type": "execute_result"
    }
   ],
   "source": [
    "(x <= p_25) + (x > p_75)"
   ]
  },
  {
   "cell_type": "code",
   "execution_count": 42,
   "id": "lightweight-berkeley",
   "metadata": {},
   "outputs": [
    {
     "data": {
      "text/plain": [
       "0.5757575757575758"
      ]
     },
     "execution_count": 42,
     "metadata": {},
     "output_type": "execute_result"
    }
   ],
   "source": [
    "len(x[((x <= p_25) + (x > p_75))]) / len(x)"
   ]
  },
  {
   "cell_type": "code",
   "execution_count": 43,
   "id": "animal-moscow",
   "metadata": {},
   "outputs": [
    {
     "data": {
      "text/plain": [
       "0.24242424242424243"
      ]
     },
     "execution_count": 43,
     "metadata": {},
     "output_type": "execute_result"
    }
   ],
   "source": [
    "len(x[((x < p_25) + (x > p_75))]) / len(x)"
   ]
  },
  {
   "cell_type": "code",
   "execution_count": 61,
   "id": "beneficial-tactics",
   "metadata": {},
   "outputs": [
    {
     "data": {
      "text/plain": [
       "0.4242424242424242"
      ]
     },
     "execution_count": 61,
     "metadata": {},
     "output_type": "execute_result"
    }
   ],
   "source": [
    "1 - len(x[((x <= p_25) + (x > p_75))]) / len(x)"
   ]
  },
  {
   "cell_type": "code",
   "execution_count": 62,
   "id": "filled-breach",
   "metadata": {},
   "outputs": [
    {
     "data": {
      "text/plain": [
       "0.4242424242424242"
      ]
     },
     "execution_count": 62,
     "metadata": {},
     "output_type": "execute_result"
    }
   ],
   "source": [
    "p_16 = x[int(len(x)*0.16)]\n",
    "p_84 = x[int(len(x)*0.84)]\n",
    "1 - len(x[((x <= p_16) + (x > p_84))]) / len(x)"
   ]
  },
  {
   "cell_type": "code",
   "execution_count": 63,
   "id": "binary-dimension",
   "metadata": {},
   "outputs": [
    {
     "data": {
      "text/plain": [
       "(1, 5)"
      ]
     },
     "execution_count": 63,
     "metadata": {},
     "output_type": "execute_result"
    }
   ],
   "source": [
    "p_16, p_84"
   ]
  },
  {
   "cell_type": "code",
   "execution_count": 54,
   "id": "understood-consequence",
   "metadata": {},
   "outputs": [
    {
     "data": {
      "text/plain": [
       "(0.2479098597978382, 5.9339083220203435)"
      ]
     },
     "execution_count": 54,
     "metadata": {},
     "output_type": "execute_result"
    }
   ],
   "source": [
    "X - std, X + std"
   ]
  },
  {
   "cell_type": "code",
   "execution_count": 56,
   "id": "surprised-oliver",
   "metadata": {},
   "outputs": [
    {
     "data": {
      "text/plain": [
       "array([ 0,  0,  0,  6,  7,  9, 10, 11])"
      ]
     },
     "execution_count": 56,
     "metadata": {},
     "output_type": "execute_result"
    }
   ],
   "source": [
    "x[((x <= X - std) + (x > X + std))]"
   ]
  },
  {
   "cell_type": "code",
   "execution_count": 55,
   "id": "auburn-packing",
   "metadata": {},
   "outputs": [
    {
     "data": {
      "text/plain": [
       "0.7575757575757576"
      ]
     },
     "execution_count": 55,
     "metadata": {},
     "output_type": "execute_result"
    }
   ],
   "source": [
    "1 - len(x[((x <= X - std) + (x > X + std))]) / len(x)"
   ]
  },
  {
   "cell_type": "markdown",
   "id": "racial-nightlife",
   "metadata": {},
   "source": [
    "## 3.2"
   ]
  },
  {
   "cell_type": "code",
   "execution_count": 67,
   "id": "champion-silly",
   "metadata": {},
   "outputs": [],
   "source": [
    "s = [0.74, 0.71, 0.73, 0.7, 0.72]\n",
    "s = np.array(s)"
   ]
  },
  {
   "cell_type": "code",
   "execution_count": 68,
   "id": "planned-intro",
   "metadata": {},
   "outputs": [],
   "source": [
    "x = [3.17, 2.72, 2.63, 2.29, 2.12]\n",
    "x = np.array(x)"
   ]
  },
  {
   "cell_type": "code",
   "execution_count": 81,
   "id": "democratic-forestry",
   "metadata": {},
   "outputs": [
    {
     "data": {
      "text/plain": [
       "(200, 5)"
      ]
     },
     "execution_count": 81,
     "metadata": {},
     "output_type": "execute_result"
    }
   ],
   "source": [
    "n = 200\n",
    "m = len(x)\n",
    "n, m"
   ]
  },
  {
   "cell_type": "code",
   "execution_count": 70,
   "id": "bibliographic-container",
   "metadata": {},
   "outputs": [
    {
     "data": {
      "text/plain": [
       "0.5186"
      ]
     },
     "execution_count": 70,
     "metadata": {},
     "output_type": "execute_result"
    }
   ],
   "source": [
    "s_in = (s**2).mean()\n",
    "s_in"
   ]
  },
  {
   "cell_type": "code",
   "execution_count": 72,
   "id": "swiss-orientation",
   "metadata": {},
   "outputs": [
    {
     "data": {
      "text/plain": [
       "2.586"
      ]
     },
     "execution_count": 72,
     "metadata": {},
     "output_type": "execute_result"
    }
   ],
   "source": [
    "X = x.mean()\n",
    "X"
   ]
  },
  {
   "cell_type": "code",
   "execution_count": 96,
   "id": "expressed-dance",
   "metadata": {},
   "outputs": [
    {
     "data": {
      "text/plain": [
       "0.4079583312055288"
      ]
     },
     "execution_count": 96,
     "metadata": {},
     "output_type": "execute_result"
    }
   ],
   "source": [
    "s = math.sqrt(np.sum((x - X)**2) / (len(x) - 1))\n",
    "s"
   ]
  },
  {
   "cell_type": "code",
   "execution_count": 97,
   "id": "defined-killing",
   "metadata": {},
   "outputs": [
    {
     "data": {
      "text/plain": [
       "33.28599999999999"
      ]
     },
     "execution_count": 97,
     "metadata": {},
     "output_type": "execute_result"
    }
   ],
   "source": [
    "s_out = n*s**2\n",
    "s_out"
   ]
  },
  {
   "cell_type": "code",
   "execution_count": 98,
   "id": "offensive-extra",
   "metadata": {},
   "outputs": [
    {
     "data": {
      "text/plain": [
       "64.18434246047048"
      ]
     },
     "execution_count": 98,
     "metadata": {},
     "output_type": "execute_result"
    }
   ],
   "source": [
    "F = s_out / s_in\n",
    "F"
   ]
  },
  {
   "cell_type": "code",
   "execution_count": 99,
   "id": "bronze-opera",
   "metadata": {},
   "outputs": [
    {
     "data": {
      "text/plain": [
       "(4, 995)"
      ]
     },
     "execution_count": 99,
     "metadata": {},
     "output_type": "execute_result"
    }
   ],
   "source": [
    "nu_in = m - 1\n",
    "nu_out = m*(n-1)\n",
    "nu_in, nu_out"
   ]
  },
  {
   "cell_type": "code",
   "execution_count": 100,
   "id": "animal-circuit",
   "metadata": {},
   "outputs": [],
   "source": [
    "F_max = 8.53 # alpha = 0.05\n",
    "# F_max = 26.13 # alpha = 0.01"
   ]
  },
  {
   "cell_type": "code",
   "execution_count": 101,
   "id": "nominated-freeze",
   "metadata": {},
   "outputs": [
    {
     "data": {
      "text/plain": [
       "True"
      ]
     },
     "execution_count": 101,
     "metadata": {},
     "output_type": "execute_result"
    }
   ],
   "source": [
    "F > F_max"
   ]
  },
  {
   "cell_type": "markdown",
   "id": "mobile-divide",
   "metadata": {},
   "source": [
    "Вывод: отвергаем нулевую гипотезу"
   ]
  },
  {
   "cell_type": "markdown",
   "id": "superior-kenya",
   "metadata": {},
   "source": [
    "## 4.2"
   ]
  },
  {
   "cell_type": "code",
   "execution_count": 102,
   "id": "latter-cross",
   "metadata": {},
   "outputs": [],
   "source": [
    "x = [156, 171, 133, 102, 129, 150, 120, 110, 112, 130, 105]\n",
    "y = [73, 81, 103, 88, 130, 106, 106, 111, 122, 108, 99]\n",
    "\n",
    "x = np.array(x)\n",
    "y = np.array(y)"
   ]
  },
  {
   "cell_type": "code",
   "execution_count": 128,
   "id": "strong-barcelona",
   "metadata": {},
   "outputs": [
    {
     "data": {
      "text/plain": [
       "11"
      ]
     },
     "execution_count": 128,
     "metadata": {},
     "output_type": "execute_result"
    }
   ],
   "source": [
    "n = len(x)\n",
    "n"
   ]
  },
  {
   "cell_type": "code",
   "execution_count": 105,
   "id": "informative-personal",
   "metadata": {},
   "outputs": [
    {
     "data": {
      "text/plain": [
       "(128.9090909090909, 102.45454545454545)"
      ]
     },
     "execution_count": 105,
     "metadata": {},
     "output_type": "execute_result"
    }
   ],
   "source": [
    "x_mean = x.mean()\n",
    "y_mean = y.mean()\n",
    "\n",
    "x_mean, y_mean"
   ]
  },
  {
   "cell_type": "code",
   "execution_count": 139,
   "id": "precious-keeping",
   "metadata": {},
   "outputs": [
    {
     "data": {
      "text/plain": [
       "(21.292143431341675, 16.007746058839686)"
      ]
     },
     "execution_count": 139,
     "metadata": {},
     "output_type": "execute_result"
    }
   ],
   "source": [
    "# we cannot do this\n",
    "x_std = x.std()\n",
    "y_std = y.std()\n",
    "\n",
    "x_std, y_std"
   ]
  },
  {
   "cell_type": "code",
   "execution_count": 149,
   "id": "composite-leader",
   "metadata": {},
   "outputs": [
    {
     "data": {
      "text/plain": [
       "(22.33138842729912, 16.789065705771936)"
      ]
     },
     "execution_count": 149,
     "metadata": {},
     "output_type": "execute_result"
    }
   ],
   "source": [
    "# we need to do this\n",
    "x_std = math.sqrt(np.sum((x-x_mean)**2) / (n-1))\n",
    "y_std = math.sqrt(np.sum((y-y_mean)**2) / (n-1))\n",
    "\n",
    "x_std, y_std"
   ]
  },
  {
   "cell_type": "code",
   "execution_count": 150,
   "id": "american-building",
   "metadata": {},
   "outputs": [
    {
     "data": {
      "text/plain": [
       "390.2818181818182"
      ]
     },
     "execution_count": 150,
     "metadata": {},
     "output_type": "execute_result"
    }
   ],
   "source": [
    "s_2 = (x_std**2 + y_std**2) / 2 # объединенная оценка дисперсии\n",
    "s_2"
   ]
  },
  {
   "cell_type": "code",
   "execution_count": 151,
   "id": "aging-stroke",
   "metadata": {},
   "outputs": [
    {
     "data": {
      "text/plain": [
       "(6.733166951003268, 5.062093775151716)"
      ]
     },
     "execution_count": 151,
     "metadata": {},
     "output_type": "execute_result"
    }
   ],
   "source": [
    "s_x = x_std / math.sqrt(n)\n",
    "s_y = y_std / math.sqrt(n)\n",
    "\n",
    "s_x, s_y # оценка стандартной ошибки среднего"
   ]
  },
  {
   "cell_type": "code",
   "execution_count": 147,
   "id": "numerical-wheat",
   "metadata": {},
   "outputs": [
    {
     "data": {
      "text/plain": [
       "8.020447197830872"
      ]
     },
     "execution_count": 147,
     "metadata": {},
     "output_type": "execute_result"
    }
   ],
   "source": [
    "s_x_y = math.sqrt(s_2 / n + s_2 / n)\n",
    "s_x_y"
   ]
  },
  {
   "cell_type": "code",
   "execution_count": 152,
   "id": "recreational-spencer",
   "metadata": {},
   "outputs": [
    {
     "data": {
      "text/plain": [
       "8.423795497192012"
      ]
     },
     "execution_count": 152,
     "metadata": {},
     "output_type": "execute_result"
    }
   ],
   "source": [
    "s_x_y = math.sqrt(x_std**2 / n + y_std**2 / n) # стандартная ошибка разности средних\n",
    "s_x_y"
   ]
  },
  {
   "cell_type": "code",
   "execution_count": 153,
   "id": "russian-jumping",
   "metadata": {},
   "outputs": [
    {
     "data": {
      "text/plain": [
       "8.42379549719201"
      ]
     },
     "execution_count": 153,
     "metadata": {},
     "output_type": "execute_result"
    }
   ],
   "source": [
    "s_x_y = math.sqrt(s_x**2 + s_y**2) # стандартная ошибка разности средних\n",
    "s_x_y"
   ]
  },
  {
   "cell_type": "code",
   "execution_count": 154,
   "id": "sudden-vitamin",
   "metadata": {},
   "outputs": [
    {
     "data": {
      "text/plain": [
       "3.1404543787137067"
      ]
     },
     "execution_count": 154,
     "metadata": {},
     "output_type": "execute_result"
    }
   ],
   "source": [
    "t = (x_mean - y_mean) / s_x_y\n",
    "t"
   ]
  },
  {
   "cell_type": "code",
   "execution_count": 110,
   "id": "molecular-lawyer",
   "metadata": {},
   "outputs": [
    {
     "data": {
      "text/plain": [
       "20"
      ]
     },
     "execution_count": 110,
     "metadata": {},
     "output_type": "execute_result"
    }
   ],
   "source": [
    "nu = 2*(n-1)\n",
    "nu"
   ]
  },
  {
   "cell_type": "code",
   "execution_count": 111,
   "id": "british-intention",
   "metadata": {},
   "outputs": [],
   "source": [
    "t_max = 3.153 # alpha = 0.05"
   ]
  },
  {
   "cell_type": "code",
   "execution_count": 113,
   "id": "italic-jacket",
   "metadata": {},
   "outputs": [
    {
     "data": {
      "text/plain": [
       "True"
      ]
     },
     "execution_count": 113,
     "metadata": {},
     "output_type": "execute_result"
    }
   ],
   "source": [
    "t > t_max"
   ]
  },
  {
   "cell_type": "markdown",
   "id": "heard-legislature",
   "metadata": {},
   "source": [
    "Вывод: отклоняем нулевую гипотезу"
   ]
  },
  {
   "cell_type": "code",
   "execution_count": 114,
   "id": "governmental-break",
   "metadata": {},
   "outputs": [],
   "source": [
    "from scipy import stats"
   ]
  },
  {
   "cell_type": "code",
   "execution_count": 115,
   "id": "adequate-bryan",
   "metadata": {},
   "outputs": [
    {
     "data": {
      "text/plain": [
       "Ttest_indResult(statistic=3.1404543787137067, pvalue=0.005149435997823374)"
      ]
     },
     "execution_count": 115,
     "metadata": {},
     "output_type": "execute_result"
    }
   ],
   "source": [
    "stats.ttest_ind(x, y)"
   ]
  },
  {
   "cell_type": "code",
   "execution_count": 157,
   "id": "formed-apache",
   "metadata": {},
   "outputs": [
    {
     "data": {
      "text/plain": [
       "0.0051494359978232485"
      ]
     },
     "execution_count": 157,
     "metadata": {},
     "output_type": "execute_result"
    }
   ],
   "source": [
    "(1 - stats.t.cdf(np.abs(t), df=nu)) * 2"
   ]
  },
  {
   "cell_type": "code",
   "execution_count": 159,
   "id": "olive-heater",
   "metadata": {},
   "outputs": [
    {
     "data": {
      "text/plain": [
       "0.005149435997823374"
      ]
     },
     "execution_count": 159,
     "metadata": {},
     "output_type": "execute_result"
    }
   ],
   "source": [
    "# sf: Survival Function (1-CDF)\n",
    "stats.t.sf(np.abs(t), nu)*2"
   ]
  },
  {
   "cell_type": "code",
   "execution_count": null,
   "id": "automated-heading",
   "metadata": {},
   "outputs": [],
   "source": []
  }
 ],
 "metadata": {
  "kernelspec": {
   "display_name": "Python 3",
   "language": "python",
   "name": "python3"
  },
  "language_info": {
   "codemirror_mode": {
    "name": "ipython",
    "version": 3
   },
   "file_extension": ".py",
   "mimetype": "text/x-python",
   "name": "python",
   "nbconvert_exporter": "python",
   "pygments_lexer": "ipython3",
   "version": "3.8.2"
  }
 },
 "nbformat": 4,
 "nbformat_minor": 5
}
