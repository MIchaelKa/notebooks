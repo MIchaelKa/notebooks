{
 "cells": [
  {
   "cell_type": "markdown",
   "id": "859cb619-7e0b-4bfc-9b5f-9b17378c8c99",
   "metadata": {},
   "source": [
    "# Setup dir"
   ]
  },
  {
   "cell_type": "code",
   "execution_count": 43,
   "id": "356ecadd-425e-414f-aae7-63b1abffe7f3",
   "metadata": {},
   "outputs": [
    {
     "name": "stdout",
     "output_type": "stream",
     "text": [
      "/Users/19839701/Developer/python/PaddleOCR\n"
     ]
    }
   ],
   "source": [
    "!pwd"
   ]
  },
  {
   "cell_type": "code",
   "execution_count": 44,
   "id": "71d447dd-9938-42dc-b526-607cbd6c0559",
   "metadata": {},
   "outputs": [
    {
     "name": "stdout",
     "output_type": "stream",
     "text": [
      "/Users/19839701/Developer/python/p3env/bin/python\n"
     ]
    }
   ],
   "source": [
    "!which python"
   ]
  },
  {
   "cell_type": "code",
   "execution_count": 4,
   "id": "33986c00-d6ab-45c0-a141-7c281a6a655e",
   "metadata": {},
   "outputs": [],
   "source": [
    "PADDLE_OCR_DIR = '/Users/19839701/Developer/python/PaddleOCR/'"
   ]
  },
  {
   "cell_type": "code",
   "execution_count": 5,
   "id": "bda5a104-2abf-4748-9354-861b5a1b9964",
   "metadata": {},
   "outputs": [
    {
     "name": "stdout",
     "output_type": "stream",
     "text": [
      "/Users/19839701/Developer/python/PaddleOCR\n"
     ]
    }
   ],
   "source": [
    "%cd {PADDLE_OCR_DIR}"
   ]
  },
  {
   "cell_type": "code",
   "execution_count": 6,
   "id": "d322b3b7-7848-401d-aab1-5004f7705d59",
   "metadata": {},
   "outputs": [
    {
     "name": "stdout",
     "output_type": "stream",
     "text": [
      "/Users/19839701/Developer/python/PaddleOCR\n"
     ]
    }
   ],
   "source": [
    "!pwd"
   ]
  },
  {
   "cell_type": "markdown",
   "id": "e0ca89b7-912b-488c-98cf-b764b263821e",
   "metadata": {},
   "source": [
    "# Setup Dataset"
   ]
  },
  {
   "cell_type": "code",
   "execution_count": 7,
   "id": "3bfa2a5a-f06a-4904-bd94-e2ce906c72cf",
   "metadata": {},
   "outputs": [],
   "source": [
    "from ppocr.data.lmdb_dataset import LMDBDataSet\n",
    "from tools.program import load_config"
   ]
  },
  {
   "cell_type": "code",
   "execution_count": 38,
   "id": "5ec04438-5d3d-482d-8290-4eb8e8f4c2fd",
   "metadata": {},
   "outputs": [],
   "source": [
    "from matplotlib import pyplot as plt\n",
    "import numpy as np"
   ]
  },
  {
   "cell_type": "code",
   "execution_count": 8,
   "id": "a2242e2a-5836-4138-af27-90addbf304b5",
   "metadata": {},
   "outputs": [],
   "source": [
    "DATA_LMDB_DIR = '/Users/19839701/Developer/other/paddle_train/data_lmdb_release'"
   ]
  },
  {
   "cell_type": "code",
   "execution_count": 13,
   "id": "3a552922-38e9-4fbd-8733-cfa89368c5d3",
   "metadata": {},
   "outputs": [],
   "source": [
    "config_name = './configs/rec/rec_mv3_none_bilstm_ctc.yml'"
   ]
  },
  {
   "cell_type": "code",
   "execution_count": 14,
   "id": "19a642c1-32db-4fa1-aaf2-581c38d6ad39",
   "metadata": {},
   "outputs": [],
   "source": [
    "config = load_config(config_name)"
   ]
  },
  {
   "cell_type": "code",
   "execution_count": 17,
   "id": "e246256d-b00c-46e0-9892-361b8f50b7cf",
   "metadata": {},
   "outputs": [],
   "source": [
    "# config"
   ]
  },
  {
   "cell_type": "code",
   "execution_count": 24,
   "id": "a7cf97bf-dfd8-4516-829f-2d15bc24184d",
   "metadata": {},
   "outputs": [],
   "source": [
    "class SimpleLogger(): \n",
    "    def info(self, message):\n",
    "        print(message)"
   ]
  },
  {
   "cell_type": "code",
   "execution_count": 25,
   "id": "6b22a26b-8b8e-427d-a729-91af89eda401",
   "metadata": {},
   "outputs": [
    {
     "name": "stdout",
     "output_type": "stream",
     "text": [
      "Initialize indexs of datasets:./train_data/data_lmdb_release/training/\n",
      "[2022/12/13 12:25:10] ppocr WARNING: The character_dict_path is None, model can only recognize number and lower letters\n"
     ]
    }
   ],
   "source": [
    "mode = 'Train'\n",
    "logger = SimpleLogger()\n",
    "dataset = LMDBDataSet(config, mode, logger, seed=None)"
   ]
  },
  {
   "cell_type": "code",
   "execution_count": 26,
   "id": "0eac582d-8aed-4a0f-ab18-13c61fe17c3c",
   "metadata": {},
   "outputs": [
    {
     "data": {
      "text/plain": [
       "14442049"
      ]
     },
     "execution_count": 26,
     "metadata": {},
     "output_type": "execute_result"
    }
   ],
   "source": [
    "len(dataset)"
   ]
  },
  {
   "cell_type": "code",
   "execution_count": 33,
   "id": "d19abe87-d7ec-4259-9f2d-d1b67eba5aaa",
   "metadata": {},
   "outputs": [],
   "source": [
    "sample = dataset[1]"
   ]
  },
  {
   "cell_type": "code",
   "execution_count": 34,
   "id": "3df38ada-9925-4576-80af-7fb3bc833f77",
   "metadata": {},
   "outputs": [
    {
     "data": {
      "text/plain": [
       "(list,\n",
       " 3,\n",
       " numpy.ndarray,\n",
       " (3, 32, 100),\n",
       " array([22, 25, 29, 30,  0,  0,  0,  0,  0,  0,  0,  0,  0,  0,  0,  0,  0,\n",
       "         0,  0,  0,  0,  0,  0,  0,  0]),\n",
       " array(4))"
      ]
     },
     "execution_count": 34,
     "metadata": {},
     "output_type": "execute_result"
    }
   ],
   "source": [
    "type(sample), len(sample), type(sample[0]), sample[0].shape, sample[1], sample[2]"
   ]
  },
  {
   "cell_type": "code",
   "execution_count": 42,
   "id": "c50594ce-f6ce-4839-a8b2-8740084ff52b",
   "metadata": {},
   "outputs": [
    {
     "name": "stderr",
     "output_type": "stream",
     "text": [
      "Clipping input data to the valid range for imshow with RGB data ([0..1] for floats or [0..255] for integers).\n"
     ]
    },
    {
     "data": {
      "text/plain": [
       "<matplotlib.image.AxesImage at 0x15daedee0>"
      ]
     },
     "execution_count": 42,
     "metadata": {},
     "output_type": "execute_result"
    },
    {
     "data": {
      "image/png": "[encoded data removed]",
      "text/plain": [
       "<Figure size 600x200 with 1 Axes>"
      ]
     },
     "metadata": {},
     "output_type": "display_data"
    }
   ],
   "source": [
    "plt.figure(figsize=(6,2))\n",
    "plt.imshow(np.transpose(sample[0], (1, 2, 0)))"
   ]
  },
  {
   "cell_type": "code",
   "execution_count": null,
   "id": "9b687a7f-d162-49d6-b1bd-60b06ce9c6d7",
   "metadata": {},
   "outputs": [],
   "source": []
  }
 ],
 "metadata": {
  "kernelspec": {
   "display_name": "venv_paddle_ocr",
   "language": "python",
   "name": "venv_paddle_ocr"
  },
  "language_info": {
   "codemirror_mode": {
    "name": "ipython",
    "version": 3
   },
   "file_extension": ".py",
   "mimetype": "text/x-python",
   "name": "python",
   "nbconvert_exporter": "python",
   "pygments_lexer": "ipython3",
   "version": "3.8.9"
  }
 },
 "nbformat": 4,
 "nbformat_minor": 5
}
