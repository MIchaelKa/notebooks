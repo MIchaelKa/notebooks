{
 "cells": [
  {
   "cell_type": "code",
   "execution_count": 1,
   "id": "6029d832",
   "metadata": {},
   "outputs": [],
   "source": [
    "import torch\n",
    "import torch.onnx\n",
    "import torchvision\n",
    "from torchsummary import summary"
   ]
  },
  {
   "cell_type": "code",
   "execution_count": 2,
   "id": "aac1291d",
   "metadata": {},
   "outputs": [],
   "source": [
    "# Standard ImageNet input - 3 channels, 224x224,\n",
    "# values don't matter as we care about network structure.\n",
    "# But they can also be real inputs.\n",
    "dummy_input = torch.randn(1, 3, 224, 224)\n",
    "dummy_input_2 = torch.randn(1, 600, 600, 3)\n",
    "dummy_input_3 = torch.randn(1, 224, 224, 3)"
   ]
  },
  {
   "cell_type": "code",
   "execution_count": 3,
   "id": "b465a2a9",
   "metadata": {},
   "outputs": [],
   "source": [
    "# Obtain your model, it can be also constructed in your script explicitly\n",
    "# model = torchvision.models.alexnet(pretrained=True)\n",
    "model = torchvision.models.resnet18(pretrained=True)"
   ]
  },
  {
   "cell_type": "code",
   "execution_count": 8,
   "id": "685fec6e",
   "metadata": {},
   "outputs": [],
   "source": [
    "class ModelWrapper(torch.nn.Module):\n",
    "    def __init__(self):\n",
    "        super().__init__()\n",
    "        self.backbone = torchvision.models.resnet18(pretrained=True)   \n",
    "\n",
    "    def forward(self, x): \n",
    "        # x = torch.permute(x, (0, 3, 1, 2))\n",
    "        x = self.backbone(x)\n",
    "        return x"
   ]
  },
  {
   "cell_type": "code",
   "execution_count": 9,
   "id": "7fc687b5",
   "metadata": {},
   "outputs": [],
   "source": [
    "model = ModelWrapper()"
   ]
  },
  {
   "cell_type": "code",
   "execution_count": 10,
   "id": "8b3cf70d",
   "metadata": {},
   "outputs": [],
   "source": [
    "# model"
   ]
  },
  {
   "cell_type": "code",
   "execution_count": 11,
   "id": "d417b2ae",
   "metadata": {},
   "outputs": [],
   "source": [
    "dummy_output = model(dummy_input)"
   ]
  },
  {
   "cell_type": "code",
   "execution_count": 12,
   "id": "230dc9bd",
   "metadata": {},
   "outputs": [
    {
     "data": {
      "text/plain": [
       "torch.Size([1, 1000])"
      ]
     },
     "execution_count": 12,
     "metadata": {},
     "output_type": "execute_result"
    }
   ],
   "source": [
    "dummy_output.shape"
   ]
  },
  {
   "cell_type": "code",
   "execution_count": 13,
   "id": "78ec5b75",
   "metadata": {},
   "outputs": [],
   "source": [
    "#\n",
    "# Computes the number of trainable parameters\n",
    "#\n",
    "# Sourse:\n",
    "# https://discuss.pytorch.org/t/how-do-i-check-the-number-of-parameters-of-a-model/4325\n",
    "#\n",
    "def get_num_of_params(model):\n",
    "    return sum(p.numel() for p in model.parameters() if p.requires_grad)"
   ]
  },
  {
   "cell_type": "code",
   "execution_count": 14,
   "id": "852d1ac5",
   "metadata": {},
   "outputs": [
    {
     "data": {
      "text/plain": [
       "11689512"
      ]
     },
     "execution_count": 14,
     "metadata": {},
     "output_type": "execute_result"
    }
   ],
   "source": [
    "get_num_of_params(model)"
   ]
  },
  {
   "cell_type": "code",
   "execution_count": 15,
   "id": "287077ed",
   "metadata": {},
   "outputs": [],
   "source": [
    "def get_size_of_model(model):\n",
    "    param_size = 0\n",
    "    for param in model.parameters():\n",
    "        param_size += param.nelement() * param.element_size()\n",
    "        \n",
    "    buffer_size = 0\n",
    "    for buffer in model.buffers():\n",
    "        buffer_size += buffer.nelement() * buffer.element_size()\n",
    "\n",
    "    size_all_mb = (param_size + buffer_size) / 1024**2\n",
    "    \n",
    "    print('model size: {:.3f}MB'.format(size_all_mb))"
   ]
  },
  {
   "cell_type": "code",
   "execution_count": 16,
   "id": "d51de090",
   "metadata": {},
   "outputs": [
    {
     "name": "stdout",
     "output_type": "stream",
     "text": [
      "model size: 44.629MB\n"
     ]
    }
   ],
   "source": [
    "get_size_of_model(model)"
   ]
  },
  {
   "cell_type": "code",
   "execution_count": 17,
   "id": "e3da9b42",
   "metadata": {},
   "outputs": [
    {
     "name": "stdout",
     "output_type": "stream",
     "text": [
      "----------------------------------------------------------------\n",
      "        Layer (type)               Output Shape         Param #\n",
      "================================================================\n",
      "            Conv2d-1         [-1, 64, 112, 112]           9,408\n",
      "       BatchNorm2d-2         [-1, 64, 112, 112]             128\n",
      "              ReLU-3         [-1, 64, 112, 112]               0\n",
      "         MaxPool2d-4           [-1, 64, 56, 56]               0\n",
      "            Conv2d-5           [-1, 64, 56, 56]          36,864\n",
      "       BatchNorm2d-6           [-1, 64, 56, 56]             128\n",
      "              ReLU-7           [-1, 64, 56, 56]               0\n",
      "            Conv2d-8           [-1, 64, 56, 56]          36,864\n",
      "       BatchNorm2d-9           [-1, 64, 56, 56]             128\n",
      "             ReLU-10           [-1, 64, 56, 56]               0\n",
      "       BasicBlock-11           [-1, 64, 56, 56]               0\n",
      "           Conv2d-12           [-1, 64, 56, 56]          36,864\n",
      "      BatchNorm2d-13           [-1, 64, 56, 56]             128\n",
      "             ReLU-14           [-1, 64, 56, 56]               0\n",
      "           Conv2d-15           [-1, 64, 56, 56]          36,864\n",
      "      BatchNorm2d-16           [-1, 64, 56, 56]             128\n",
      "             ReLU-17           [-1, 64, 56, 56]               0\n",
      "       BasicBlock-18           [-1, 64, 56, 56]               0\n",
      "           Conv2d-19          [-1, 128, 28, 28]          73,728\n",
      "      BatchNorm2d-20          [-1, 128, 28, 28]             256\n",
      "             ReLU-21          [-1, 128, 28, 28]               0\n",
      "           Conv2d-22          [-1, 128, 28, 28]         147,456\n",
      "      BatchNorm2d-23          [-1, 128, 28, 28]             256\n",
      "           Conv2d-24          [-1, 128, 28, 28]           8,192\n",
      "      BatchNorm2d-25          [-1, 128, 28, 28]             256\n",
      "             ReLU-26          [-1, 128, 28, 28]               0\n",
      "       BasicBlock-27          [-1, 128, 28, 28]               0\n",
      "           Conv2d-28          [-1, 128, 28, 28]         147,456\n",
      "      BatchNorm2d-29          [-1, 128, 28, 28]             256\n",
      "             ReLU-30          [-1, 128, 28, 28]               0\n",
      "           Conv2d-31          [-1, 128, 28, 28]         147,456\n",
      "      BatchNorm2d-32          [-1, 128, 28, 28]             256\n",
      "             ReLU-33          [-1, 128, 28, 28]               0\n",
      "       BasicBlock-34          [-1, 128, 28, 28]               0\n",
      "           Conv2d-35          [-1, 256, 14, 14]         294,912\n",
      "      BatchNorm2d-36          [-1, 256, 14, 14]             512\n",
      "             ReLU-37          [-1, 256, 14, 14]               0\n",
      "           Conv2d-38          [-1, 256, 14, 14]         589,824\n",
      "      BatchNorm2d-39          [-1, 256, 14, 14]             512\n",
      "           Conv2d-40          [-1, 256, 14, 14]          32,768\n",
      "      BatchNorm2d-41          [-1, 256, 14, 14]             512\n",
      "             ReLU-42          [-1, 256, 14, 14]               0\n",
      "       BasicBlock-43          [-1, 256, 14, 14]               0\n",
      "           Conv2d-44          [-1, 256, 14, 14]         589,824\n",
      "      BatchNorm2d-45          [-1, 256, 14, 14]             512\n",
      "             ReLU-46          [-1, 256, 14, 14]               0\n",
      "           Conv2d-47          [-1, 256, 14, 14]         589,824\n",
      "      BatchNorm2d-48          [-1, 256, 14, 14]             512\n",
      "             ReLU-49          [-1, 256, 14, 14]               0\n",
      "       BasicBlock-50          [-1, 256, 14, 14]               0\n",
      "           Conv2d-51            [-1, 512, 7, 7]       1,179,648\n",
      "      BatchNorm2d-52            [-1, 512, 7, 7]           1,024\n",
      "             ReLU-53            [-1, 512, 7, 7]               0\n",
      "           Conv2d-54            [-1, 512, 7, 7]       2,359,296\n",
      "      BatchNorm2d-55            [-1, 512, 7, 7]           1,024\n",
      "           Conv2d-56            [-1, 512, 7, 7]         131,072\n",
      "      BatchNorm2d-57            [-1, 512, 7, 7]           1,024\n",
      "             ReLU-58            [-1, 512, 7, 7]               0\n",
      "       BasicBlock-59            [-1, 512, 7, 7]               0\n",
      "           Conv2d-60            [-1, 512, 7, 7]       2,359,296\n",
      "      BatchNorm2d-61            [-1, 512, 7, 7]           1,024\n",
      "             ReLU-62            [-1, 512, 7, 7]               0\n",
      "           Conv2d-63            [-1, 512, 7, 7]       2,359,296\n",
      "      BatchNorm2d-64            [-1, 512, 7, 7]           1,024\n",
      "             ReLU-65            [-1, 512, 7, 7]               0\n",
      "       BasicBlock-66            [-1, 512, 7, 7]               0\n",
      "AdaptiveAvgPool2d-67            [-1, 512, 1, 1]               0\n",
      "           Linear-68                 [-1, 1000]         513,000\n",
      "           ResNet-69                 [-1, 1000]               0\n",
      "================================================================\n",
      "Total params: 11,689,512\n",
      "Trainable params: 11,689,512\n",
      "Non-trainable params: 0\n",
      "----------------------------------------------------------------\n",
      "Input size (MB): 0.57\n",
      "Forward/backward pass size (MB): 62.80\n",
      "Params size (MB): 44.59\n",
      "Estimated Total Size (MB): 107.97\n",
      "----------------------------------------------------------------\n"
     ]
    }
   ],
   "source": [
    "summary(model, (3, 224, 224))"
   ]
  },
  {
   "cell_type": "code",
   "execution_count": 18,
   "id": "22b8931b",
   "metadata": {},
   "outputs": [],
   "source": [
    "# Invoke export\n",
    "input_names = [\"input_1\"]\n",
    "output_names = [\"output_1\"]\n",
    "\n",
    "torch.onnx.export(\n",
    "    model,\n",
    "    dummy_input, \n",
    "    \"models/resnet18chw.onnx\",\n",
    "    opset_version=12,\n",
    "    input_names=input_names,\n",
    "    output_names=output_names\n",
    ")"
   ]
  },
  {
   "cell_type": "markdown",
   "id": "4116d100-125d-48d3-826b-293beba7c6e9",
   "metadata": {},
   "source": [
    "# ONNX to ORT"
   ]
  },
  {
   "cell_type": "code",
   "execution_count": 27,
   "id": "8091d16e",
   "metadata": {},
   "outputs": [],
   "source": [
    "MODEL_NAME=\"./models/resnet18.onnx\""
   ]
  },
  {
   "cell_type": "code",
   "execution_count": 28,
   "id": "5d94837c",
   "metadata": {},
   "outputs": [
    {
     "name": "stdout",
     "output_type": "stream",
     "text": [
      "Converting models with optimization style 'Fixed' and level 'all'\n",
      "Converting optimized ONNX model /Users/19839701/Developer/python/notebooks_test/models/resnet18.onnx to ORT format model /Users/19839701/Developer/python/notebooks_test/models/resnet18.ort\n",
      "Converted 1/1 models successfully.\n",
      "Generating config file from ORT format models with optimization style 'Fixed' and level 'all'\n",
      "2022-10-21 11:21:41,065 ort_format_model.utils [INFO] - Created config in /Users/19839701/Developer/python/notebooks_test/models/resnet18.required_operators.config\n",
      "Converting models with optimization style 'Runtime' and level 'all'\n",
      "Converting optimized ONNX model /Users/19839701/Developer/python/notebooks_test/models/resnet18.onnx to ORT format model /Users/19839701/Developer/python/notebooks_test/models/resnet18.with_runtime_opt.ort\n",
      "Converted 1/1 models successfully.\n",
      "Converting models again without runtime optimizations to generate a complete config file. These converted models are temporary and will be deleted.\n",
      "Converting optimized ONNX model /Users/19839701/Developer/python/notebooks_test/models/resnet18.onnx to ORT format model /Users/19839701/Developer/python/notebooks_test/models/tmpwgvdh4hw.without_runtime_opt/resnet18.ort\n",
      "Converted 1/1 models successfully.\n",
      "Generating config file from ORT format models with optimization style 'Runtime' and level 'all'\n",
      "2022-10-21 11:21:41,761 ort_format_model.utils [INFO] - Created config in /Users/19839701/Developer/python/notebooks_test/models/resnet18.required_operators.with_runtime_opt.config\n"
     ]
    }
   ],
   "source": [
    "!python3 -m onnxruntime.tools.convert_onnx_models_to_ort {MODEL_NAME}"
   ]
  },
  {
   "cell_type": "code",
   "execution_count": null,
   "id": "b747fcdc-2910-499f-bbe7-9369a08ea638",
   "metadata": {},
   "outputs": [],
   "source": [
    "python -m onnxruntime.tools.convert_onnx_models_to_ort ./models/idp/resnet18_mobile_numbers_quantized/resnet18_mobile_numbers_quantized.onnx"
   ]
  },
  {
   "cell_type": "markdown",
   "id": "5bd6296c",
   "metadata": {},
   "source": [
    "# Inspecting model"
   ]
  },
  {
   "cell_type": "code",
   "execution_count": 2,
   "id": "cae71f14",
   "metadata": {},
   "outputs": [],
   "source": [
    "import onnx"
   ]
  },
  {
   "cell_type": "code",
   "execution_count": 3,
   "id": "6734602d",
   "metadata": {},
   "outputs": [
    {
     "name": "stdout",
     "output_type": "stream",
     "text": [
      "alexnet.onnx               \u001b[34men_PP-OCRv3_rec_slim_infer\u001b[m\u001b[m\n",
      "capturing_2305.onnx        resnet18.mlmodel\n",
      "dbnet.onnx                 resnet18.onnx\n",
      "\u001b[34men_PP-OCRv3_rec_infer\u001b[m\u001b[m      resnet18chw.onnx\n"
     ]
    }
   ],
   "source": [
    "!ls models"
   ]
  },
  {
   "cell_type": "code",
   "execution_count": 4,
   "id": "328c37b8",
   "metadata": {},
   "outputs": [],
   "source": [
    "# Load the ONNX model\n",
    "onnx_model = onnx.load(\"models/capturing_2305.onnx\")\n",
    "\n",
    "# Check that the IR is well formed\n",
    "onnx.checker.check_model(onnx_model)"
   ]
  },
  {
   "cell_type": "code",
   "execution_count": 29,
   "id": "81627f93",
   "metadata": {},
   "outputs": [],
   "source": [
    "# Print a human readable representation of the graph\n",
    "# print(onnx.helper.printable_graph(onnx_model.graph))"
   ]
  },
  {
   "cell_type": "code",
   "execution_count": 18,
   "id": "12aa9c14",
   "metadata": {},
   "outputs": [
    {
     "name": "stdout",
     "output_type": "stream",
     "text": [
      "/Users/19839701/Developer/python/notebooks\n"
     ]
    }
   ],
   "source": [
    "!pwd"
   ]
  },
  {
   "cell_type": "code",
   "execution_count": 20,
   "id": "c87a5d3e",
   "metadata": {},
   "outputs": [
    {
     "name": "stdout",
     "output_type": "stream",
     "text": [
      "/Users/19839701/Developer/python/capturing\n"
     ]
    }
   ],
   "source": [
    "!cd ../capturing/ && pwd"
   ]
  },
  {
   "cell_type": "code",
   "execution_count": 21,
   "id": "7000a78a",
   "metadata": {},
   "outputs": [
    {
     "name": "stdout",
     "output_type": "stream",
     "text": [
      "Traceback (most recent call last):\n",
      "  File \"inference.py\", line 12, in <module>\n",
      "    model = onnxruntime.InferenceSession(path2_best_model,\n",
      "  File \"/Users/19839701/Developer/python/p3env/lib/python3.8/site-packages/onnxruntime/capi/onnxruntime_inference_collection.py\", line 335, in __init__\n",
      "    self._create_inference_session(providers, provider_options, disabled_optimizers)\n",
      "  File \"/Users/19839701/Developer/python/p3env/lib/python3.8/site-packages/onnxruntime/capi/onnxruntime_inference_collection.py\", line 370, in _create_inference_session\n",
      "    sess = C.InferenceSession(session_options, self._model_path, True, self._read_config_from_model)\n",
      "onnxruntime.capi.onnxruntime_pybind11_state.NoSuchFile: [ONNXRuntimeError] : 3 : NO_SUCHFILE : Load model from ./capturing2405.onnx failed:Load model ./capturing2405.onnx failed. File doesn't exist\n"
     ]
    }
   ],
   "source": [
    "!cd ../capturing/ && python inference.py"
   ]
  },
  {
   "cell_type": "markdown",
   "id": "8a2d836f",
   "metadata": {},
   "source": [
    "# pytorch to coreml\n",
    "https://coremltools.readme.io/docs/pytorch-conversion"
   ]
  },
  {
   "cell_type": "code",
   "execution_count": 14,
   "id": "07fdcf2a",
   "metadata": {},
   "outputs": [],
   "source": [
    "# !pip install coremltools"
   ]
  },
  {
   "cell_type": "code",
   "execution_count": 15,
   "id": "3b1b93c3",
   "metadata": {},
   "outputs": [
    {
     "name": "stderr",
     "output_type": "stream",
     "text": [
      "WARNING:root:Torch version 1.11.0 has not been tested with coremltools. You may run into unexpected errors. Torch 1.10.2 is the most recent version that has been tested.\n"
     ]
    }
   ],
   "source": [
    "import coremltools as ct"
   ]
  },
  {
   "cell_type": "code",
   "execution_count": 6,
   "id": "ca3e2c2b",
   "metadata": {},
   "outputs": [],
   "source": [
    "model = model.eval()"
   ]
  },
  {
   "cell_type": "code",
   "execution_count": 8,
   "id": "4f905618",
   "metadata": {},
   "outputs": [],
   "source": [
    "traced_model = torch.jit.trace(model, dummy_input)\n",
    "out = traced_model(dummy_input)"
   ]
  },
  {
   "cell_type": "code",
   "execution_count": 10,
   "id": "1a62bd56",
   "metadata": {},
   "outputs": [
    {
     "data": {
      "text/plain": [
       "torch.Size([1, 1000])"
      ]
     },
     "execution_count": 10,
     "metadata": {},
     "output_type": "execute_result"
    }
   ],
   "source": [
    "out.shape"
   ]
  },
  {
   "cell_type": "code",
   "execution_count": 16,
   "id": "479948c5",
   "metadata": {},
   "outputs": [],
   "source": [
    "# traced_model"
   ]
  },
  {
   "cell_type": "code",
   "execution_count": 18,
   "id": "5e7366cf",
   "metadata": {},
   "outputs": [
    {
     "name": "stderr",
     "output_type": "stream",
     "text": [
      "Converting Frontend ==> MIL Ops: 100%|██████████████████████████████████████████████▊| 202/203 [00:00<00:00, 2623.44 ops/s]\n",
      "Running MIL Common passes:   0%|                                                               | 0/34 [00:00<?, ? passes/s]/Users/19839701/Developer/python/p3env/lib/python3.8/site-packages/coremltools/converters/mil/mil/passes/name_sanitization_utils.py:101: UserWarning: Input, 'x.1', of the source model, has been renamed to 'x_1' in the Core ML model.\n",
      "  warnings.warn(msg.format(var.name, new_name))\n",
      "/Users/19839701/Developer/python/p3env/lib/python3.8/site-packages/coremltools/converters/mil/mil/passes/name_sanitization_utils.py:129: UserWarning: Output, '362', of the source model, has been renamed to 'var_362' in the Core ML model.\n",
      "  warnings.warn(msg.format(var.name, new_name))\n",
      "Running MIL Common passes: 100%|█████████████████████████████████████████████████████| 34/34 [00:00<00:00, 123.94 passes/s]\n",
      "Running MIL Clean up passes: 100%|█████████████████████████████████████████████████████| 9/9 [00:00<00:00, 147.22 passes/s]\n",
      "Translating MIL ==> NeuralNetwork Ops: 100%|██████████████████████████████████████████| 184/184 [00:00<00:00, 209.11 ops/s]\n"
     ]
    }
   ],
   "source": [
    "# Using image_input in the inputs parameter:\n",
    "# Convert to Core ML using the Unified Conversion API.\n",
    "coreml_model = ct.convert(\n",
    "    traced_model,\n",
    "#     inputs=[ct.TensorType(shape=dummy_input.shape)]\n",
    "    inputs=[ct.ImageType(shape=dummy_input.shape)]\n",
    ")"
   ]
  },
  {
   "cell_type": "code",
   "execution_count": 21,
   "id": "2720132b",
   "metadata": {},
   "outputs": [],
   "source": [
    "# Save the converted model.\n",
    "coreml_model.save(\"resnet18.mlmodel\")"
   ]
  },
  {
   "cell_type": "code",
   "execution_count": null,
   "id": "1eb3008b",
   "metadata": {},
   "outputs": [],
   "source": []
  }
 ],
 "metadata": {
  "kernelspec": {
   "display_name": "Python 3 (ipykernel)",
   "language": "python",
   "name": "python3"
  },
  "language_info": {
   "codemirror_mode": {
    "name": "ipython",
    "version": 3
   },
   "file_extension": ".py",
   "mimetype": "text/x-python",
   "name": "python",
   "nbconvert_exporter": "python",
   "pygments_lexer": "ipython3",
   "version": "3.8.9"
  }
 },
 "nbformat": 4,
 "nbformat_minor": 5
}
