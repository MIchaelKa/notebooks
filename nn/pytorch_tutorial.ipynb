{
 "cells": [
  {
   "cell_type": "code",
   "execution_count": null,
   "id": "b4f79391-6e18-492b-8e9f-e715e8d34e96",
   "metadata": {},
   "outputs": [],
   "source": [
    "import torch\n",
    "import numpy as np"
   ]
  },
  {
   "cell_type": "markdown",
   "id": "ed067931-6fe8-48eb-8e24-050d6e5fd695",
   "metadata": {},
   "source": [
    "# View"
   ]
  },
  {
   "cell_type": "code",
   "execution_count": null,
   "id": "566b2a4f-e547-4bd2-9100-5e4f033d015e",
   "metadata": {},
   "outputs": [],
   "source": [
    "torch.tensor([0, 0, 1]).view(1, 3, 1, 1).shape"
   ]
  },
  {
   "cell_type": "code",
   "execution_count": null,
   "id": "94e0664e-41b3-40fd-8113-b8882e71d836",
   "metadata": {},
   "outputs": [],
   "source": [
    "torch.tensor([0, 0, 1])"
   ]
  },
  {
   "cell_type": "code",
   "execution_count": null,
   "id": "a41eddc8-3845-4c70-b38d-54e6dee7c8f1",
   "metadata": {},
   "outputs": [],
   "source": [
    "a = torch.tensor([0, 0, 1]).view(1, 3, 1, 1)"
   ]
  },
  {
   "cell_type": "code",
   "execution_count": null,
   "id": "7c0dd034-12d5-4fed-8d0b-06fe52fe563e",
   "metadata": {},
   "outputs": [],
   "source": [
    "a"
   ]
  },
  {
   "cell_type": "markdown",
   "id": "75b87fdd-ab8f-4f12-839b-5c7dde9ffdd9",
   "metadata": {},
   "source": [
    "# Batch Normalization"
   ]
  },
  {
   "cell_type": "code",
   "execution_count": null,
   "id": "7bb4dfe7-d59d-4d81-8fc7-1caed7fdfc34",
   "metadata": {},
   "outputs": [],
   "source": [
    "N,C,H,W = 4,3,15,15"
   ]
  },
  {
   "cell_type": "code",
   "execution_count": null,
   "id": "aa57e452-e6ae-44b0-b2c3-ec8e41a5834e",
   "metadata": {},
   "outputs": [],
   "source": [
    "x = torch.randn(N,C,H,W)"
   ]
  },
  {
   "cell_type": "code",
   "execution_count": null,
   "id": "edce04e0-8a61-4d15-a23d-68af2ebea7de",
   "metadata": {},
   "outputs": [],
   "source": [
    "x.mean(), x.var(), x.shape"
   ]
  },
  {
   "cell_type": "code",
   "execution_count": null,
   "id": "d6c49f13-ee27-412b-b631-2e0e62f709e9",
   "metadata": {},
   "outputs": [],
   "source": [
    "x_mean = x.mean(axis=(0,2,3))\n",
    "x_mean"
   ]
  },
  {
   "cell_type": "markdown",
   "id": "609b826b-6d43-4ebe-9527-79b12f41c61a",
   "metadata": {},
   "source": [
    "# Indexing"
   ]
  },
  {
   "cell_type": "code",
   "execution_count": null,
   "id": "f3e92deb-26ef-44b5-ade3-ef4b962e7b67",
   "metadata": {},
   "outputs": [],
   "source": [
    "tensor = torch.arange(0,36).reshape(6,6)\n",
    "mask = torch.tensor([1,0,1,0,0,1], dtype=torch.bool)\n",
    "tensor[mask]"
   ]
  },
  {
   "cell_type": "code",
   "execution_count": null,
   "id": "6aa25dbf-553e-4c50-b343-8f39d63e88e0",
   "metadata": {},
   "outputs": [],
   "source": [
    "array1 = np.array([1, 2, 3, 4, 5, 6, 7, 8, 9, 10])\n",
    "boolean_mask = array1 % 2 != 0\n",
    "array1[boolean_mask]"
   ]
  },
  {
   "cell_type": "code",
   "execution_count": null,
   "id": "ae2ca9d2-2b61-46ea-8be5-32326f88aca9",
   "metadata": {},
   "outputs": [],
   "source": [
    "tensor = torch.tensor([1,0,1,0,0,1])\n",
    "nz = torch.nonzero(tensor)\n",
    "nz.squeeze(), nz.shape, tensor.shape"
   ]
  },
  {
   "cell_type": "code",
   "execution_count": null,
   "id": "e20a4353-2197-4c4b-8b3e-11cc8444ad91",
   "metadata": {},
   "outputs": [],
   "source": [
    "tensor = torch.tensor([1,0,1,0,0,1], dtype=torch.bool)\n",
    "nz = torch.nonzero(tensor)\n",
    "nz.squeeze(), nz.shape, tensor.shape"
   ]
  },
  {
   "cell_type": "markdown",
   "id": "1c8e4fe2-5713-4aa5-af14-ad10fe01a106",
   "metadata": {},
   "source": [
    "# Broadcasting"
   ]
  },
  {
   "cell_type": "markdown",
   "id": "90d3cde6-e941-4ed9-a6be-55e4f21cb1d2",
   "metadata": {},
   "source": [
    "Пример: к какой фичамапе относится каждый индекс?"
   ]
  },
  {
   "cell_type": "code",
   "execution_count": null,
   "id": "8dd92363-a978-4374-b006-20995c2ff308",
   "metadata": {},
   "outputs": [],
   "source": [
    "a = torch.tensor([10,20,30])\n",
    "# b = torch.tensor([1,2,5,7,14,22,29])\n",
    "b = torch.tensor([1,2,5,7,8,25])"
   ]
  },
  {
   "cell_type": "code",
   "execution_count": null,
   "id": "75056352-4727-40da-a855-c82a804138ea",
   "metadata": {},
   "outputs": [],
   "source": [
    "b.unsqueeze(1) > a"
   ]
  },
  {
   "cell_type": "code",
   "execution_count": null,
   "id": "d3f0b0f1-cf59-479d-9134-0e876c54a289",
   "metadata": {},
   "outputs": [],
   "source": [
    "(b.unsqueeze(1) > a).sum(1)"
   ]
  },
  {
   "cell_type": "code",
   "execution_count": null,
   "id": "6f4f8858-6b77-4ba6-b222-a911fbb503b5",
   "metadata": {},
   "outputs": [],
   "source": [
    "torch.bincount((b.unsqueeze(1) > a).sum(1))"
   ]
  },
  {
   "cell_type": "code",
   "execution_count": null,
   "id": "083695a6-30f3-46c1-873c-be1dc69cd963",
   "metadata": {},
   "outputs": [],
   "source": [
    "torch.unique((b.unsqueeze(1) > a).sum(1), return_counts=True)"
   ]
  }
 ],
 "metadata": {
  "kernelspec": {
   "display_name": "openmmlab",
   "language": "python",
   "name": "openmmlab"
  },
  "language_info": {
   "codemirror_mode": {
    "name": "ipython",
    "version": 3
   },
   "file_extension": ".py",
   "mimetype": "text/x-python",
   "name": "python",
   "nbconvert_exporter": "python",
   "pygments_lexer": "ipython3",
   "version": "3.8.17"
  }
 },
 "nbformat": 4,
 "nbformat_minor": 5
}
