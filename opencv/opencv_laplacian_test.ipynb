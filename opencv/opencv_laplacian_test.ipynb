{
 "cells": [
  {
   "cell_type": "code",
   "execution_count": null,
   "id": "a7eabd50",
   "metadata": {},
   "outputs": [],
   "source": [
    "import cv2\n",
    "from matplotlib import pyplot as plt\n",
    "import numpy as np"
   ]
  },
  {
   "cell_type": "code",
   "execution_count": null,
   "id": "4d0f63d6",
   "metadata": {},
   "outputs": [],
   "source": [
    "srs_image = cv2.imread('../images/image_1.jpg')"
   ]
  },
  {
   "cell_type": "code",
   "execution_count": null,
   "id": "b262ca9b",
   "metadata": {},
   "outputs": [],
   "source": [
    "down_width = 300\n",
    "down_height = 200\n",
    "down_points = (down_width, down_height)\n",
    "\n",
    "srs_image = cv2.resize(srs_image, down_points, interpolation=cv2.INTER_LINEAR)"
   ]
  },
  {
   "cell_type": "code",
   "execution_count": null,
   "id": "3593aaf3",
   "metadata": {},
   "outputs": [],
   "source": [
    "srs_image.shape"
   ]
  },
  {
   "cell_type": "code",
   "execution_count": null,
   "id": "7e12d6b7",
   "metadata": {},
   "outputs": [],
   "source": [
    "srs_image = cv2.cvtColor(srs_image, cv2.COLOR_BGR2RGB)"
   ]
  },
  {
   "cell_type": "code",
   "execution_count": null,
   "id": "8c11e28c",
   "metadata": {},
   "outputs": [],
   "source": [
    "plt.imshow(srs_image)"
   ]
  },
  {
   "cell_type": "code",
   "execution_count": null,
   "id": "9f6520fe",
   "metadata": {},
   "outputs": [],
   "source": [
    "gray_image = cv2.cvtColor(srs_image, cv2.COLOR_BGR2GRAY)"
   ]
  },
  {
   "cell_type": "code",
   "execution_count": null,
   "id": "ab0ef951",
   "metadata": {},
   "outputs": [],
   "source": [
    "plt.imshow(gray_image)"
   ]
  },
  {
   "cell_type": "code",
   "execution_count": null,
   "id": "defbe9f6",
   "metadata": {},
   "outputs": [],
   "source": [
    "laplacian = cv2.Laplacian(gray_image, cv2.CV_8U) # CV_64F, CV_8U\n",
    "# laplacian = cv2.Laplacian(srs_image, cv2.CV_64F)"
   ]
  },
  {
   "cell_type": "code",
   "execution_count": null,
   "id": "95785a27",
   "metadata": {},
   "outputs": [],
   "source": [
    "print(laplacian.shape)\n",
    "laplacian"
   ]
  },
  {
   "cell_type": "code",
   "execution_count": null,
   "id": "8ec3bd53",
   "metadata": {},
   "outputs": [],
   "source": [
    "plt.imshow(laplacian, cmap='gray')"
   ]
  },
  {
   "cell_type": "code",
   "execution_count": null,
   "id": "97a081f2",
   "metadata": {},
   "outputs": [],
   "source": [
    "# laplacian.reshape(-1).shape"
   ]
  },
  {
   "cell_type": "code",
   "execution_count": null,
   "id": "e86de987",
   "metadata": {},
   "outputs": [],
   "source": [
    "plt.hist(laplacian.reshape(-1))"
   ]
  },
  {
   "cell_type": "code",
   "execution_count": null,
   "id": "65847958",
   "metadata": {},
   "outputs": [],
   "source": [
    "laplacian.var()"
   ]
  },
  {
   "cell_type": "code",
   "execution_count": null,
   "id": "77d01728",
   "metadata": {},
   "outputs": [],
   "source": [
    "np.var(laplacian)"
   ]
  },
  {
   "cell_type": "code",
   "execution_count": null,
   "id": "9527cb7f",
   "metadata": {},
   "outputs": [],
   "source": [
    "mean, std = cv2.meanStdDev(laplacian)"
   ]
  },
  {
   "cell_type": "code",
   "execution_count": null,
   "id": "95b357e6",
   "metadata": {},
   "outputs": [],
   "source": [
    "mean, std, std**2"
   ]
  },
  {
   "cell_type": "code",
   "execution_count": null,
   "id": "993a6346",
   "metadata": {},
   "outputs": [],
   "source": [
    "sobelx = cv2.Sobel(gray_image, cv2.CV_64F, 1, 0, ksize=5)"
   ]
  },
  {
   "cell_type": "code",
   "execution_count": null,
   "id": "003e4cc4",
   "metadata": {},
   "outputs": [],
   "source": [
    "plt.hist(sobelx.reshape(-1))"
   ]
  },
  {
   "cell_type": "code",
   "execution_count": null,
   "id": "fe2b7e54",
   "metadata": {},
   "outputs": [],
   "source": [
    "plt.imshow(sobelx, cmap='gray')\n",
    "# plt.imshow(sobelx)"
   ]
  },
  {
   "cell_type": "code",
   "execution_count": null,
   "id": "c8d693b2",
   "metadata": {},
   "outputs": [],
   "source": []
  }
 ],
 "metadata": {
  "kernelspec": {
   "display_name": "venv",
   "language": "python",
   "name": "venv"
  },
  "language_info": {
   "codemirror_mode": {
    "name": "ipython",
    "version": 3
   },
   "file_extension": ".py",
   "mimetype": "text/x-python",
   "name": "python",
   "nbconvert_exporter": "python",
   "pygments_lexer": "ipython3",
   "version": "3.8.9"
  }
 },
 "nbformat": 4,
 "nbformat_minor": 5
}
