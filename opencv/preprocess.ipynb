{
 "cells": [
  {
   "cell_type": "code",
   "execution_count": null,
   "id": "cdb1c986-dbfd-47bb-860d-0691c66f82c8",
   "metadata": {},
   "outputs": [],
   "source": [
    "import cv2\n",
    "import os\n",
    "import numpy as np\n",
    "\n",
    "from matplotlib import pyplot as plt"
   ]
  },
  {
   "cell_type": "code",
   "execution_count": null,
   "id": "48e5c17e-435d-49e6-bfe6-a222b74c37d4",
   "metadata": {},
   "outputs": [],
   "source": [
    "# Some more magic so that the notebook will reload external python modules;\n",
    "# see http://stackoverflow.com/questions/1907993/autoreload-of-modules-in-ipython\n",
    "%load_ext autoreload\n",
    "%autoreload 2"
   ]
  },
  {
   "cell_type": "code",
   "execution_count": null,
   "id": "54aaa37a-803d-4b0c-95b3-a57b90597be5",
   "metadata": {},
   "outputs": [],
   "source": [
    "os.chdir(\"../\")"
   ]
  },
  {
   "cell_type": "code",
   "execution_count": null,
   "id": "1b8317c5-fd59-4946-8ab2-bfde2ecfcc0b",
   "metadata": {},
   "outputs": [],
   "source": [
    "from common.dataset import FolderDataset\n",
    "from common.draw_utils import show_image, show_images\n",
    "from common.utils import resize_shortest"
   ]
  },
  {
   "cell_type": "code",
   "execution_count": null,
   "id": "abd35de8-1aed-4dc0-876b-08152dc1a656",
   "metadata": {},
   "outputs": [],
   "source": [
    "SMART_CV_DOC_LOC_PATH = \"/Users/19839701/Developer/datasets/localization/smartcv_doc_loc\""
   ]
  },
  {
   "cell_type": "code",
   "execution_count": null,
   "id": "7b86b413-cd73-4f4c-9fbe-3d26bc42f1f8",
   "metadata": {},
   "outputs": [],
   "source": [
    "smartcv_doc_loc = FolderDataset(SMART_CV_DOC_LOC_PATH)"
   ]
  },
  {
   "cell_type": "code",
   "execution_count": null,
   "id": "65642415-d608-40d9-a962-a1d228ce9687",
   "metadata": {},
   "outputs": [],
   "source": [
    "image = smartcv_doc_loc[0]"
   ]
  },
  {
   "cell_type": "markdown",
   "id": "60f09c88-6d35-410e-86b2-8c39e1c2b163",
   "metadata": {},
   "source": [
    "# Resize"
   ]
  },
  {
   "cell_type": "code",
   "execution_count": null,
   "id": "12d35fe8-318d-4d1f-b1d2-eb106b31f7bc",
   "metadata": {},
   "outputs": [],
   "source": [
    "new_width = 300\n",
    "ratio, resized_image = resize_shortest(image, new_width, cv2.INTER_LINEAR)"
   ]
  },
  {
   "cell_type": "markdown",
   "id": "0b9b9f51-73c2-4f0b-9912-4ac74857cdff",
   "metadata": {},
   "source": [
    "# Smoothing"
   ]
  },
  {
   "cell_type": "code",
   "execution_count": null,
   "id": "591b1fea-d85b-448c-aba3-a2b03c039d81",
   "metadata": {},
   "outputs": [],
   "source": [
    "gray_image = cv2.cvtColor(image, cv2.COLOR_BGR2GRAY)\n",
    "smoothed_image = cv2.bilateralFilter(gray_image, 9, 75, 75)\n",
    "\n",
    "show_images([gray_image, smoothed_image], size=10)"
   ]
  },
  {
   "cell_type": "markdown",
   "id": "cc96795b-98c6-4fb5-a10e-cd10c6c327a5",
   "metadata": {
    "tags": []
   },
   "source": [
    "# Channels"
   ]
  },
  {
   "cell_type": "code",
   "execution_count": null,
   "id": "26d447d7-9768-4984-b33e-53ff38ec2b8a",
   "metadata": {},
   "outputs": [],
   "source": [
    "blue_channel, green_channel, red_channel = cv2.split(resized_image)\n",
    "gray_image = cv2.cvtColor(resized_image, cv2.COLOR_BGR2GRAY)\n",
    "inverted = 255 - gray_image\n",
    "\n",
    "show_images([blue_channel, green_channel, red_channel, gray_image, inverted], size=10)"
   ]
  },
  {
   "cell_type": "markdown",
   "id": "c487132a-dae9-4860-b819-2ce48bbaf40a",
   "metadata": {
    "tags": []
   },
   "source": [
    "# Contrast"
   ]
  },
  {
   "cell_type": "code",
   "execution_count": null,
   "id": "cad3180f-082f-4256-81af-f9330cb6a657",
   "metadata": {},
   "outputs": [],
   "source": [
    "from common.preprocess import make_contrast, apply_brightness_contrast, make_contrast_lab"
   ]
  },
  {
   "cell_type": "code",
   "execution_count": null,
   "id": "4f08c269-d39f-43c9-a863-cbd8357eb66d",
   "metadata": {},
   "outputs": [],
   "source": [
    "contrast_image = make_contrast_lab(resized_image)\n",
    "show_images([contrast_image, resized_image], size=10)"
   ]
  },
  {
   "cell_type": "code",
   "execution_count": null,
   "id": "c3390c23-7afe-4942-83d1-4eea6a9c21fb",
   "metadata": {},
   "outputs": [],
   "source": [
    "gray_image = cv2.cvtColor(resized_image, cv2.COLOR_BGR2GRAY)\n",
    "\n",
    "contrast_image = make_contrast(gray_image, alpha = 2, beta = 0)\n",
    "contrast_image_2 = apply_brightness_contrast(gray_image, brightness = 0, contrast = 20)\n",
    "\n",
    "contrast_image_3 = cv2.equalizeHist(gray_image)\n",
    "\n",
    "clahe = cv2.createCLAHE(clipLimit=2.0, tileGridSize=(8, 8))\n",
    "contrast_image_4 = clahe.apply(gray_image)\n",
    "\n",
    "show_images([contrast_image_3, contrast_image_4, gray_image], size=10)"
   ]
  },
  {
   "cell_type": "markdown",
   "id": "1956cd19-76f9-4e25-b392-2f929a3fb549",
   "metadata": {
    "tags": []
   },
   "source": [
    "# Sharpen "
   ]
  },
  {
   "cell_type": "code",
   "execution_count": null,
   "id": "3e155b33-4e2a-4cdc-9c86-8b3160c7ccf7",
   "metadata": {},
   "outputs": [],
   "source": [
    "from common.preprocess import unsharp_mask"
   ]
  },
  {
   "cell_type": "code",
   "execution_count": null,
   "id": "14f4e7a6-0d2c-4e84-885e-8053eea3d2fd",
   "metadata": {},
   "outputs": [],
   "source": [
    "gray_image = cv2.cvtColor(resized_image, cv2.COLOR_BGR2GRAY)\n",
    "blur_ks = 5\n",
    "blur_image = cv2.GaussianBlur(gray_image, (blur_ks, blur_ks), 0)\n",
    "\n",
    "sharpen_image = np.uint8(1.5 * gray_image - 0.5 * blur_image)\n",
    "\n",
    "sharpen_image_2 = unsharp_mask(gray_image, threshold=0)\n",
    "\n",
    "show_images([gray_image, sharpen_image_2, sharpen_image], size=10)"
   ]
  },
  {
   "cell_type": "markdown",
   "id": "c16690b0-f0ac-4406-8676-a77f159d7c18",
   "metadata": {
    "tags": []
   },
   "source": [
    "# Canny"
   ]
  },
  {
   "cell_type": "code",
   "execution_count": null,
   "id": "2c71a32a-d6a7-4684-988b-7eea4621d003",
   "metadata": {},
   "outputs": [],
   "source": [
    "gray_image = cv2.cvtColor(resized_image, cv2.COLOR_BGR2GRAY)\n",
    "blur_ks = 5\n",
    "blur_image = cv2.GaussianBlur(gray_image, (blur_ks, blur_ks), 0)\n",
    "\n",
    "lower_sigma=0.3\n",
    "upper_sigma=1.5\n",
    "image_median = np.median(blur_image)\n",
    "lower_thresh = int(max(0, lower_sigma * image_median))\n",
    "upper_thresh = int(min(255, upper_sigma * image_median))\n",
    "print(f\"image_median: {image_median}, tresh: {lower_thresh} - {upper_thresh}\")\n",
    "\n",
    "edge_image = cv2.Canny(blur_image, lower_thresh, upper_thresh)\n",
    "\n",
    "show_images([resized_image, blur_image, edge_image], size=9)"
   ]
  },
  {
   "cell_type": "code",
   "execution_count": null,
   "id": "e8b2f95c-6245-4d60-b424-06311b5b50dd",
   "metadata": {},
   "outputs": [],
   "source": [
    "gray_image = cv2.cvtColor(resized_image, cv2.COLOR_BGR2GRAY)\n",
    "blur_ks = 5\n",
    "blur_image = cv2.GaussianBlur(gray_image, (blur_ks, blur_ks), 0)\n",
    "edge_image = cv2.Canny(blur_image, 75, 200)\n",
    "\n",
    "show_images([resized_image, blur_image, edge_image], size=9)"
   ]
  },
  {
   "cell_type": "code",
   "execution_count": null,
   "id": "049226d4-5991-4aea-930d-200d2dcc86c5",
   "metadata": {},
   "outputs": [],
   "source": [
    "blur_ks = 5\n",
    "blur_edge_image = cv2.GaussianBlur(edge_image, (blur_ks, blur_ks), 0)\n",
    "\n",
    "show_image(blur_edge_image, size=10)"
   ]
  },
  {
   "cell_type": "markdown",
   "id": "5744e7ae-1957-4b9f-a131-f9b6f03351da",
   "metadata": {
    "tags": []
   },
   "source": [
    "# Connected Components"
   ]
  },
  {
   "cell_type": "code",
   "execution_count": null,
   "id": "7e8cd72a-663c-494b-aa41-dc20d3fb975e",
   "metadata": {},
   "outputs": [],
   "source": [
    "gray_image = cv2.cvtColor(resized_image, cv2.COLOR_BGR2GRAY)\n",
    "blur_ks = 5\n",
    "blur_image = cv2.GaussianBlur(gray_image, (blur_ks, blur_ks), 0)\n",
    "edge_image = cv2.Canny(blur_image, 75, 200)\n",
    "show_image(edge_image)"
   ]
  },
  {
   "cell_type": "code",
   "execution_count": null,
   "id": "4494b4b5-be01-48b6-bdf2-ec0dd3a4645d",
   "metadata": {},
   "outputs": [],
   "source": [
    "num_labels, labels_image, stats, centroids = cv2.connectedComponentsWithStats(edge_image)\n",
    "num_labels"
   ]
  },
  {
   "cell_type": "code",
   "execution_count": null,
   "id": "789f73f4-f58c-4248-991e-4f1c7536e394",
   "metadata": {},
   "outputs": [],
   "source": [
    "areas = stats[:, cv2.CC_STAT_AREA]"
   ]
  },
  {
   "cell_type": "code",
   "execution_count": null,
   "id": "abeea2eb-5436-4337-8bf8-d2d89b302510",
   "metadata": {},
   "outputs": [],
   "source": [
    "AREA_THREASH = 200\n",
    "filtered_image = np.zeros_like(labels_image)\n",
    "\n",
    "for label in range(1, num_labels): # from 1 to skip background\n",
    "    if areas[label] > AREA_THREASH:\n",
    "        filtered_image[labels_image==label] = 1\n",
    "        \n",
    "show_image(filtered_image, size=10)"
   ]
  },
  {
   "cell_type": "code",
   "execution_count": null,
   "id": "990383cb-8379-43cd-b1e5-6f244fd3075a",
   "metadata": {},
   "outputs": [],
   "source": [
    "labels_good_area = np.arange(1, num_labels)[areas[1:] > AREA_THREASH]\n",
    "filtered_image = np.zeros_like(labels_image)\n",
    "\n",
    "for label in labels_good_area:\n",
    "    filtered_image[labels_image==label] = 1\n",
    "\n",
    "show_image(filtered_image, size=10)"
   ]
  },
  {
   "cell_type": "code",
   "execution_count": null,
   "id": "ed058664-726b-4134-8c24-717bc37dd015",
   "metadata": {},
   "outputs": [],
   "source": [
    "comp_image_sizes = []\n",
    "\n",
    "for label in range(1, num_labels): # from 1 to skip background\n",
    "    comp_image = np.zeros_like(labels_image)\n",
    "    comp_image[labels_image==label] = 1\n",
    "    comp_image_size = np.sum(comp_image)\n",
    "    comp_image_sizes.append(comp_image_size)\n",
    "    \n",
    "comp_image_sizes = np.array(comp_image_sizes)"
   ]
  },
  {
   "cell_type": "code",
   "execution_count": null,
   "id": "a1680fcd-a4e4-480e-b88d-1ed71b4227a3",
   "metadata": {},
   "outputs": [],
   "source": [
    "comp_filtered = np.arange(1, num_labels)[comp_image_sizes > 100]\n",
    "filtered_image = np.zeros_like(labels_image)\n",
    "\n",
    "for comp in comp_filtered:\n",
    "    filtered_image[labels_image==comp] = 1\n",
    "\n",
    "show_image(filtered_image, size=10)"
   ]
  },
  {
   "cell_type": "code",
   "execution_count": null,
   "id": "2b39b508-643d-4031-b611-6de6cc392028",
   "metadata": {},
   "outputs": [],
   "source": [
    "arg_max = sorted(range(len(comp_image_sizes)), key=lambda k: comp_image_sizes[k], reverse=True)\n",
    "arg_max = np.array(arg_max) + 1"
   ]
  },
  {
   "cell_type": "code",
   "execution_count": null,
   "id": "45883416-67f2-480f-aa1b-e9dbd7eb5174",
   "metadata": {},
   "outputs": [],
   "source": [
    "areas = stats[:, cv2.CC_STAT_AREA]\n",
    "\n",
    "width = stats[:, cv2.CC_STAT_WIDTH]\n",
    "height = stats[:, cv2.CC_STAT_HEIGHT]\n",
    "\n",
    "areas_wh = width * height\n",
    "iou = areas / areas_wh"
   ]
  },
  {
   "cell_type": "code",
   "execution_count": null,
   "id": "ed65d337-afde-4dad-bf57-e761c6e3461a",
   "metadata": {},
   "outputs": [],
   "source": [
    "arg_max = sorted(range(len(iou)), key=lambda k: iou[k], reverse=True)\n",
    "arg_max = np.array(arg_max)"
   ]
  },
  {
   "cell_type": "code",
   "execution_count": null,
   "id": "d6fba6ef-d25a-46be-b1a5-7b6a88bb8591",
   "metadata": {},
   "outputs": [],
   "source": [
    "index = 20\n",
    "comp_image = np.zeros_like(labels_image)\n",
    "comp_image[labels_image==arg_max[index]] = 1\n",
    "print(iou[arg_max[index]], areas[arg_max[index]])\n",
    "\n",
    "show_image(comp_image, size=10)"
   ]
  },
  {
   "cell_type": "markdown",
   "id": "6356ec1d-9ecc-4af2-b104-951994fa09d1",
   "metadata": {
    "tags": []
   },
   "source": [
    "# Binarization"
   ]
  },
  {
   "cell_type": "code",
   "execution_count": null,
   "id": "9b44dd90-8a10-4517-9e28-e368eff9b8c9",
   "metadata": {},
   "outputs": [],
   "source": [
    "gray_image = cv2.cvtColor(resized_image, cv2.COLOR_BGR2GRAY)\n",
    "blur_ks = 7\n",
    "blur_image = cv2.GaussianBlur(gray_image, (blur_ks, blur_ks), 0)\n",
    "\n",
    "thresh = cv2.adaptiveThreshold(gray_image, 255, cv2.ADAPTIVE_THRESH_GAUSSIAN_C, cv2.THRESH_BINARY, 101, 10)\n",
    "\n",
    "show_images([gray_image, thresh], size=8)"
   ]
  },
  {
   "cell_type": "code",
   "execution_count": null,
   "id": "c5029773-fba4-4e81-9a8c-b1e0b2553343",
   "metadata": {},
   "outputs": [],
   "source": [
    "gray_image = cv2.cvtColor(resized_image, cv2.COLOR_BGR2GRAY)\n",
    "thresh = cv2.threshold(gray_image, 0, 255, cv2.THRESH_BINARY | cv2.THRESH_OTSU)[1]\n",
    "\n",
    "show_images([gray_image, thresh], size=8)"
   ]
  },
  {
   "cell_type": "markdown",
   "id": "3d8c7402-3e8b-47c9-8507-7d5607ce4290",
   "metadata": {
    "tags": []
   },
   "source": [
    "# Morphology"
   ]
  },
  {
   "cell_type": "code",
   "execution_count": null,
   "id": "85a90f0f-651a-4eea-a7e5-f6faea8037a9",
   "metadata": {},
   "outputs": [],
   "source": [
    "# kernel = np.ones((1,5), np.uint8)\n",
    "kernel = np.ones((5,1), np.uint8)\n",
    "\n",
    "# edge_image gray_image\n",
    "opening = cv2.morphologyEx(edge_image, cv2.MORPH_OPEN, kernel)"
   ]
  },
  {
   "cell_type": "code",
   "execution_count": null,
   "id": "1b779cc3-a6fd-436e-aa25-e3385cc544af",
   "metadata": {},
   "outputs": [],
   "source": [
    "# kernel = cv2.getStructuringElement(cv2.MORPH_RECT, (5,5))\n",
    "kernel = cv2.getStructuringElement(cv2.MORPH_CROSS, (5,5))\n",
    "closing_image = cv2.morphologyEx(edge_image, cv2.MORPH_CLOSE, kernel)\n",
    "\n",
    "show_image(closing_image, size=7)"
   ]
  },
  {
   "cell_type": "code",
   "execution_count": null,
   "id": "565da7ce-f7c1-4e21-9fd7-38d5390eecd5",
   "metadata": {},
   "outputs": [],
   "source": [
    "# kernel = cv2.getStructuringElement(cv2.MORPH_RECT, (10, 2))\n",
    "kernel = cv2.getStructuringElement(cv2.MORPH_CROSS, (5,5))\n",
    "dilation_image = cv2.dilate(closing_image, kernel, iterations=1)\n",
    "\n",
    "show_image(dilation_image, size=7)"
   ]
  },
  {
   "cell_type": "markdown",
   "id": "466b2e82-8564-46a0-822a-e42b8b72ce6f",
   "metadata": {
    "tags": []
   },
   "source": [
    "# Sobel"
   ]
  },
  {
   "cell_type": "code",
   "execution_count": null,
   "id": "9059599c-0763-4a4d-bde8-200860bf3780",
   "metadata": {},
   "outputs": [],
   "source": [
    "gray_image = cv2.cvtColor(resized_image, cv2.COLOR_BGR2GRAY)\n",
    "blur_ks = 5\n",
    "blur_image = cv2.GaussianBlur(gray_image, (blur_ks, blur_ks), 0)\n",
    "\n",
    "# Sobel\n",
    "ddepth = cv2.CV_64F # CV_64F CV_16S\n",
    "ksize = 1\n",
    "\n",
    "sobel_x = cv2.Sobel(blur_image, ddepth, 1, 0, ksize=ksize)\n",
    "sobel_y = cv2.Sobel(blur_image, ddepth, 0, 1, ksize=ksize)\n",
    "\n",
    "# Show\n",
    "show_images([resized_image, sobel_x, sobel_y], size=8)"
   ]
  },
  {
   "cell_type": "code",
   "execution_count": null,
   "id": "1447889d-be0c-4b6b-a16f-64f287ef0b2f",
   "metadata": {},
   "outputs": [],
   "source": []
  },
  {
   "cell_type": "code",
   "execution_count": null,
   "id": "bbd11c20-7dba-4414-aaa8-007eeffed48d",
   "metadata": {},
   "outputs": [],
   "source": [
    "gray_image = cv2.cvtColor(resized_image, cv2.COLOR_BGR2GRAY)\n",
    "blur_ks = 5\n",
    "blur_image = cv2.GaussianBlur(gray_image, (blur_ks, blur_ks), 0)\n",
    "\n",
    "laplacian = cv2.Laplacian(blur_image, cv2.CV_64F)\n",
    "\n",
    "# Show\n",
    "show_images([resized_image, laplacian], size=8)"
   ]
  },
  {
   "cell_type": "code",
   "execution_count": null,
   "id": "2971382f-a89d-49e4-9b96-96de08a3deff",
   "metadata": {},
   "outputs": [],
   "source": [
    "sobel_y_blur = cv2.GaussianBlur(sobel_y, (5, 1), 0)"
   ]
  }
 ],
 "metadata": {
  "kernelspec": {
   "display_name": "venv",
   "language": "python",
   "name": "venv"
  },
  "language_info": {
   "codemirror_mode": {
    "name": "ipython",
    "version": 3
   },
   "file_extension": ".py",
   "mimetype": "text/x-python",
   "name": "python",
   "nbconvert_exporter": "python",
   "pygments_lexer": "ipython3",
   "version": "3.8.9"
  }
 },
 "nbformat": 4,
 "nbformat_minor": 5
}
