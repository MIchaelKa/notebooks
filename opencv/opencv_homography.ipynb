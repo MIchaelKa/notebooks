{
 "cells": [
  {
   "cell_type": "code",
   "execution_count": null,
   "id": "3bd2298c",
   "metadata": {},
   "outputs": [],
   "source": [
    "import cv2"
   ]
  },
  {
   "cell_type": "code",
   "execution_count": null,
   "id": "c6298e0a",
   "metadata": {},
   "outputs": [],
   "source": [
    "from matplotlib import pyplot as plt"
   ]
  },
  {
   "cell_type": "code",
   "execution_count": null,
   "id": "393bea2d",
   "metadata": {},
   "outputs": [],
   "source": [
    "import numpy as np"
   ]
  },
  {
   "cell_type": "code",
   "execution_count": null,
   "id": "139e35e7",
   "metadata": {},
   "outputs": [],
   "source": [
    "srs_image = cv2.imread('../images/image_1.jpg')\n",
    "srs_image = cv2.cvtColor(srs_image, cv2.COLOR_BGR2RGB)"
   ]
  },
  {
   "cell_type": "code",
   "execution_count": null,
   "id": "ce95679a",
   "metadata": {},
   "outputs": [],
   "source": [
    "srs_image.shape"
   ]
  },
  {
   "cell_type": "code",
   "execution_count": null,
   "id": "5635f851",
   "metadata": {},
   "outputs": [],
   "source": [
    "plt.imshow(srs_image)"
   ]
  },
  {
   "cell_type": "code",
   "execution_count": null,
   "id": "f6a0d94e",
   "metadata": {},
   "outputs": [],
   "source": [
    "points = np.array([\n",
    "    [500, 600],\n",
    "    [1100, 600],\n",
    "    [1100, 700],\n",
    "    [500, 700],\n",
    "])\n",
    "\n",
    "points = np.float32(points.reshape(-1,1,2))\n",
    "points.shape"
   ]
  },
  {
   "cell_type": "code",
   "execution_count": null,
   "id": "d33995ff",
   "metadata": {},
   "outputs": [],
   "source": [
    "def drawPoints(image, points):\n",
    "    plt.figure(figsize=(15,7))\n",
    "\n",
    "    image_copy = image.copy() \n",
    "    points_to_draw = np.int32(points.reshape(-1, 2))\n",
    "    \n",
    "    for i in range(len(points_to_draw)-1):\n",
    "        cv2.line(image_copy, tuple(points_to_draw[i]), tuple(points_to_draw[i+1]), (0, 255, 0), 2)\n",
    "        cv2.circle(image_copy, tuple(points_to_draw[i]), 10, (255, 0, 0), -1)\n",
    "        \n",
    "    cv2.line(image_copy, tuple(points_to_draw[-1]), tuple(points_to_draw[0]), (0, 255, 0), 2)\n",
    "    \n",
    "    plt.imshow(image_copy)"
   ]
  },
  {
   "cell_type": "code",
   "execution_count": null,
   "id": "607880fa",
   "metadata": {},
   "outputs": [],
   "source": [
    "drawPoints(srs_image, points)"
   ]
  },
  {
   "cell_type": "code",
   "execution_count": null,
   "id": "d4025c43",
   "metadata": {},
   "outputs": [],
   "source": [
    "srs_image_gray = cv2.cvtColor(srs_image, cv2.COLOR_BGR2GRAY)\n",
    "srs_image_gray.shape"
   ]
  },
  {
   "cell_type": "code",
   "execution_count": null,
   "id": "c78cc24e",
   "metadata": {},
   "outputs": [],
   "source": [
    "dst_image = cv2.imread('../images/image_3.jpg')\n",
    "dst_image = cv2.cvtColor(dst_image, cv2.COLOR_BGR2RGB)\n",
    "dst_image_gray = cv2.cvtColor(dst_image, cv2.COLOR_BGR2GRAY)\n",
    "dst_image_gray.shape"
   ]
  },
  {
   "cell_type": "code",
   "execution_count": null,
   "id": "192a8a7b",
   "metadata": {},
   "outputs": [],
   "source": [
    "plt.imshow(dst_image_gray)"
   ]
  },
  {
   "cell_type": "code",
   "execution_count": null,
   "id": "edd99aa3",
   "metadata": {},
   "outputs": [],
   "source": [
    "def drawCorners(image, corners):\n",
    "    plt.figure(figsize=(15,7))\n",
    "\n",
    "    image_copy = image.copy()\n",
    "\n",
    "    for corner in corners:\n",
    "        x, y = corner.ravel()\n",
    "        cv2.circle(image_copy, (int(x), int(y)), 5, (0, 255, 0), -1)\n",
    "\n",
    "    plt.imshow(image_copy) "
   ]
  },
  {
   "cell_type": "markdown",
   "id": "dbf6ed08",
   "metadata": {},
   "source": [
    "## goodFeaturesToTrack"
   ]
  },
  {
   "cell_type": "code",
   "execution_count": null,
   "id": "5ae1676d",
   "metadata": {},
   "outputs": [],
   "source": [
    "srs_corners = cv2.goodFeaturesToTrack(srs_image_gray, 100, 0.3, 10)\n",
    "dst_corners = cv2.goodFeaturesToTrack(dst_image_gray, 100, 0.3, 10)"
   ]
  },
  {
   "cell_type": "code",
   "execution_count": null,
   "id": "8f593b27",
   "metadata": {},
   "outputs": [],
   "source": [
    "drawCorners(srs_image, srs_corners)\n",
    "# drawCorners(dst_image, dst_corners)"
   ]
  },
  {
   "cell_type": "code",
   "execution_count": null,
   "id": "5b894047",
   "metadata": {},
   "outputs": [],
   "source": [
    "srs_corners[:-1].shape, dst_corners.shape"
   ]
  },
  {
   "cell_type": "markdown",
   "id": "57bed8ba",
   "metadata": {},
   "source": [
    "## ORB"
   ]
  },
  {
   "cell_type": "code",
   "execution_count": null,
   "id": "c3d71df6",
   "metadata": {},
   "outputs": [],
   "source": [
    "# Initiate ORB detector\n",
    "orb = cv2.ORB_create()"
   ]
  },
  {
   "cell_type": "code",
   "execution_count": null,
   "id": "f535645b",
   "metadata": {},
   "outputs": [],
   "source": [
    "(kpsA, descsA) = orb.detectAndCompute(srs_image_gray, None)\n",
    "(kpsB, descsB) = orb.detectAndCompute(dst_image_gray, None)"
   ]
  },
  {
   "cell_type": "code",
   "execution_count": null,
   "id": "69ae2a56",
   "metadata": {},
   "outputs": [],
   "source": [
    "plt.figure(figsize=(15,7))\n",
    "# draw only keypoints location,not size and orientation\n",
    "img = cv2.drawKeypoints(srs_image, kpsA, None, color=(0,255,0), flags=0)\n",
    "plt.imshow(img)"
   ]
  },
  {
   "cell_type": "code",
   "execution_count": null,
   "id": "c1a3e688",
   "metadata": {},
   "outputs": [],
   "source": [
    "method = cv2.DESCRIPTOR_MATCHER_BRUTEFORCE_HAMMING\n",
    "matcher = cv2.DescriptorMatcher_create(method)\n",
    "matches = matcher.match(descsA, descsB, None)"
   ]
  },
  {
   "cell_type": "code",
   "execution_count": null,
   "id": "3c2b60da",
   "metadata": {},
   "outputs": [],
   "source": [
    "# sort the matches by their distance (the smaller the distance,\n",
    "# the \"more similar\" the features are)\n",
    "matches = sorted(matches, key=lambda x:x.distance)"
   ]
  },
  {
   "cell_type": "code",
   "execution_count": null,
   "id": "3cadac9b",
   "metadata": {},
   "outputs": [],
   "source": [
    "len(matches)"
   ]
  },
  {
   "cell_type": "code",
   "execution_count": null,
   "id": "256741b2",
   "metadata": {},
   "outputs": [],
   "source": [
    "plt.figure(figsize=(15,7))\n",
    "\n",
    "matchedVis = cv2.drawMatches(srs_image, kpsA, dst_image, kpsB, matches, None)\n",
    "plt.imshow(matchedVis)"
   ]
  },
  {
   "cell_type": "code",
   "execution_count": null,
   "id": "b3d60c4e",
   "metadata": {},
   "outputs": [],
   "source": [
    "# allocate memory for the keypoints (x, y)-coordinates from the\n",
    "# top matches -- we'll use these coordinates to compute our\n",
    "# homography matrix\n",
    "ptsA = np.zeros((len(matches), 2), dtype=\"float\")\n",
    "ptsB = np.zeros((len(matches), 2), dtype=\"float\")\n",
    "# loop over the top matches\n",
    "for (i, m) in enumerate(matches):\n",
    "    # indicate that the two keypoints in the respective images\n",
    "    # map to each other\n",
    "    ptsA[i] = kpsA[m.queryIdx].pt\n",
    "    ptsB[i] = kpsB[m.trainIdx].pt"
   ]
  },
  {
   "cell_type": "code",
   "execution_count": null,
   "id": "d715fb84",
   "metadata": {},
   "outputs": [],
   "source": [
    "ptsA = ptsA[:30]\n",
    "ptsB = ptsB[:30]"
   ]
  },
  {
   "cell_type": "code",
   "execution_count": null,
   "id": "71723c0b",
   "metadata": {},
   "outputs": [],
   "source": [
    "len(ptsA), len(ptsB)"
   ]
  },
  {
   "cell_type": "markdown",
   "id": "69de18da",
   "metadata": {},
   "source": [
    "## Homography"
   ]
  },
  {
   "cell_type": "code",
   "execution_count": null,
   "id": "362bb583",
   "metadata": {},
   "outputs": [],
   "source": [
    "# H, mask = cv2.findHomography(srs_corners[:-1], dst_corners, cv2.RANSAC)\n",
    "H, mask = cv2.findHomography(ptsA, ptsB, method=cv2.RANSAC)"
   ]
  },
  {
   "cell_type": "code",
   "execution_count": null,
   "id": "e7d3c56d",
   "metadata": {},
   "outputs": [],
   "source": [
    "H"
   ]
  },
  {
   "cell_type": "code",
   "execution_count": null,
   "id": "f164b797",
   "metadata": {},
   "outputs": [],
   "source": [
    "mask.shape"
   ]
  },
  {
   "cell_type": "code",
   "execution_count": null,
   "id": "3d926850",
   "metadata": {},
   "outputs": [],
   "source": [
    "dst_points = cv2.perspectiveTransform(points, H)"
   ]
  },
  {
   "cell_type": "code",
   "execution_count": null,
   "id": "73cda4be",
   "metadata": {},
   "outputs": [],
   "source": [
    "dst_points.shape"
   ]
  },
  {
   "cell_type": "code",
   "execution_count": null,
   "id": "d2a17a96",
   "metadata": {},
   "outputs": [],
   "source": [
    "drawPoints(dst_image, dst_points)"
   ]
  },
  {
   "cell_type": "code",
   "execution_count": null,
   "id": "6f19584c",
   "metadata": {},
   "outputs": [],
   "source": []
  }
 ],
 "metadata": {
  "kernelspec": {
   "display_name": "Python 3 (ipykernel)",
   "language": "python",
   "name": "python3"
  },
  "language_info": {
   "codemirror_mode": {
    "name": "ipython",
    "version": 3
   },
   "file_extension": ".py",
   "mimetype": "text/x-python",
   "name": "python",
   "nbconvert_exporter": "python",
   "pygments_lexer": "ipython3",
   "version": "3.8.9"
  }
 },
 "nbformat": 4,
 "nbformat_minor": 5
}
