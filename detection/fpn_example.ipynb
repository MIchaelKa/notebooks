{
 "cells": [
  {
   "cell_type": "code",
   "execution_count": 5,
   "id": "saving-green",
   "metadata": {},
   "outputs": [],
   "source": [
    "import torch\n",
    "import torchvision"
   ]
  },
  {
   "cell_type": "code",
   "execution_count": 9,
   "id": "editorial-blake",
   "metadata": {},
   "outputs": [],
   "source": [
    "m = torchvision.models.resnet18(pretrained=True)"
   ]
  },
  {
   "cell_type": "code",
   "execution_count": 10,
   "id": "resident-humanity",
   "metadata": {},
   "outputs": [
    {
     "name": "stdout",
     "output_type": "stream",
     "text": [
      "conv1\n",
      "bn1\n",
      "relu\n",
      "maxpool\n",
      "layer1\n",
      "layer2\n",
      "layer3\n",
      "layer4\n",
      "avgpool\n",
      "fc\n"
     ]
    }
   ],
   "source": [
    "for name, module in m.named_children():\n",
    "    print(name)"
   ]
  },
  {
   "cell_type": "markdown",
   "id": "empirical-daughter",
   "metadata": {},
   "source": [
    "## IntermediateLayerGetter"
   ]
  },
  {
   "cell_type": "code",
   "execution_count": 2,
   "id": "limited-pulse",
   "metadata": {},
   "outputs": [
    {
     "data": {
      "text/plain": [
       "{'layer1': '0', 'layer2': '1', 'layer3': '2', 'layer4': '3'}"
      ]
     },
     "execution_count": 2,
     "metadata": {},
     "output_type": "execute_result"
    }
   ],
   "source": [
    "returned_layers = [1, 2, 3, 4]\n",
    "assert min(returned_layers) > 0 and max(returned_layers) < 5\n",
    "return_layers = {f'layer{k}': str(v) for v, k in enumerate(returned_layers)}\n",
    "return_layers"
   ]
  },
  {
   "cell_type": "code",
   "execution_count": 11,
   "id": "bibliographic-lancaster",
   "metadata": {},
   "outputs": [
    {
     "name": "stdout",
     "output_type": "stream",
     "text": [
      "[('0', torch.Size([1, 64, 56, 56])), ('1', torch.Size([1, 128, 28, 28])), ('2', torch.Size([1, 256, 14, 14])), ('3', torch.Size([1, 512, 7, 7]))]\n"
     ]
    }
   ],
   "source": [
    "# extract layer1 and layer3, giving as names `feat1` and feat2`\n",
    "# new_m = torchvision.models._utils.IntermediateLayerGetter(m, {'layer1': 'feat1', 'layer3': 'feat2'})\n",
    "\n",
    "new_m = torchvision.models._utils.IntermediateLayerGetter(m, return_layers)\n",
    "\n",
    "out = new_m(torch.rand(1, 3, 224, 224))\n",
    "print([(k, v.shape) for k, v in out.items()])"
   ]
  },
  {
   "cell_type": "code",
   "execution_count": 12,
   "id": "viral-dimension",
   "metadata": {},
   "outputs": [],
   "source": [
    "in_channels_stage2 = m.inplanes // 8\n",
    "in_channels_list = [in_channels_stage2 * 2 ** (i - 1) for i in returned_layers]"
   ]
  },
  {
   "cell_type": "code",
   "execution_count": 13,
   "id": "contained-permit",
   "metadata": {},
   "outputs": [
    {
     "data": {
      "text/plain": [
       "64"
      ]
     },
     "execution_count": 13,
     "metadata": {},
     "output_type": "execute_result"
    }
   ],
   "source": [
    "in_channels_stage2"
   ]
  },
  {
   "cell_type": "code",
   "execution_count": 14,
   "id": "accompanied-convergence",
   "metadata": {},
   "outputs": [
    {
     "data": {
      "text/plain": [
       "512"
      ]
     },
     "execution_count": 14,
     "metadata": {},
     "output_type": "execute_result"
    }
   ],
   "source": [
    "m.inplanes"
   ]
  },
  {
   "cell_type": "code",
   "execution_count": 15,
   "id": "obvious-leave",
   "metadata": {},
   "outputs": [
    {
     "data": {
      "text/plain": [
       "[64, 128, 256, 512]"
      ]
     },
     "execution_count": 15,
     "metadata": {},
     "output_type": "execute_result"
    }
   ],
   "source": [
    "in_channels_list"
   ]
  },
  {
   "cell_type": "markdown",
   "id": "funky-administration",
   "metadata": {},
   "source": [
    "## FeaturePyramidNetwork"
   ]
  },
  {
   "cell_type": "code",
   "execution_count": 21,
   "id": "opposite-boxing",
   "metadata": {},
   "outputs": [],
   "source": [
    "from torchvision.ops.feature_pyramid_network import FeaturePyramidNetwork, LastLevelMaxPool"
   ]
  },
  {
   "cell_type": "code",
   "execution_count": 16,
   "id": "funky-ceramic",
   "metadata": {},
   "outputs": [],
   "source": [
    "fpn = FeaturePyramidNetwork(in_channels_list, 256)"
   ]
  },
  {
   "cell_type": "code",
   "execution_count": 17,
   "id": "usual-advocate",
   "metadata": {},
   "outputs": [],
   "source": [
    "fpn_out = fpn(out)"
   ]
  },
  {
   "cell_type": "code",
   "execution_count": 19,
   "id": "explicit-toyota",
   "metadata": {},
   "outputs": [
    {
     "name": "stdout",
     "output_type": "stream",
     "text": [
      "[('0', torch.Size([1, 256, 56, 56])), ('1', torch.Size([1, 256, 28, 28])), ('2', torch.Size([1, 256, 14, 14])), ('3', torch.Size([1, 256, 7, 7]))]\n"
     ]
    }
   ],
   "source": [
    "print([(k, v.shape) for k, v in fpn_out.items()])"
   ]
  },
  {
   "cell_type": "code",
   "execution_count": 22,
   "id": "filled-industry",
   "metadata": {},
   "outputs": [],
   "source": [
    "extra_blocks = LastLevelMaxPool()\n",
    "fpn_2 = FeaturePyramidNetwork(in_channels_list, 256, extra_blocks)"
   ]
  },
  {
   "cell_type": "code",
   "execution_count": 23,
   "id": "blind-lecture",
   "metadata": {},
   "outputs": [],
   "source": [
    "fpn_2_out = fpn_2(out)"
   ]
  },
  {
   "cell_type": "code",
   "execution_count": 25,
   "id": "conditional-domain",
   "metadata": {},
   "outputs": [
    {
     "name": "stdout",
     "output_type": "stream",
     "text": [
      "[('0', torch.Size([1, 256, 56, 56])), ('1', torch.Size([1, 256, 28, 28])), ('2', torch.Size([1, 256, 14, 14])), ('3', torch.Size([1, 256, 7, 7])), ('pool', torch.Size([1, 256, 4, 4]))]\n"
     ]
    }
   ],
   "source": [
    "print([(k, v.shape) for k, v in fpn_2_out.items()])"
   ]
  },
  {
   "cell_type": "markdown",
   "id": "grateful-henry",
   "metadata": {},
   "source": [
    "## BackboneWithFPN"
   ]
  },
  {
   "cell_type": "code",
   "execution_count": 26,
   "id": "precise-width",
   "metadata": {},
   "outputs": [],
   "source": [
    "from torchvision.models.detection.backbone_utils import resnet_fpn_backbone"
   ]
  },
  {
   "cell_type": "code",
   "execution_count": 28,
   "id": "realistic-worse",
   "metadata": {},
   "outputs": [],
   "source": [
    "backbone = resnet_fpn_backbone(\n",
    "    'resnet18',\n",
    "    pretrained=True,\n",
    "    trainable_layers=5, # all layers\n",
    "#     trainable_layers=3,\n",
    ")"
   ]
  },
  {
   "cell_type": "code",
   "execution_count": 32,
   "id": "miniature-booth",
   "metadata": {},
   "outputs": [
    {
     "name": "stdout",
     "output_type": "stream",
     "text": [
      "[('0', torch.Size([1, 256, 50, 50])), ('1', torch.Size([1, 256, 25, 25])), ('2', torch.Size([1, 256, 13, 13])), ('3', torch.Size([1, 256, 7, 7])), ('pool', torch.Size([1, 256, 4, 4]))]\n"
     ]
    }
   ],
   "source": [
    "# x = torch.rand(1, 3, 224, 224)\n",
    "x = torch.rand(1, 3, 200, 200)\n",
    "out = backbone(x)\n",
    "print([(k, v.shape) for k, v in out.items()])"
   ]
  },
  {
   "cell_type": "code",
   "execution_count": 33,
   "id": "composed-southwest",
   "metadata": {},
   "outputs": [
    {
     "data": {
      "text/plain": [
       "[50, 25, 13, 7, 4]"
      ]
     },
     "execution_count": 33,
     "metadata": {},
     "output_type": "execute_result"
    }
   ],
   "source": [
    "feature_dims = [(v.shape[-1]) for _, v in out.items()]\n",
    "feature_dims"
   ]
  },
  {
   "cell_type": "code",
   "execution_count": null,
   "id": "acknowledged-probability",
   "metadata": {},
   "outputs": [],
   "source": []
  }
 ],
 "metadata": {
  "kernelspec": {
   "display_name": "Python 3",
   "language": "python",
   "name": "python3"
  },
  "language_info": {
   "codemirror_mode": {
    "name": "ipython",
    "version": 3
   },
   "file_extension": ".py",
   "mimetype": "text/x-python",
   "name": "python",
   "nbconvert_exporter": "python",
   "pygments_lexer": "ipython3",
   "version": "3.8.2"
  }
 },
 "nbformat": 4,
 "nbformat_minor": 5
}
