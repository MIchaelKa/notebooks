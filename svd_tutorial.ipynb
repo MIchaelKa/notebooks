{
 "cells": [
  {
   "cell_type": "markdown",
   "id": "photographic-regard",
   "metadata": {},
   "source": [
    "# Understanding SVD\n",
    "\n",
    "https://towardsdatascience.com/understanding-singular-value-decomposition-and-its-application-in-data-science-388a54be95d"
   ]
  },
  {
   "cell_type": "code",
   "execution_count": 1,
   "id": "trained-resort",
   "metadata": {},
   "outputs": [],
   "source": [
    "import numpy as np\n",
    "import matplotlib.pyplot as plt\n",
    "from matplotlib import colors\n",
    "import math as mt\n",
    "from numpy import linalg as LA\n",
    "from mpl_toolkits.mplot3d import Axes3D\n",
    "from sklearn.datasets import fetch_olivetti_faces\n",
    "%matplotlib inline"
   ]
  },
  {
   "cell_type": "markdown",
   "id": "balanced-barbados",
   "metadata": {},
   "source": [
    "## Rotate and scale single vector"
   ]
  },
  {
   "cell_type": "code",
   "execution_count": 11,
   "id": "isolated-source",
   "metadata": {},
   "outputs": [],
   "source": [
    "x=np.array([1,0]) # Original vector\n",
    "theta = 30 * mt.pi / 180 # 30 degress in radian\n",
    "\n",
    "# Rotation matrix for theta=30 degrees\n",
    "A = np.array([\n",
    "    [np.cos(theta), -np.sin(theta)],\n",
    "    [np.sin(theta), np.cos(theta)]\n",
    "]) \n",
    "\n",
    "B = np.array([[3,0],[0,1]]) # Stretching matrix\n",
    "\n",
    "Ax = A @ x  # y1 is the rotated vector\n",
    "Bx = B @ x  # y2 is the stretched vector"
   ]
  },
  {
   "cell_type": "code",
   "execution_count": 34,
   "id": "fatty-failure",
   "metadata": {},
   "outputs": [],
   "source": [
    "# Reshaping and storing both x and Ax in t1 to be plotted as vectors\n",
    "t1 = np.concatenate([x.reshape(1,2), Ax.reshape(1,2)])\n",
    "# Reshaping and storing both x and Bx in t2 to be plotted as vectors\n",
    "t2 = np.concatenate([x.reshape(1,2), Bx.reshape(1,2)])\n",
    "\n",
    "origin = [[0, 0], [0, 0]] # origin points"
   ]
  },
  {
   "cell_type": "code",
   "execution_count": 36,
   "id": "wanted-observer",
   "metadata": {},
   "outputs": [
    {
     "data": {
      "image/png": "[encoded data removed]",
      "text/plain": [
       "<Figure size 720x1080 with 2 Axes>"
      ]
     },
     "metadata": {
      "needs_background": "light"
     },
     "output_type": "display_data"
    }
   ],
   "source": [
    "fig, (ax1, ax2) = plt.subplots(1, 2, figsize=(10,15))\n",
    "plt.subplots_adjust(wspace=0.4)\n",
    "\n",
    "# Plotting t1\n",
    "ax1.quiver(*origin, t1[:,0], t1[:,1], color=['b', 'g'], width=0.013, angles='xy', scale_units='xy', scale=1)\n",
    "ax1.set_xlabel('x', fontsize=14)\n",
    "ax1.set_ylabel('y', fontsize=14)\n",
    "ax1.set_xlim([-0.5,1.5])\n",
    "ax1.set_ylim([-0.5,1])\n",
    "ax1.set_aspect('equal')\n",
    "ax1.grid(True)\n",
    "ax1.set_axisbelow(True)\n",
    "ax1.set_title(\"Rotation transform\")\n",
    "ax1.axhline(y=0, color='k')\n",
    "ax1.axvline(x=0, color='k')\n",
    "ax1.text(1, 0.1, \"$\\mathbf{x}$\", fontsize=16)\n",
    "ax1.text(0.8, 0.6, \"$\\mathbf{Ax}$\", fontsize=16)\n",
    "\n",
    "# Plotting t2\n",
    "ax2.quiver(*origin, t2[:,0], t2[:,1], color=['b', 'g'], width=0.013, angles='xy', scale_units='xy', scale=1)\n",
    "ax2.set_xlabel('x', fontsize=14)\n",
    "ax2.set_ylabel('y', fontsize=14)\n",
    "ax2.set_xlim([-0.5,3.5])\n",
    "ax2.set_ylim([-1.5,1.5])\n",
    "ax2.set_aspect('equal')\n",
    "ax2.grid(True)\n",
    "ax2.set_axisbelow(True)\n",
    "ax2.set_title(\"Stretching transform\")\n",
    "ax2.axhline(y=0, color='k')\n",
    "ax2.axvline(x=0, color='k')\n",
    "ax2.text(1, 0.2, \"$\\mathbf{x}$\", fontsize=16)\n",
    "ax2.text(3, 0.2, \"$\\mathbf{Bx}$\", fontsize=16)\n",
    "\n",
    "plt.show()"
   ]
  },
  {
   "cell_type": "markdown",
   "id": "controlling-magic",
   "metadata": {},
   "source": [
    "## Rotate and scale circle"
   ]
  },
  {
   "cell_type": "code",
   "execution_count": 103,
   "id": "rental-chess",
   "metadata": {},
   "outputs": [],
   "source": [
    "# Creating the vectors for a circle and storing them in x\n",
    "xi1 = np.linspace(-1.0, 1.0, 100)\n",
    "xi2 = np.linspace(1.0, -1.0, 100)\n",
    "yi1 = np.sqrt(1 - xi1**2)\n",
    "yi2 = -np.sqrt(1 - xi2**2)"
   ]
  },
  {
   "cell_type": "code",
   "execution_count": 104,
   "id": "rough-quarter",
   "metadata": {},
   "outputs": [],
   "source": [
    "xi = np.concatenate((xi1, xi2),axis=0)\n",
    "yi = np.concatenate((yi1, yi2),axis=0)"
   ]
  },
  {
   "cell_type": "code",
   "execution_count": 105,
   "id": "extensive-environment",
   "metadata": {},
   "outputs": [],
   "source": [
    "# x = np.vstack((xi1, yi1))\n",
    "X = np.vstack((xi, yi))"
   ]
  },
  {
   "cell_type": "code",
   "execution_count": 106,
   "id": "correct-strike",
   "metadata": {},
   "outputs": [
    {
     "data": {
      "text/plain": [
       "(2, 200)"
      ]
     },
     "execution_count": 106,
     "metadata": {},
     "output_type": "execute_result"
    }
   ],
   "source": [
    "X.shape"
   ]
  },
  {
   "cell_type": "code",
   "execution_count": 107,
   "id": "forced-rebound",
   "metadata": {},
   "outputs": [],
   "source": [
    "# getting a sample vector from x\n",
    "x_sample1 = X[:, 65]\n",
    "x_sample2 = X[:, 100]"
   ]
  },
  {
   "cell_type": "code",
   "execution_count": 108,
   "id": "fitted-prophet",
   "metadata": {},
   "outputs": [
    {
     "data": {
      "text/plain": [
       "(array([0.31313131, 0.94970984]), (2,))"
      ]
     },
     "execution_count": 108,
     "metadata": {},
     "output_type": "execute_result"
    }
   ],
   "source": [
    "x_sample1, x_sample1.shape"
   ]
  },
  {
   "cell_type": "code",
   "execution_count": 109,
   "id": "dietary-steps",
   "metadata": {},
   "outputs": [],
   "source": [
    "A = np.array([[3, 2],\n",
    "              [0, 2]]) \n",
    "\n",
    "t = A @ X  # Vectors in t are the transformed vectors of x\n",
    "\n",
    "t_sample1 = t[:, 65]\n",
    "t_sample2 = t[:, 100]"
   ]
  },
  {
   "cell_type": "code",
   "execution_count": 110,
   "id": "discrete-adelaide",
   "metadata": {},
   "outputs": [],
   "source": [
    "# plt.plot(x[0,:], x[1,:], color='b')"
   ]
  },
  {
   "cell_type": "code",
   "execution_count": 112,
   "id": "opened-cinema",
   "metadata": {},
   "outputs": [
    {
     "data": {
      "image/png": "[encoded data removed]",
      "text/plain": [
       "<Figure size 720x1080 with 2 Axes>"
      ]
     },
     "metadata": {
      "needs_background": "light"
     },
     "output_type": "display_data"
    }
   ],
   "source": [
    "fig, (ax1, ax2) = plt.subplots(1, 2, figsize=(10,15))\n",
    "\n",
    "plt.subplots_adjust(wspace=0.4)\n",
    "\n",
    "# Plotting x\n",
    "ax1.plot(X[0,:], X[1,:], color='b')\n",
    "ax1.quiver(*origin, x_sample1[0], x_sample1[1], color=['b'], width=0.012, angles='xy', scale_units='xy', scale=1)\n",
    "ax1.quiver(*origin, x_sample2[0], x_sample2[1], color=['r'], width=0.012, angles='xy', scale_units='xy', scale=1)\n",
    "\n",
    "x_sample3 = [-0.89442719, 0.4472136]\n",
    "ax1.quiver(*origin, x_sample3[0], x_sample3[1], color=['g'], width=0.012, angles='xy', scale_units='xy', scale=1)\n",
    "\n",
    "ax1.set_xlabel('x', fontsize=14)\n",
    "ax1.set_ylabel('y', fontsize=14)\n",
    "ax1.set_xlim([-4,4])\n",
    "ax1.set_ylim([-4,4])\n",
    "ax1.set_aspect('equal')\n",
    "ax1.grid(True)\n",
    "ax1.set_axisbelow(True)\n",
    "ax1.set_title(\"Original vectors\")\n",
    "ax1.axhline(y=0, color='k')\n",
    "ax1.axvline(x=0, color='k')\n",
    "ax1.text(0.3, 1.2, \"$\\mathbf{x_1}$\", color='b', fontsize=14)\n",
    "ax1.text(1.2, 0.2, \"$\\mathbf{x_2}$\", color='r', fontsize=14)\n",
    "\n",
    "# Plotting t\n",
    "ax2.plot(t[0, :], t[1, :], color='b')\n",
    "ax2.quiver(*origin, t_sample1[0], t_sample1[1], color=['b'], width=0.012, angles='xy', scale_units='xy', scale=1)\n",
    "ax2.quiver(*origin, t_sample2[0], t_sample2[1], color=['r'], width=0.012, angles='xy', scale_units='xy', scale=1)\n",
    "\n",
    "ax2.set_xlabel('x', fontsize=14)\n",
    "ax2.set_ylabel('y', fontsize=14)\n",
    "ax2.set_xlim([-4,4])\n",
    "ax2.set_ylim([-4,4])\n",
    "ax2.set_aspect('equal')\n",
    "ax2.grid(True)\n",
    "ax2.set_axisbelow(True)\n",
    "ax2.set_title(\"New vectors after transformation\")\n",
    "ax2.axhline(y=0, color='k')\n",
    "ax2.axvline(x=0, color='k')\n",
    "ax2.text(2.5, 2.3, \"$\\mathbf{t_1}$\", color='b', fontsize=14)\n",
    "ax2.text(2.6, 0.4, \"$\\mathbf{t_2}$\", color='r', fontsize=14)\n",
    "plt.savefig('2.png', dpi=300, bbox_inches='tight')\n",
    "\n",
    "plt.show()"
   ]
  },
  {
   "cell_type": "markdown",
   "id": "friendly-makeup",
   "metadata": {},
   "source": [
    "## Eigenvalues and eigenvectors"
   ]
  },
  {
   "cell_type": "code",
   "execution_count": 75,
   "id": "right-chorus",
   "metadata": {},
   "outputs": [
    {
     "name": "stdout",
     "output_type": "stream",
     "text": [
      "lam= [3. 2.]\n",
      "u= [[ 1.     -0.8944]\n",
      " [ 0.      0.4472]]\n"
     ]
    }
   ],
   "source": [
    "B = np.array([\n",
    "    [-1, 1],\n",
    "    [0, -2]\n",
    "])\n",
    "# lam, u = LA.eig(B)\n",
    "lam, u = LA.eig(A)\n",
    "print(\"lam=\", np.round(lam, 4))\n",
    "print(\"u=\", np.round(u, 4))"
   ]
  },
  {
   "cell_type": "code",
   "execution_count": 76,
   "id": "legislative-laugh",
   "metadata": {},
   "outputs": [
    {
     "data": {
      "text/plain": [
       "(array([-0.89442719,  0.4472136 ]), 2.0)"
      ]
     },
     "execution_count": 76,
     "metadata": {},
     "output_type": "execute_result"
    }
   ],
   "source": [
    "i = 1\n",
    "u[:,i], lam[i]"
   ]
  },
  {
   "cell_type": "markdown",
   "id": "recreational-accordance",
   "metadata": {},
   "source": [
    "### Symmetric matrix\n",
    "Scale matrix\n",
    "<br>\n",
    "A symmetric matrix transforms a vector by stretching or shrinking it along its eigenvectors.\n",
    "<br>\n",
    "<br>\n",
    "Симметричная матрица влияет на вектор растягивая его или сужая вдоль направления своих собственных векторов.\n",
    "Величина растяжения при этом пропорциональна соответствующим собственным значениям."
   ]
  },
  {
   "cell_type": "code",
   "execution_count": 84,
   "id": "coordinate-squad",
   "metadata": {},
   "outputs": [
    {
     "name": "stdout",
     "output_type": "stream",
     "text": [
      "[3.618 1.382]\n",
      "[[ 0.8507 -0.5257]\n",
      " [ 0.5257  0.8507]]\n"
     ]
    }
   ],
   "source": [
    "B = np.array([\n",
    "    [3, 1],\n",
    "    [1, 2]\n",
    "])\n",
    "\n",
    "lam, u = LA.eig(B)\n",
    "print(np.round(lam, 4))\n",
    "print(np.round(u, 4))"
   ]
  },
  {
   "cell_type": "code",
   "execution_count": 83,
   "id": "together-marker",
   "metadata": {},
   "outputs": [
    {
     "data": {
      "image/png": "[encoded data removed]",
      "text/plain": [
       "<Figure size 720x1080 with 2 Axes>"
      ]
     },
     "metadata": {
      "needs_background": "light"
     },
     "output_type": "display_data"
    }
   ],
   "source": [
    "t = B @ x   # Vectors in t are the transformed vectors of x\n",
    "\n",
    "fig, (ax1, ax2) = plt.subplots(1, 2, figsize=(10,15))\n",
    "\n",
    "plt.subplots_adjust(wspace=0.4)\n",
    "\n",
    "# Plotting x\n",
    "ax1.plot(x[0,:], x[1,:], color='b')\n",
    "ax1.quiver(*origin, u[0,:], u[1,:], color=['b'], width=0.012, angles='xy', scale_units='xy', scale=1)\n",
    "ax1.set_xlabel('x', fontsize=14)\n",
    "ax1.set_ylabel('y', fontsize=14)\n",
    "ax1.set_xlim([-4,4])\n",
    "ax1.set_ylim([-4,4])\n",
    "ax1.set_aspect('equal')\n",
    "ax1.grid(True)\n",
    "ax1.set_title(\"Original vectors\")\n",
    "ax1.axhline(y=0, color='k')\n",
    "ax1.axvline(x=0, color='k')\n",
    "ax1.text(1, 0.3, \"$\\mathbf{u_1}$\", fontsize=14)\n",
    "ax1.text(-1.6, 0.5, \"$\\mathbf{u_2}$\", fontsize=14)\n",
    "ax1.text(0.3, 1.3, \"$\\mathbf{x}$\", color='b', fontsize=14)\n",
    "\n",
    "# Plotting t\n",
    "ax2.plot(t[0, :], t[1, :], color='b')\n",
    "ax2.quiver(*origin, u[0,:], u[1,:], color=['b'], width=0.012, angles='xy', scale_units='xy', scale=1)\n",
    "ax2.set_xlabel('x', fontsize=14)\n",
    "ax2.set_ylabel('y', fontsize=14)\n",
    "ax2.set_xlim([-4,4])\n",
    "ax2.set_ylim([-4,4])\n",
    "ax2.set_aspect('equal')\n",
    "ax2.grid(True)\n",
    "ax2.set_title(\"New vectors after transformation\")\n",
    "ax2.axhline(y=0, color='k')\n",
    "ax2.axvline(x=0, color='k')\n",
    "ax2.text(1, 0.3, \"$\\mathbf{u_1}$\", fontsize=14)\n",
    "ax2.text(-1.6, 0.5, \"$\\mathbf{u_2}$\", fontsize=14)\n",
    "ax2.text(2, 2.3, \"$\\mathbf{Ax}$\", color='b', fontsize=14)\n",
    "\n",
    "plt.show()"
   ]
  },
  {
   "cell_type": "markdown",
   "id": "scheduled-answer",
   "metadata": {},
   "source": [
    "## Coordinates of vector in a new basis"
   ]
  },
  {
   "cell_type": "code",
   "execution_count": 88,
   "id": "novel-crack",
   "metadata": {},
   "outputs": [
    {
     "data": {
      "text/plain": [
       "array([[4.  ],\n",
       "       [2.83]])"
      ]
     },
     "execution_count": 88,
     "metadata": {},
     "output_type": "execute_result"
    }
   ],
   "source": [
    "# The Basis\n",
    "v_1 = np.array([[1],[0]])\n",
    "v_2 = np.array([[-1/mt.sqrt(2)],[1/mt.sqrt(2)]])\n",
    "\n",
    "# Change of coordinate matrix\n",
    "p =np.concatenate([v_1, v_2], axis=1)\n",
    "p_inv = np.linalg.inv(p) \n",
    "\n",
    "# Coordinate of x in R^2\n",
    "x=np.array([[2], [2]])\n",
    "\n",
    "# New coordinate relative to basis B\n",
    "x_B = p_inv @ x\n",
    "\n",
    "np.round(x_B, 2)"
   ]
  },
  {
   "cell_type": "code",
   "execution_count": 90,
   "id": "informational-wisdom",
   "metadata": {},
   "outputs": [
    {
     "data": {
      "text/plain": [
       "(2, 1)"
      ]
     },
     "execution_count": 90,
     "metadata": {},
     "output_type": "execute_result"
    }
   ],
   "source": [
    "x_B.shape"
   ]
  },
  {
   "cell_type": "markdown",
   "id": "dress-peter",
   "metadata": {},
   "source": [
    "## Eigendecomposition"
   ]
  },
  {
   "cell_type": "markdown",
   "id": "controversial-burden",
   "metadata": {},
   "source": [
    "Рассмотрим симметричную матрицу А\n",
    "<br>\n",
    "Для любой симметричной матрицы ее собственные вектора являются попарно ортогональными и ленейно независимыми. Пусть Р матрица составленная и собственных векторов столбцов(нормированных), тогда верно равенство:\n",
    "<br>\n",
    "$P^{-1} = P^T$\n",
    "<br>\n",
    "Р матрица из орто-нормированных векторов"
   ]
  },
  {
   "cell_type": "code",
   "execution_count": 92,
   "id": "apart-services",
   "metadata": {},
   "outputs": [],
   "source": [
    "A = np.array([[3, 1],\n",
    "              [1, 2]]) \n",
    "\n",
    "lam, u = LA.eig(A)\n",
    "\n",
    "u1= u[:,0].reshape(2,1)\n",
    "lam1 = lam[0]\n",
    "# A_1 = lambda_1 * u1 * u1^T\n",
    "A_1 = lam1 * (u1 @ u1.T)\n",
    "\n",
    "u2= u[:,1].reshape(2,1)\n",
    "lam2 = lam[1]\n",
    "# A_2 = lambda_2 * u2 * u2^T\n",
    "A_2 = lam2 * (u2 @ u2.T)"
   ]
  },
  {
   "cell_type": "code",
   "execution_count": 98,
   "id": "handled-madness",
   "metadata": {},
   "outputs": [
    {
     "name": "stdout",
     "output_type": "stream",
     "text": [
      "[3.618 1.382]\n",
      "[[ 0.8507 -0.5257]\n",
      " [ 0.5257  0.8507]]\n"
     ]
    }
   ],
   "source": [
    "print(np.round(lam, 4))\n",
    "print(np.round(u, 4))"
   ]
  },
  {
   "cell_type": "markdown",
   "id": "whole-salmon",
   "metadata": {},
   "source": [
    "$A_1$ and $A_2$ are called **projection matricies**, they are always **symmetric** because each of them is multiplication of $u_i u_i^T$"
   ]
  },
  {
   "cell_type": "code",
   "execution_count": 96,
   "id": "dutch-heavy",
   "metadata": {},
   "outputs": [
    {
     "name": "stdout",
     "output_type": "stream",
     "text": [
      "[[2.618 1.618]\n",
      " [1.618 1.   ]]\n"
     ]
    }
   ],
   "source": [
    "print(np.round(A_1, 4))"
   ]
  },
  {
   "cell_type": "markdown",
   "id": "musical-algorithm",
   "metadata": {},
   "source": [
    "First eigenvalue of $A_1$ is the same as of original matrix $A$, the another ones are zero\n",
    "<br>\n",
    "Eigenvectors of a projection matrix are the same as of original matrix."
   ]
  },
  {
   "cell_type": "code",
   "execution_count": 95,
   "id": "formed-wildlife",
   "metadata": {},
   "outputs": [
    {
     "name": "stdout",
     "output_type": "stream",
     "text": [
      "[ 3.618 -0.   ]\n",
      "[[ 0.8507 -0.5257]\n",
      " [ 0.5257  0.8507]]\n"
     ]
    }
   ],
   "source": [
    "lam_A_1, u_A_1 = LA.eig(A_1)\n",
    "print(np.round(lam_A_1, 4))\n",
    "print(np.round(u_A_1, 4))"
   ]
  },
  {
   "cell_type": "code",
   "execution_count": 99,
   "id": "beneficial-mambo",
   "metadata": {},
   "outputs": [
    {
     "name": "stdout",
     "output_type": "stream",
     "text": [
      "[0.    1.382]\n",
      "[[-0.8507  0.5257]\n",
      " [-0.5257 -0.8507]]\n"
     ]
    }
   ],
   "source": [
    "lam_A_2, u_A_2 = LA.eig(A_2)\n",
    "print(np.round(lam_A_2, 4))\n",
    "print(np.round(u_A_2, 4))"
   ]
  },
  {
   "cell_type": "code",
   "execution_count": 117,
   "id": "exempt-picnic",
   "metadata": {},
   "outputs": [],
   "source": [
    "t = A_1 @ X  # Vectors in t are the transformed vectors of x\n",
    "\n",
    "# getting the transformed sample of x from t\n",
    "t_sample = t[:, 100]"
   ]
  },
  {
   "cell_type": "code",
   "execution_count": 119,
   "id": "dressed-subject",
   "metadata": {},
   "outputs": [
    {
     "data": {
      "image/png": "[encoded data removed]",
      "text/plain": [
       "<Figure size 720x1080 with 2 Axes>"
      ]
     },
     "metadata": {
      "needs_background": "light"
     },
     "output_type": "display_data"
    }
   ],
   "source": [
    "fig, (ax1, ax2) = plt.subplots(1, 2, figsize=(10,15))\n",
    "\n",
    "plt.subplots_adjust(wspace=0.4)\n",
    "\n",
    "# Plotting s\n",
    "ax1.plot(X[0,:], X[1,:], color='r')\n",
    "ax1.set_xlabel('x', fontsize=14)\n",
    "ax1.set_ylabel('y', fontsize=14)\n",
    "ax1.set_xlim([-4,4])\n",
    "ax1.set_ylim([-4,4])\n",
    "ax1.set_aspect('equal')\n",
    "ax1.grid(True)\n",
    "ax1.set_title(\"Original vectors\")\n",
    "ax1.axhline(y=0, color='k')\n",
    "ax1.axvline(x=0, color='k')\n",
    "ax1.text(0.8, 0.8, \"$\\mathbf{x}$\", fontsize=14)\n",
    "\n",
    "# Plotting t\n",
    "ax2.plot(t[0, :], t[1, :], color='r')\n",
    "ax2.quiver(*origin, u[0,:], u[1,:], color=['b'], width=0.012, angles='xy', scale_units='xy', scale=1)\n",
    "ax2.set_xlabel('x', fontsize=14)\n",
    "ax2.set_ylabel('y', fontsize=14)\n",
    "ax2.set_xlim([-4,4])\n",
    "ax2.set_ylim([-4,4])\n",
    "ax2.set_aspect('equal')\n",
    "ax2.grid(True)\n",
    "ax2.set_title(\"New vectors after transformation\")\n",
    "ax2.axhline(y=0, color='k')\n",
    "ax2.axvline(x=0, color='k')\n",
    "ax2.text(0.4, 0.8, \"$\\mathbf{u_1}$\", fontsize=14)\n",
    "ax2.text(-1.2, 0.5, \"$\\mathbf{u_2}$\", fontsize=14)\n",
    "ax2.text(1.6, 2.3, \"$\\lambda_1\\mathbf{u_1}\\mathbf{u_1}^T\\mathbf{x}$\", fontsize=14)\n",
    "\n",
    "plt.show()"
   ]
  },
  {
   "cell_type": "markdown",
   "id": "usual-island",
   "metadata": {},
   "source": [
    "Так собственные значения соответствующие всем другим собственным векторам матрицы $A_1$ равны нулю, все значения векторов в этом направлении также зануляются, в соответствии со свойсвом симметричной матрицы.\n",
    "<br>\n",
    "Ранг каждой *проекционной матрицы*, такой как $A_1$ равен 1"
   ]
  },
  {
   "cell_type": "markdown",
   "id": "painted-innocent",
   "metadata": {},
   "source": [
    "## SVD"
   ]
  },
  {
   "cell_type": "code",
   "execution_count": 122,
   "id": "collective-blanket",
   "metadata": {},
   "outputs": [],
   "source": [
    "A = np.array([[4, 1, 3],\n",
    "              [8, 3, -2]])"
   ]
  },
  {
   "cell_type": "code",
   "execution_count": 125,
   "id": "fresh-aaron",
   "metadata": {},
   "outputs": [
    {
     "name": "stdout",
     "output_type": "stream",
     "text": [
      "[[80 28 -4]\n",
      " [28 10 -3]\n",
      " [-4 -3 13]]\n"
     ]
    }
   ],
   "source": [
    "print(A.T @ A)"
   ]
  },
  {
   "cell_type": "code",
   "execution_count": 124,
   "id": "right-picnic",
   "metadata": {},
   "outputs": [
    {
     "name": "stdout",
     "output_type": "stream",
     "text": [
      "[90.1167  0.     12.8833]\n",
      "[[ 0.9415  0.3228  0.0969]\n",
      " [ 0.3314 -0.9391 -0.0906]\n",
      " [-0.0617 -0.1174  0.9912]]\n"
     ]
    }
   ],
   "source": [
    "lam, v = LA.eig(A.T @ A)\n",
    "print(np.round(lam, 4))\n",
    "print(np.round(v, 4))"
   ]
  },
  {
   "cell_type": "code",
   "execution_count": 127,
   "id": "eligible-trunk",
   "metadata": {},
   "outputs": [
    {
     "name": "stdout",
     "output_type": "stream",
     "text": [
      "[[ 0.9415  0.0969  0.3228]\n",
      " [ 0.3314 -0.0906 -0.9391]\n",
      " [-0.0617  0.9912 -0.1174]]\n"
     ]
    }
   ],
   "source": [
    "V = v[:, lam.argsort()[::-1]]\n",
    "print(np.round(V, 4))"
   ]
  },
  {
   "cell_type": "code",
   "execution_count": 128,
   "id": "permanent-intermediate",
   "metadata": {},
   "outputs": [
    {
     "name": "stdout",
     "output_type": "stream",
     "text": [
      "[[9.493  0.     0.    ]\n",
      " [0.     3.5893 0.    ]]\n"
     ]
    }
   ],
   "source": [
    "lam_sorted = np.sort(lam)[::-1]\n",
    "lam_sorted = lam_sorted[lam_sorted > 1e-8]\n",
    "sigma = np.sqrt(lam_sorted)\n",
    "Sigma = np.zeros((A.shape[0], A.shape[1]))\n",
    "Sigma[:min(A.shape[0],A.shape[1]), :min(A.shape[0],A.shape[1])] = np.diag(sigma)\n",
    "\n",
    "print(np.round(Sigma, 4))"
   ]
  },
  {
   "cell_type": "code",
   "execution_count": 129,
   "id": "thirty-observer",
   "metadata": {},
   "outputs": [
    {
     "name": "stdout",
     "output_type": "stream",
     "text": [
      "[[ 0.4121  0.9111]\n",
      " [ 0.9111 -0.4121]]\n"
     ]
    }
   ],
   "source": [
    "r = len(sigma)\n",
    "U = A @ V[:,:r] / sigma\n",
    "print(np.round(U, 4))"
   ]
  },
  {
   "cell_type": "markdown",
   "id": "concerned-subdivision",
   "metadata": {},
   "source": [
    "### Numpy implementation"
   ]
  },
  {
   "cell_type": "code",
   "execution_count": 134,
   "id": "temporal-brooks",
   "metadata": {},
   "outputs": [
    {
     "name": "stdout",
     "output_type": "stream",
     "text": [
      "U=\n",
      " [[-0.4121 -0.9111]\n",
      " [-0.9111  0.4121]]\n",
      "s=\n",
      " [9.493  3.5893]\n",
      "V=\n",
      " [[-0.9415 -0.0969 -0.3228]\n",
      " [-0.3314  0.0906  0.9391]\n",
      " [ 0.0617 -0.9912  0.1174]]\n"
     ]
    }
   ],
   "source": [
    "U, s, VT = LA.svd(A)\n",
    "print(\"U=\\n\", np.round(U, 4))\n",
    "print(\"s=\\n\", np.round(s, 4))\n",
    "print(\"V=\\n\", np.round(VT.T, 4))"
   ]
  },
  {
   "cell_type": "code",
   "execution_count": 136,
   "id": "grateful-humidity",
   "metadata": {},
   "outputs": [
    {
     "name": "stdout",
     "output_type": "stream",
     "text": [
      "Reconstructed A=\n",
      " [[ 4.  1.  3.]\n",
      " [ 8.  3. -2.]]\n"
     ]
    }
   ],
   "source": [
    "Sigma = np.zeros((A.shape[0], A.shape[1]))\n",
    "Sigma[:min(A.shape[0],A.shape[1]), :min(A.shape[0],A.shape[1])] = np.diag(s)\n",
    "A_reconstructed = U @ Sigma @ VT\n",
    "print(\"Reconstructed A=\\n\", A_reconstructed)"
   ]
  },
  {
   "cell_type": "code",
   "execution_count": null,
   "id": "moving-rating",
   "metadata": {},
   "outputs": [],
   "source": []
  }
 ],
 "metadata": {
  "kernelspec": {
   "display_name": "Python 3",
   "language": "python",
   "name": "python3"
  },
  "language_info": {
   "codemirror_mode": {
    "name": "ipython",
    "version": 3
   },
   "file_extension": ".py",
   "mimetype": "text/x-python",
   "name": "python",
   "nbconvert_exporter": "python",
   "pygments_lexer": "ipython3",
   "version": "3.8.2"
  }
 },
 "nbformat": 4,
 "nbformat_minor": 5
}
