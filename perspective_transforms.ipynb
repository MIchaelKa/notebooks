{
 "cells": [
  {
   "cell_type": "code",
   "execution_count": null,
   "id": "5c91ea1c",
   "metadata": {},
   "outputs": [],
   "source": [
    "import numpy as np\n",
    "import cv2\n",
    "\n",
    "from matplotlib import pyplot as plt"
   ]
  },
  {
   "cell_type": "code",
   "execution_count": null,
   "id": "d1c8be1d",
   "metadata": {},
   "outputs": [],
   "source": [
    "import matplotlib.cm as cm\n",
    "colors = cm.rainbow(np.linspace(0, 1, 10))"
   ]
  },
  {
   "cell_type": "code",
   "execution_count": null,
   "id": "30028c84",
   "metadata": {},
   "outputs": [],
   "source": [
    "X = np.array([\n",
    "    [1,1],\n",
    "    [1,5],\n",
    "    [6,1],\n",
    "    [6,5],\n",
    "], dtype=\"float32\")\n",
    "\n",
    "X.shape"
   ]
  },
  {
   "cell_type": "code",
   "execution_count": null,
   "id": "d123a1ed",
   "metadata": {},
   "outputs": [],
   "source": [
    "plt.scatter(X[:,0], X[:,1], color=colors[0])"
   ]
  },
  {
   "cell_type": "code",
   "execution_count": null,
   "id": "29ed3663",
   "metadata": {},
   "outputs": [],
   "source": [
    "Y = X - 5\n",
    "Y"
   ]
  },
  {
   "cell_type": "code",
   "execution_count": null,
   "id": "a702bf86",
   "metadata": {},
   "outputs": [],
   "source": [
    "plt.scatter(X[:,0], X[:,1], color=colors[0])\n",
    "plt.scatter(Y[:,0], Y[:,1], color=colors[1])"
   ]
  },
  {
   "cell_type": "code",
   "execution_count": null,
   "id": "06cb0a64",
   "metadata": {},
   "outputs": [],
   "source": [
    "cv2.getPerspectiveTransform(X, Y)"
   ]
  },
  {
   "cell_type": "code",
   "execution_count": null,
   "id": "af0c37fd",
   "metadata": {},
   "outputs": [],
   "source": [
    "H, mask = cv2.findHomography(X, Y, method=cv2.RANSAC)\n",
    "H"
   ]
  },
  {
   "cell_type": "code",
   "execution_count": null,
   "id": "57c23afa",
   "metadata": {},
   "outputs": [],
   "source": [
    "X_h = np.hstack([X, np.ones(4).reshape(4,-1)])\n",
    "Y_h = np.hstack([Y, np.ones(4).reshape(4,-1)])"
   ]
  },
  {
   "cell_type": "code",
   "execution_count": null,
   "id": "48c1edcf",
   "metadata": {},
   "outputs": [],
   "source": [
    "A = np.linalg.inv(X_h.T@X_h)@(X_h.T@Y_h)"
   ]
  },
  {
   "cell_type": "code",
   "execution_count": null,
   "id": "b8b6318e",
   "metadata": {},
   "outputs": [],
   "source": [
    "A.T"
   ]
  },
  {
   "cell_type": "markdown",
   "id": "6930310d",
   "metadata": {},
   "source": [
    "# Making perspective"
   ]
  },
  {
   "cell_type": "code",
   "execution_count": null,
   "id": "49ca8d02",
   "metadata": {},
   "outputs": [],
   "source": [
    "X = np.array([\n",
    "    [1,1],\n",
    "    [1,5],\n",
    "    [6,1],\n",
    "    [6,5],\n",
    "], dtype=\"float32\")"
   ]
  },
  {
   "cell_type": "code",
   "execution_count": null,
   "id": "9e9dc47c",
   "metadata": {},
   "outputs": [],
   "source": [
    "Y = np.array([\n",
    "    [2,1.5],\n",
    "    [2,4.5],\n",
    "    [5,2.5],\n",
    "    [5,3.5],\n",
    "], dtype=\"float32\")"
   ]
  },
  {
   "cell_type": "code",
   "execution_count": null,
   "id": "69a4b874",
   "metadata": {},
   "outputs": [],
   "source": [
    "plt.scatter(X[:,0], X[:,1], color=colors[0])\n",
    "plt.scatter(Y[:,0], Y[:,1], color=colors[1])"
   ]
  },
  {
   "cell_type": "code",
   "execution_count": null,
   "id": "4735f5a6",
   "metadata": {},
   "outputs": [],
   "source": [
    "cv2.getPerspectiveTransform(X, Y)"
   ]
  },
  {
   "cell_type": "code",
   "execution_count": null,
   "id": "ad657275",
   "metadata": {},
   "outputs": [],
   "source": [
    "H, mask = cv2.findHomography(X, Y, method=cv2.RANSAC)\n",
    "H"
   ]
  },
  {
   "cell_type": "code",
   "execution_count": null,
   "id": "fc551d4e",
   "metadata": {},
   "outputs": [],
   "source": [
    "H, mask = cv2.findHomography(X, Y, method=cv2.RANSAC)\n",
    "H"
   ]
  },
  {
   "cell_type": "code",
   "execution_count": null,
   "id": "daebd6e6",
   "metadata": {},
   "outputs": [],
   "source": [
    "X_h = np.hstack([X, np.ones(4).reshape(4,-1)])\n",
    "Y_h = np.hstack([Y, np.ones(4).reshape(4,-1)])"
   ]
  },
  {
   "cell_type": "code",
   "execution_count": null,
   "id": "23bac173",
   "metadata": {},
   "outputs": [],
   "source": [
    "X_h"
   ]
  },
  {
   "cell_type": "code",
   "execution_count": null,
   "id": "b3b8759c",
   "metadata": {},
   "outputs": [],
   "source": [
    "X_h[1]"
   ]
  },
  {
   "cell_type": "code",
   "execution_count": null,
   "id": "01a8911b",
   "metadata": {},
   "outputs": [],
   "source": [
    "H@X_h[1].T"
   ]
  },
  {
   "cell_type": "code",
   "execution_count": null,
   "id": "7c44f263",
   "metadata": {},
   "outputs": [],
   "source": [
    "y_1 = H@X_h[1].T\n",
    "y_1 /= y_1[-1]\n",
    "y_1"
   ]
  },
  {
   "cell_type": "code",
   "execution_count": null,
   "id": "d0d95743",
   "metadata": {},
   "outputs": [],
   "source": [
    "x_5 = [107,388,1]"
   ]
  },
  {
   "cell_type": "code",
   "execution_count": null,
   "id": "0425c3d9",
   "metadata": {},
   "outputs": [],
   "source": [
    "H@x_5"
   ]
  },
  {
   "cell_type": "code",
   "execution_count": null,
   "id": "52416dd5",
   "metadata": {},
   "outputs": [],
   "source": [
    "y_5 = H@x_5\n",
    "y_5 /= y_5[-1]\n",
    "y_5"
   ]
  },
  {
   "cell_type": "markdown",
   "id": "115a322d",
   "metadata": {},
   "source": [
    "# 3D"
   ]
  },
  {
   "cell_type": "code",
   "execution_count": null,
   "id": "aaf90c16",
   "metadata": {},
   "outputs": [],
   "source": [
    "# X = np.array([\n",
    "#     [107,388,0],\n",
    "#     [107,388+120,0],\n",
    "#     [107+200,388,0],\n",
    "#     [107+200,388+120,0],\n",
    "# ], dtype=\"float32\")\n",
    "\n",
    "# Y = np.array([\n",
    "#     [150,400,0],\n",
    "#     [150,500,0],\n",
    "#     [270,420,0],\n",
    "#     [270,480,0],\n",
    "# ], dtype=\"float32\")\n",
    "\n",
    "# X = np.array([\n",
    "#     [1,1],\n",
    "#     [1,5],\n",
    "#     [6,1],\n",
    "#     [6,5],\n",
    "# ], dtype=\"float32\")\n",
    "\n",
    "# Y = np.array([\n",
    "#     [2,1.5],\n",
    "#     [2,4.5],\n",
    "#     [5,2.5],\n",
    "#     [5,3.5],\n",
    "# ], dtype=\"float32\")\n",
    "\n",
    "# X *= 100\n",
    "# Y *= 100\n",
    "\n",
    "X = np.array([\n",
    "    [100, 300],\n",
    "    [100, 420],\n",
    "    [300, 420],\n",
    "    [300, 300],\n",
    "], dtype=\"float32\")\n",
    "\n",
    "Y = np.array([\n",
    "    [120, 320],\n",
    "    [120, 400],\n",
    "    [280, 380],\n",
    "    [280, 340],\n",
    "], dtype=\"float32\")\n",
    "\n",
    "X = np.hstack([X, np.zeros(4).reshape(4,-1)])\n",
    "Y = np.hstack([Y, np.zeros(4).reshape(4,-1)])"
   ]
  },
  {
   "cell_type": "code",
   "execution_count": null,
   "id": "3e04f678",
   "metadata": {},
   "outputs": [],
   "source": [
    "X, Y"
   ]
  },
  {
   "cell_type": "code",
   "execution_count": null,
   "id": "d122ebea",
   "metadata": {},
   "outputs": [],
   "source": [
    "plt.scatter(X[:,0], X[:,1], color=colors[0])\n",
    "plt.scatter(Y[:,0], Y[:,1], color=colors[1])"
   ]
  },
  {
   "cell_type": "code",
   "execution_count": null,
   "id": "5a7dc61b",
   "metadata": {},
   "outputs": [],
   "source": [
    "H, mask = cv2.findHomography(X, Y, method=cv2.RANSAC)\n",
    "H"
   ]
  },
  {
   "cell_type": "code",
   "execution_count": null,
   "id": "e77f1f19",
   "metadata": {},
   "outputs": [],
   "source": [
    "X_h = np.hstack([X, np.ones(4).reshape(4,-1)])\n",
    "Y_h = np.hstack([Y, np.ones(4).reshape(4,-1)])"
   ]
  },
  {
   "cell_type": "code",
   "execution_count": null,
   "id": "4c8498a6",
   "metadata": {},
   "outputs": [],
   "source": [
    "X_h"
   ]
  },
  {
   "cell_type": "code",
   "execution_count": null,
   "id": "4c0d553d",
   "metadata": {},
   "outputs": [],
   "source": [
    "x_1 = X_h[1]\n",
    "x_1"
   ]
  },
  {
   "cell_type": "code",
   "execution_count": null,
   "id": "7d9f7466",
   "metadata": {},
   "outputs": [],
   "source": [
    "H"
   ]
  },
  {
   "cell_type": "code",
   "execution_count": null,
   "id": "8b442aef",
   "metadata": {},
   "outputs": [],
   "source": [
    "H_4 = np.insert(H, 2, 0, axis=0)\n",
    "H_4 = np.insert(H_4, 2, 0, axis=1)\n",
    "H_4[2,2] = 1\n",
    "print(H_4)"
   ]
  },
  {
   "cell_type": "code",
   "execution_count": null,
   "id": "d055f747",
   "metadata": {},
   "outputs": [],
   "source": [
    "H_4@x_1"
   ]
  },
  {
   "cell_type": "code",
   "execution_count": null,
   "id": "b9146c9d",
   "metadata": {},
   "outputs": [],
   "source": [
    "y_1 = H_4@x_1\n",
    "y_1 /= y_1[-1]\n",
    "y_1"
   ]
  },
  {
   "cell_type": "markdown",
   "id": "d914f59d",
   "metadata": {},
   "source": [
    "## Other points"
   ]
  },
  {
   "cell_type": "code",
   "execution_count": null,
   "id": "0b41a9f8",
   "metadata": {},
   "outputs": [],
   "source": [
    "x_5 = [200, 120, 0, 1]"
   ]
  },
  {
   "cell_type": "code",
   "execution_count": null,
   "id": "8ed67ff4",
   "metadata": {},
   "outputs": [],
   "source": [
    "H_4@x_5"
   ]
  },
  {
   "cell_type": "code",
   "execution_count": null,
   "id": "79da1e6f",
   "metadata": {},
   "outputs": [],
   "source": [
    "y_5 = H_4@x_5\n",
    "y_5 /= y_5[-1]\n",
    "y_5"
   ]
  },
  {
   "cell_type": "code",
   "execution_count": null,
   "id": "22c72b43",
   "metadata": {},
   "outputs": [],
   "source": [
    "plt.scatter(X[:,0], X[:,1], color=colors[0])\n",
    "plt.scatter(Y[:,0], Y[:,1], color=colors[1])\n",
    "\n",
    "plt.scatter(x_5[0], x_5[1], color=colors[2])\n",
    "plt.scatter(y_5[0], y_5[1], color=colors[3])"
   ]
  },
  {
   "cell_type": "code",
   "execution_count": null,
   "id": "fcd746f4",
   "metadata": {},
   "outputs": [],
   "source": [
    "x_5 = [200, 120, 0, 1]"
   ]
  },
  {
   "cell_type": "markdown",
   "id": "e48e8517",
   "metadata": {},
   "source": [
    "## Other mat"
   ]
  },
  {
   "cell_type": "code",
   "execution_count": null,
   "id": "a1eea199",
   "metadata": {},
   "outputs": [],
   "source": [
    "# H_4 = np.array([\n",
    "#     [1,0,0,0],\n",
    "#     [0,1,0,0],\n",
    "#     [0,0,1,0],\n",
    "#     [0.01,0,0,1]\n",
    "# ], dtype=\"float32\"\n",
    "# )\n",
    "\n",
    "# Y rotate with perspective m34\n",
    "H_4 = np.array([\n",
    "    [0.7071067811865476, 0, 0.7071067811865475, 0],\n",
    "    [0, 1, 0, 0],\n",
    "    [-0.7071067811865475, 0, 0.7071067811865476, 0],\n",
    "    [0.001414213562373095, 0, -0.0014142135623730952, 1]\n",
    "], dtype=\"float32\")\n",
    "\n",
    "# Z rotate\n",
    "H_4 = np.array([\n",
    "    [0.7071067811865476, -0.7071067811865475, 0, 0],\n",
    "    [0.7071067811865475, 0.7071067811865476, 0, 0],\n",
    "    [0, 0, 1, 0],\n",
    "    [0, 0, 0, 1]\n",
    "], dtype=\"float32\")"
   ]
  },
  {
   "cell_type": "code",
   "execution_count": null,
   "id": "32b0e594",
   "metadata": {},
   "outputs": [],
   "source": [
    "H_4"
   ]
  },
  {
   "cell_type": "code",
   "execution_count": null,
   "id": "5b2bdeae",
   "metadata": {},
   "outputs": [],
   "source": [
    "X_h[0]"
   ]
  },
  {
   "cell_type": "code",
   "execution_count": null,
   "id": "b5af8ce1",
   "metadata": {},
   "outputs": [],
   "source": [
    "H_4@X_h[0]"
   ]
  },
  {
   "cell_type": "code",
   "execution_count": null,
   "id": "617c5d61",
   "metadata": {},
   "outputs": [],
   "source": [
    "y = H_4@X_h[0]\n",
    "y /= y[-1]\n",
    "y"
   ]
  },
  {
   "cell_type": "code",
   "execution_count": null,
   "id": "76aecfd6",
   "metadata": {},
   "outputs": [],
   "source": [
    "X_h"
   ]
  },
  {
   "cell_type": "code",
   "execution_count": null,
   "id": "a46ebc20",
   "metadata": {},
   "outputs": [],
   "source": [
    "R = (H_4@X_h.T).T"
   ]
  },
  {
   "cell_type": "code",
   "execution_count": null,
   "id": "2184fde5",
   "metadata": {},
   "outputs": [],
   "source": [
    "R"
   ]
  },
  {
   "cell_type": "code",
   "execution_count": null,
   "id": "e99a0ef9",
   "metadata": {},
   "outputs": [],
   "source": [
    "Y = R / R[:,-1, np.newaxis]"
   ]
  },
  {
   "cell_type": "code",
   "execution_count": null,
   "id": "626d4c07",
   "metadata": {},
   "outputs": [],
   "source": [
    "Y"
   ]
  },
  {
   "cell_type": "code",
   "execution_count": null,
   "id": "fcc988ed",
   "metadata": {},
   "outputs": [],
   "source": [
    "plt.scatter(X[:,0], X[:,1], color=colors[0:4])\n",
    "plt.scatter(Y[:,0], Y[:,1], color=colors[0:4])\n",
    "\n",
    "plt.scatter(1.0, 1.0, color=colors[3])\n",
    "plt.scatter(200, 360, color=\"red\")"
   ]
  },
  {
   "cell_type": "code",
   "execution_count": null,
   "id": "90577285",
   "metadata": {},
   "outputs": [],
   "source": [
    "origin = [200, 360]"
   ]
  },
  {
   "cell_type": "code",
   "execution_count": null,
   "id": "2c149a0d",
   "metadata": {},
   "outputs": [],
   "source": [
    "T = np.array([\n",
    "    [1, 0, 0, -200],\n",
    "    [0, 1, 0, -360],\n",
    "    [0, 0, 1, 0],\n",
    "    [0, 0, 0, 1]\n",
    "], dtype=\"float32\")"
   ]
  },
  {
   "cell_type": "code",
   "execution_count": null,
   "id": "36d1f2e5",
   "metadata": {},
   "outputs": [],
   "source": [
    "T_2 = np.array([\n",
    "    [1, 0, 0, 200],\n",
    "    [0, 1, 0, 360],\n",
    "    [0, 0, 1, 0],\n",
    "    [0, 0, 0, 1]\n",
    "], dtype=\"float32\")"
   ]
  },
  {
   "cell_type": "code",
   "execution_count": null,
   "id": "71da0ef2",
   "metadata": {},
   "outputs": [],
   "source": [
    "M = T_2 @ H_4 @ T\n",
    "M"
   ]
  },
  {
   "cell_type": "code",
   "execution_count": null,
   "id": "dc3ca046",
   "metadata": {},
   "outputs": [],
   "source": [
    "R = (M@X_h.T).T"
   ]
  },
  {
   "cell_type": "code",
   "execution_count": null,
   "id": "28fe659b",
   "metadata": {},
   "outputs": [],
   "source": [
    "Y = R / R[:,-1, np.newaxis]"
   ]
  },
  {
   "cell_type": "code",
   "execution_count": null,
   "id": "9b4e6ad6",
   "metadata": {},
   "outputs": [],
   "source": [
    "plt.scatter(X[:,0], X[:,1], color=colors[0:4])\n",
    "plt.scatter(Y[:,0], Y[:,1], color=colors[0:4])\n",
    "\n",
    "plt.scatter(200, 360, color=\"red\")"
   ]
  },
  {
   "cell_type": "code",
   "execution_count": null,
   "id": "8529a426",
   "metadata": {},
   "outputs": [],
   "source": [
    "Y"
   ]
  },
  {
   "cell_type": "code",
   "execution_count": null,
   "id": "4e711e75",
   "metadata": {},
   "outputs": [],
   "source": [
    "X"
   ]
  },
  {
   "cell_type": "code",
   "execution_count": null,
   "id": "2a1e3676",
   "metadata": {},
   "outputs": [],
   "source": [
    "H, mask = cv2.findHomography(X, Y[:,:3], method=cv2.RANSAC)\n",
    "H"
   ]
  },
  {
   "cell_type": "markdown",
   "id": "1eedae0a",
   "metadata": {},
   "source": [
    "## Для скейла"
   ]
  },
  {
   "cell_type": "code",
   "execution_count": null,
   "id": "98364c51",
   "metadata": {},
   "outputs": [],
   "source": [
    "M"
   ]
  },
  {
   "cell_type": "code",
   "execution_count": null,
   "id": "74431463",
   "metadata": {},
   "outputs": [],
   "source": [
    "R = (M@X_h.T).T\n",
    "Y = R / R[:,-1, np.newaxis]"
   ]
  },
  {
   "cell_type": "code",
   "execution_count": null,
   "id": "60a47545",
   "metadata": {},
   "outputs": [],
   "source": [
    "plt.scatter(X[:,0], X[:,1], color=colors[0:4])\n",
    "plt.scatter(Y[:,0], Y[:,1], color=colors[0:4])\n",
    "\n",
    "plt.scatter(1.0, 1.0, color=colors[3])\n",
    "plt.scatter(200, 360, color=\"red\")"
   ]
  },
  {
   "cell_type": "code",
   "execution_count": null,
   "id": "0ce7304a",
   "metadata": {},
   "outputs": [],
   "source": [
    "X_scaled = np.array([\n",
    "    [2, 0, 0, 0],\n",
    "    [0, 2, 0, 0],\n",
    "    [0, 0, 1, 0],\n",
    "    [0, 0, 0, 1]\n",
    "], dtype=\"float32\")"
   ]
  },
  {
   "cell_type": "code",
   "execution_count": null,
   "id": "48f3f46e",
   "metadata": {},
   "outputs": [],
   "source": [
    "R = (X_scaled@X_h.T).T\n",
    "S = R / R[:,-1, np.newaxis]"
   ]
  },
  {
   "cell_type": "code",
   "execution_count": null,
   "id": "c867ea4d",
   "metadata": {},
   "outputs": [],
   "source": [
    "plt.scatter(X[:,0], X[:,1], color=colors[0:4])\n",
    "plt.scatter(Y[:,0], Y[:,1], color=colors[0:4])\n",
    "plt.scatter(S[:,0], S[:,1], color=colors[0:4])\n",
    "\n",
    "plt.scatter(1.0, 1.0, color=colors[3])\n",
    "plt.scatter(200, 360, color=\"red\")"
   ]
  },
  {
   "cell_type": "code",
   "execution_count": null,
   "id": "332dbed8",
   "metadata": {},
   "outputs": [],
   "source": [
    "# M_scaled = M @ X_scaled\n",
    "M_scaled = np.linalg.inv(X_scaled) @ M @ X_scaled\n",
    "M_scaled"
   ]
  },
  {
   "cell_type": "code",
   "execution_count": null,
   "id": "794feb13",
   "metadata": {},
   "outputs": [],
   "source": [
    "S"
   ]
  },
  {
   "cell_type": "code",
   "execution_count": null,
   "id": "e3513bbc",
   "metadata": {},
   "outputs": [],
   "source": [
    "R = (M@S.T).T\n",
    "S_rot = R / R[:,-1, np.newaxis]\n",
    "S_rot"
   ]
  },
  {
   "cell_type": "code",
   "execution_count": null,
   "id": "62896a1d",
   "metadata": {},
   "outputs": [],
   "source": [
    "R = (M_scaled@X_h.T).T\n",
    "S_rot_2 = R / R[:,-1, np.newaxis]\n",
    "S_rot_2"
   ]
  },
  {
   "cell_type": "code",
   "execution_count": null,
   "id": "9614aa17",
   "metadata": {},
   "outputs": [],
   "source": [
    "# plt.scatter(X[:,0], X[:,1], color=colors[0:4])\n",
    "# plt.scatter(Y[:,0], Y[:,1], color=colors[0:4])\n",
    "plt.scatter(S[:,0], S[:,1], color=colors[0:4])\n",
    "# plt.scatter(S_rot[:,0], S_rot[:,1], color=colors[0:4])\n",
    "plt.scatter(S_rot_2[:,0], S_rot_2[:,1], color=colors[0:4])\n",
    "\n",
    "plt.scatter(1.0, 1.0, color=colors[3])\n",
    "plt.scatter(200, 360, color=\"red\")"
   ]
  },
  {
   "cell_type": "markdown",
   "id": "ca186ceb",
   "metadata": {},
   "source": [
    "## Туда и обратно"
   ]
  },
  {
   "cell_type": "code",
   "execution_count": null,
   "id": "81472f34",
   "metadata": {},
   "outputs": [],
   "source": [
    "M = T_2 @ H_4 @ T\n",
    "M"
   ]
  },
  {
   "cell_type": "code",
   "execution_count": null,
   "id": "bdd3c1c4",
   "metadata": {},
   "outputs": [],
   "source": [
    "H_4"
   ]
  },
  {
   "cell_type": "code",
   "execution_count": null,
   "id": "0181ef98",
   "metadata": {},
   "outputs": [],
   "source": [
    "T_2 @ H_4 @ T"
   ]
  },
  {
   "cell_type": "code",
   "execution_count": null,
   "id": "fbceafbe",
   "metadata": {},
   "outputs": [],
   "source": [
    "T_2 @ M @ T"
   ]
  },
  {
   "cell_type": "code",
   "execution_count": null,
   "id": "1af9c55b",
   "metadata": {},
   "outputs": [],
   "source": [
    "T @ M @ T_2"
   ]
  },
  {
   "cell_type": "code",
   "execution_count": null,
   "id": "1c6cd96f",
   "metadata": {},
   "outputs": [],
   "source": [
    "np.linalg.inv(T_2) @ M @ np.linalg.inv(T)"
   ]
  },
  {
   "cell_type": "code",
   "execution_count": null,
   "id": "690369e5",
   "metadata": {},
   "outputs": [],
   "source": []
  }
 ],
 "metadata": {
  "kernelspec": {
   "display_name": "Python 3 (ipykernel)",
   "language": "python",
   "name": "python3"
  },
  "language_info": {
   "codemirror_mode": {
    "name": "ipython",
    "version": 3
   },
   "file_extension": ".py",
   "mimetype": "text/x-python",
   "name": "python",
   "nbconvert_exporter": "python",
   "pygments_lexer": "ipython3",
   "version": "3.8.9"
  }
 },
 "nbformat": 4,
 "nbformat_minor": 5
}
