{
 "cells": [
  {
   "cell_type": "code",
   "execution_count": 4,
   "id": "64dc0e44-9376-4ec1-a5fa-1136fb5cfc24",
   "metadata": {},
   "outputs": [],
   "source": [
    "import matplotlib.pyplot as plt\n",
    "import numpy as np\n",
    "import math"
   ]
  },
  {
   "cell_type": "code",
   "execution_count": 11,
   "id": "85a5cecf-dcb3-4860-bd14-8759d23d28eb",
   "metadata": {},
   "outputs": [],
   "source": [
    "# make data\n",
    "x = np.linspace(0, 10, 100)\n",
    "\n",
    "F = 3\n",
    "n = 4/3 # air/water"
   ]
  },
  {
   "cell_type": "code",
   "execution_count": 9,
   "id": "0df90b34-6da9-40b1-b181-77936b5e1f1e",
   "metadata": {},
   "outputs": [
    {
     "data": {
      "text/plain": [
       "(2.0, 2.0)"
      ]
     },
     "execution_count": 9,
     "metadata": {},
     "output_type": "execute_result"
    }
   ],
   "source": [
    "np.sqrt(4), math.sqrt(4) # TODO: check time!"
   ]
  },
  {
   "cell_type": "code",
   "execution_count": 15,
   "id": "b20b51d3-127b-4e29-86eb-06b16f8692ad",
   "metadata": {},
   "outputs": [
    {
     "data": {
      "text/plain": [
       "0.7777777777777777"
      ]
     },
     "execution_count": 15,
     "metadata": {},
     "output_type": "execute_result"
    }
   ],
   "source": [
    "x**2*(n**2-1)"
   ]
  },
  {
   "cell_type": "code",
   "execution_count": 16,
   "id": "0699ff75-44a1-4f8e-a903-5ebc29181372",
   "metadata": {},
   "outputs": [
    {
     "name": "stderr",
     "output_type": "stream",
     "text": [
      "/var/folders/1t/jqzb9jpn3fg7q__x_s9pm6b87_6zxd/T/ipykernel_3698/842308462.py:1: RuntimeWarning: invalid value encountered in sqrt\n",
      "  y = (1 / n) * np.sqrt(2*F*n*(n-1)-x**2*(n**2-1))\n"
     ]
    }
   ],
   "source": [
    "y = (1 / n) * np.sqrt(2*F*n*(n-1)-x**2*(n**2-1))"
   ]
  },
  {
   "cell_type": "code",
   "execution_count": 35,
   "id": "a3b0abb1-7a7c-4bbb-b369-8082905fa443",
   "metadata": {},
   "outputs": [
    {
     "data": {
      "text/plain": [
       "array([ 0.        ,  0.1010101 ,  0.2020202 ,  0.3030303 ,  0.4040404 ,\n",
       "        0.50505051,  0.60606061,  0.70707071,  0.80808081,  0.90909091,\n",
       "        1.01010101,  1.11111111,  1.21212121,  1.31313131,  1.41414141,\n",
       "        1.51515152,  1.61616162,  1.71717172,  1.81818182,  1.91919192,\n",
       "        2.02020202,  2.12121212,  2.22222222,  2.32323232,  2.42424242,\n",
       "        2.52525253,  2.62626263,  2.72727273,  2.82828283,  2.92929293,\n",
       "        3.03030303,  3.13131313,  3.23232323,  3.33333333,  3.43434343,\n",
       "        3.53535354,  3.63636364,  3.73737374,  3.83838384,  3.93939394,\n",
       "        4.04040404,  4.14141414,  4.24242424,  4.34343434,  4.44444444,\n",
       "        4.54545455,  4.64646465,  4.74747475,  4.84848485,  4.94949495,\n",
       "        5.05050505,  5.15151515,  5.25252525,  5.35353535,  5.45454545,\n",
       "        5.55555556,  5.65656566,  5.75757576,  5.85858586,  5.95959596,\n",
       "        6.06060606,  6.16161616,  6.26262626,  6.36363636,  6.46464646,\n",
       "        6.56565657,  6.66666667,  6.76767677,  6.86868687,  6.96969697,\n",
       "        7.07070707,  7.17171717,  7.27272727,  7.37373737,  7.47474747,\n",
       "        7.57575758,  7.67676768,  7.77777778,  7.87878788,  7.97979798,\n",
       "        8.08080808,  8.18181818,  8.28282828,  8.38383838,  8.48484848,\n",
       "        8.58585859,  8.68686869,  8.78787879,  8.88888889,  8.98989899,\n",
       "        9.09090909,  9.19191919,  9.29292929,  9.39393939,  9.49494949,\n",
       "        9.5959596 ,  9.6969697 ,  9.7979798 ,  9.8989899 , 10.        ])"
      ]
     },
     "execution_count": 35,
     "metadata": {},
     "output_type": "execute_result"
    }
   ],
   "source": [
    "x"
   ]
  },
  {
   "cell_type": "code",
   "execution_count": 26,
   "id": "54e9a83f-e963-4a49-b5e4-b9ad4bd62fac",
   "metadata": {},
   "outputs": [
    {
     "data": {
      "text/plain": [
       "array([ True,  True,  True,  True,  True,  True,  True,  True,  True,\n",
       "        True,  True,  True,  True,  True,  True,  True,  True,  True,\n",
       "        True,  True,  True,  True,  True,  True,  True,  True,  True,\n",
       "        True,  True,  True,  True,  True,  True,  True,  True,  True,\n",
       "        True,  True,  True,  True,  True,  True,  True,  True,  True,\n",
       "        True,  True,  True,  True,  True,  True,  True,  True,  True,\n",
       "        True,  True,  True,  True,  True,  True,  True,  True,  True,\n",
       "        True,  True,  True,  True,  True,  True,  True,  True,  True,\n",
       "        True,  True,  True,  True,  True,  True,  True,  True,  True,\n",
       "        True,  True,  True,  True,  True,  True,  True,  True,  True,\n",
       "        True,  True,  True,  True,  True,  True,  True,  True,  True,\n",
       "        True])"
      ]
     },
     "execution_count": 26,
     "metadata": {},
     "output_type": "execute_result"
    }
   ],
   "source": [
    "y!=math.nan"
   ]
  },
  {
   "cell_type": "code",
   "execution_count": 27,
   "id": "d25bfa85-6d8a-423f-98ce-9f82439b96c1",
   "metadata": {},
   "outputs": [
    {
     "data": {
      "text/plain": [
       "array([1.22474487, 1.22292116, 1.21743364, 1.2082324 , 1.19523166,\n",
       "       1.17830567, 1.15728221, 1.131933  , 1.10195956, 1.06697224])"
      ]
     },
     "execution_count": 27,
     "metadata": {},
     "output_type": "execute_result"
    }
   ],
   "source": [
    "y[:10]"
   ]
  },
  {
   "cell_type": "code",
   "execution_count": 29,
   "id": "d20238fc-9b56-4c2d-982b-efa4fa6a6f0b",
   "metadata": {},
   "outputs": [],
   "source": [
    "plt.style.use('_mpl-gallery')"
   ]
  },
  {
   "cell_type": "code",
   "execution_count": 36,
   "id": "0b357e5e-faaa-4bc1-877e-6be564876dd4",
   "metadata": {},
   "outputs": [
    {
     "data": {
      "text/plain": [
       "[<matplotlib.lines.Line2D at 0x123f479a0>]"
      ]
     },
     "execution_count": 36,
     "metadata": {},
     "output_type": "execute_result"
    },
    {
     "data": {
      "image/png": "[encoded data removed]",
      "text/plain": [
       "<Figure size 360x360 with 1 Axes>"
      ]
     },
     "metadata": {
      "needs_background": "light"
     },
     "output_type": "display_data"
    }
   ],
   "source": [
    "# fig, ax = plt.subplots()\n",
    "plt.figure(figsize=(5, 5))\n",
    "\n",
    "plt.plot(x, -y, linewidth=2.0)"
   ]
  },
  {
   "cell_type": "markdown",
   "id": "13fc7d9c-e53b-4f00-bb22-e2cffa6c1e29",
   "metadata": {},
   "source": [
    "## Поверхность четвертого порядка?\n",
    "Это не поверхность четвертого порядка - обычная парабола.<br>\n",
    "Значит для лучей пришедших параллельно (из бесконечности) все работает лучше?\n",
    "\n",
    "Но по прежнему хорошо работает только для **параксилальных лучей**.<br>\n",
    "Лучи ближе к оси между источником распространения и центра линзы и так можно считать параллельными."
   ]
  },
  {
   "cell_type": "code",
   "execution_count": null,
   "id": "ae7d6b9e-7150-4eaf-b67b-1cf6e091b77f",
   "metadata": {},
   "outputs": [],
   "source": []
  }
 ],
 "metadata": {
  "kernelspec": {
   "display_name": "Python 3 (ipykernel)",
   "language": "python",
   "name": "python3"
  },
  "language_info": {
   "codemirror_mode": {
    "name": "ipython",
    "version": 3
   },
   "file_extension": ".py",
   "mimetype": "text/x-python",
   "name": "python",
   "nbconvert_exporter": "python",
   "pygments_lexer": "ipython3",
   "version": "3.8.9"
  }
 },
 "nbformat": 4,
 "nbformat_minor": 5
}
