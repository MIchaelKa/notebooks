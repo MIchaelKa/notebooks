{
 "cells": [
  {
   "cell_type": "code",
   "execution_count": 2,
   "id": "70e6824a-f6d8-4ae8-9380-c863b35fea6d",
   "metadata": {},
   "outputs": [],
   "source": [
    "import numpy as np\n",
    "from matplotlib import pyplot as plt"
   ]
  },
  {
   "cell_type": "code",
   "execution_count": 7,
   "id": "1e409a5d-47e3-413c-a7e8-84cea47bdb1f",
   "metadata": {},
   "outputs": [],
   "source": [
    "import math"
   ]
  },
  {
   "cell_type": "code",
   "execution_count": 8,
   "id": "d4729ca6-6326-4957-8902-2b7e8450259f",
   "metadata": {},
   "outputs": [
    {
     "data": {
      "text/plain": [
       "\u001b[0;31mSignature:\u001b[0m \u001b[0mmath\u001b[0m\u001b[0;34m.\u001b[0m\u001b[0mpow\u001b[0m\u001b[0;34m(\u001b[0m\u001b[0mx\u001b[0m\u001b[0;34m,\u001b[0m \u001b[0my\u001b[0m\u001b[0;34m,\u001b[0m \u001b[0;34m/\u001b[0m\u001b[0;34m)\u001b[0m\u001b[0;34m\u001b[0m\u001b[0;34m\u001b[0m\u001b[0m\n",
       "\u001b[0;31mDocstring:\u001b[0m Return x**y (x to the power of y).\n",
       "\u001b[0;31mType:\u001b[0m      builtin_function_or_method\n"
      ]
     },
     "metadata": {},
     "output_type": "display_data"
    }
   ],
   "source": [
    "math.pow?"
   ]
  },
  {
   "cell_type": "markdown",
   "id": "fbf58bf9-d479-4865-af31-09280d0e5002",
   "metadata": {},
   "source": [
    "# 39 Кинетическая теория газов"
   ]
  },
  {
   "cell_type": "markdown",
   "id": "9ad82ea6-41e2-4b39-a462-7f1b3aa04faf",
   "metadata": {},
   "source": [
    "## Задача 39.2"
   ]
  },
  {
   "cell_type": "code",
   "execution_count": 16,
   "id": "f137c1da-b11d-49d1-a707-fd7143bc3b68",
   "metadata": {},
   "outputs": [
    {
     "data": {
      "text/plain": [
       "1.4303687479263854"
      ]
     },
     "execution_count": 16,
     "metadata": {},
     "output_type": "execute_result"
    }
   ],
   "source": [
    "gamma = 1.4\n",
    "T1 = 293\n",
    "alpha = (1 / 3.5 )**((1-gamma)/gamma)\n",
    "alpha"
   ]
  },
  {
   "cell_type": "code",
   "execution_count": 19,
   "id": "580684e7-559e-4c0b-9626-271c17bb2691",
   "metadata": {},
   "outputs": [
    {
     "data": {
      "text/plain": [
       "-0.28571428571428564"
      ]
     },
     "execution_count": 19,
     "metadata": {},
     "output_type": "execute_result"
    }
   ],
   "source": [
    "(1-gamma)/gamma"
   ]
  },
  {
   "cell_type": "code",
   "execution_count": 18,
   "id": "2beda709-3cf3-4ef9-a951-651875b239a5",
   "metadata": {},
   "outputs": [
    {
     "data": {
      "text/plain": [
       "146.09804314243092"
      ]
     },
     "execution_count": 18,
     "metadata": {},
     "output_type": "execute_result"
    }
   ],
   "source": [
    "alpha * T1 - 273"
   ]
  },
  {
   "cell_type": "code",
   "execution_count": null,
   "id": "18bd2a96-43e6-4a0d-bbd6-25b29e4f7318",
   "metadata": {},
   "outputs": [],
   "source": []
  }
 ],
 "metadata": {
  "kernelspec": {
   "display_name": "Python 3 (ipykernel)",
   "language": "python",
   "name": "python3"
  },
  "language_info": {
   "codemirror_mode": {
    "name": "ipython",
    "version": 3
   },
   "file_extension": ".py",
   "mimetype": "text/x-python",
   "name": "python",
   "nbconvert_exporter": "python",
   "pygments_lexer": "ipython3",
   "version": "3.8.9"
  },
  "toc-autonumbering": false
 },
 "nbformat": 4,
 "nbformat_minor": 5
}
