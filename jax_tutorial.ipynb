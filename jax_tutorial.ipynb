{
 "cells": [
  {
   "cell_type": "code",
   "execution_count": 1,
   "id": "db470919-ca64-49c0-bd6c-948de01edbba",
   "metadata": {},
   "outputs": [],
   "source": [
    "import numpy as np\n",
    "\n",
    "import jax.numpy as jnp\n",
    "from jax import jit"
   ]
  },
  {
   "cell_type": "markdown",
   "id": "c9000b20-2274-46cd-a7c8-b722565e4d14",
   "metadata": {},
   "source": [
    "# JIT "
   ]
  },
  {
   "cell_type": "code",
   "execution_count": 2,
   "id": "4a36e1ef-3d86-436a-b251-03714a58e3b7",
   "metadata": {},
   "outputs": [],
   "source": [
    "def norm(X):\n",
    "    X = X - X.mean(0)\n",
    "    return X / X.std(0)"
   ]
  },
  {
   "cell_type": "code",
   "execution_count": 3,
   "id": "a5001502-49a0-4d3a-afd7-81962ea5b55f",
   "metadata": {},
   "outputs": [],
   "source": [
    "norm_compiled = jit(norm)"
   ]
  },
  {
   "cell_type": "code",
   "execution_count": 4,
   "id": "b61a6149-6a4a-4f78-ad7c-eaff58c8f134",
   "metadata": {},
   "outputs": [],
   "source": [
    "@jit\n",
    "def norm_compiled_2(X):\n",
    "    X = X - X.mean(0)\n",
    "    return X / X.std(0)"
   ]
  },
  {
   "cell_type": "code",
   "execution_count": 5,
   "id": "674172f2-7c5d-4ea7-90cb-5f50fa5df96a",
   "metadata": {},
   "outputs": [],
   "source": [
    "X = jnp.array(np.random.rand(10000, 10))"
   ]
  },
  {
   "cell_type": "code",
   "execution_count": 6,
   "id": "471d8428-03af-47e0-a486-4e74711fc5e7",
   "metadata": {},
   "outputs": [
    {
     "name": "stdout",
     "output_type": "stream",
     "text": [
      "356 µs ± 1.92 µs per loop (mean ± std. dev. of 7 runs, 1,000 loops each)\n",
      "328 µs ± 2.89 µs per loop (mean ± std. dev. of 7 runs, 1,000 loops each)\n",
      "331 µs ± 3.69 µs per loop (mean ± std. dev. of 7 runs, 1,000 loops each)\n"
     ]
    }
   ],
   "source": [
    "%timeit norm(X).block_until_ready()\n",
    "%timeit norm_compiled(X).block_until_ready()\n",
    "%timeit norm_compiled_2(X).block_until_ready()\n",
    "\n",
    "# getting ~same time on cpu"
   ]
  },
  {
   "cell_type": "markdown",
   "id": "38702a73-f2a7-401d-9ae8-20467623d5fb",
   "metadata": {},
   "source": [
    "# Tracing"
   ]
  },
  {
   "cell_type": "code",
   "execution_count": 7,
   "id": "848f0ccc-3b34-4e76-b5c7-2832f8098496",
   "metadata": {},
   "outputs": [],
   "source": [
    "@jit\n",
    "def f(x, y):\n",
    "    print(\"Running f():\")\n",
    "    print(f\"  x = {x}\")\n",
    "    print(f\"  y = {y}\")\n",
    "    result = jnp.dot(x + 1, y + 1)\n",
    "    print(f\"  result = {result}\")\n",
    "    return result"
   ]
  },
  {
   "cell_type": "code",
   "execution_count": 8,
   "id": "d56622de-abda-4a63-a34f-ba90f92323b2",
   "metadata": {},
   "outputs": [
    {
     "name": "stdout",
     "output_type": "stream",
     "text": [
      "Running f():\n",
      "  x = Traced<ShapedArray(float32[3,4])>with<DynamicJaxprTrace(level=1/0)>\n",
      "  y = Traced<ShapedArray(float32[4])>with<DynamicJaxprTrace(level=1/0)>\n",
      "  result = Traced<ShapedArray(float32[3])>with<DynamicJaxprTrace(level=1/0)>\n"
     ]
    },
    {
     "data": {
      "text/plain": [
       "Array([-0.19564901,  0.43656248, -1.0710025 ], dtype=float32)"
      ]
     },
     "execution_count": 8,
     "metadata": {},
     "output_type": "execute_result"
    }
   ],
   "source": [
    "x = np.random.randn(3, 4)\n",
    "y = np.random.randn(4)\n",
    "f(x, y)"
   ]
  },
  {
   "cell_type": "code",
   "execution_count": 9,
   "id": "a519c3a1-c77c-45ec-a910-dd68b8e71dcf",
   "metadata": {},
   "outputs": [
    {
     "data": {
      "text/plain": [
       "Array([ 3.9986274 ,  7.8108335 , -0.76711214], dtype=float32)"
      ]
     },
     "execution_count": 9,
     "metadata": {},
     "output_type": "execute_result"
    }
   ],
   "source": [
    "x2 = np.random.randn(3, 4)\n",
    "y2 = np.random.randn(4)\n",
    "f(x2, y2)"
   ]
  },
  {
   "cell_type": "code",
   "execution_count": 10,
   "id": "afb83659-c7ad-4afe-a244-b2cd5369b6af",
   "metadata": {},
   "outputs": [
    {
     "name": "stdout",
     "output_type": "stream",
     "text": [
      "Running f():\n",
      "  x = Traced<ShapedArray(float32[2,4])>with<DynamicJaxprTrace(level=1/0)>\n",
      "  y = Traced<ShapedArray(float32[4])>with<DynamicJaxprTrace(level=1/0)>\n",
      "  result = Traced<ShapedArray(float32[2])>with<DynamicJaxprTrace(level=1/0)>\n"
     ]
    },
    {
     "data": {
      "text/plain": [
       "Array([4.1383476, 5.5366507], dtype=float32)"
      ]
     },
     "execution_count": 10,
     "metadata": {},
     "output_type": "execute_result"
    }
   ],
   "source": [
    "x3 = np.random.randn(2, 4)\n",
    "y2 = np.random.randn(4)\n",
    "f(x3, y2)"
   ]
  },
  {
   "cell_type": "markdown",
   "id": "141c6477-1e72-4f8c-9a6e-b0a9da21038a",
   "metadata": {},
   "source": [
    "# Control Flow"
   ]
  },
  {
   "cell_type": "code",
   "execution_count": 11,
   "id": "5c7fee39-a4c7-4fd0-955a-891912937d18",
   "metadata": {},
   "outputs": [],
   "source": [
    "def f(x, n):\n",
    "    y = 0.\n",
    "    for i in range(n):\n",
    "        y = y + x[i]\n",
    "    return y\n",
    "\n",
    "# In effect, the loop gets statically unrolled. \n",
    "f = jit(f, static_argnums=(1,))"
   ]
  },
  {
   "cell_type": "code",
   "execution_count": 12,
   "id": "d591e441-61db-4118-9e39-a87b3bb4cc07",
   "metadata": {},
   "outputs": [
    {
     "data": {
      "text/plain": [
       "Array(5., dtype=float32)"
      ]
     },
     "execution_count": 12,
     "metadata": {},
     "output_type": "execute_result"
    }
   ],
   "source": [
    "f(jnp.array([2., 3., 4.]), 2)"
   ]
  },
  {
   "cell_type": "code",
   "execution_count": null,
   "id": "9fb0c758-f6cc-476d-835d-bcb29407e77d",
   "metadata": {},
   "outputs": [],
   "source": []
  }
 ],
 "metadata": {
  "kernelspec": {
   "display_name": "Python 3 (ipykernel)",
   "language": "python",
   "name": "python3"
  },
  "language_info": {
   "codemirror_mode": {
    "name": "ipython",
    "version": 3
   },
   "file_extension": ".py",
   "mimetype": "text/x-python",
   "name": "python",
   "nbconvert_exporter": "python",
   "pygments_lexer": "ipython3",
   "version": "3.8.9"
  }
 },
 "nbformat": 4,
 "nbformat_minor": 5
}
