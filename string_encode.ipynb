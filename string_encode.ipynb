{
 "cells": [
  {
   "cell_type": "code",
   "execution_count": null,
   "id": "d912c04f",
   "metadata": {},
   "outputs": [],
   "source": [
    "# text = 'ST00012|Name=Ð£Ð¿Ñ\\x80Ð°Ð²Ð»ÐµÐ½Ð¸Ðµ Ð¤ÐµÐ´ÐµÑ\\x80Ð°Ð»Ñ\\x8cÐ½Ð¾Ð³Ð¾ ÐºÐ°Ð·Ð½Ð°Ñ\\x87ÐµÐ¹Ñ\\x81Ñ\\x82Ð²Ð° Ð¿Ð¾ Ð³. Ð¡Ð°Ð½ÐºÑ\\x82-Ð\\x9fÐµÑ\\x82ÐµÑ\\x80Ð±Ñ\\x83Ñ\\x80Ð³Ñ\\x83|PersonalAcc=03100643000000017200|BankName=Ð¡Ð\\x95Ð\\x92Ð\\x95Ð\\xa0Ð\\x9e-Ð\\x97Ð\\x90Ð\\x9fÐ\\x90Ð\\x94Ð\\x9dÐ\\x9eÐ\\x95 Ð\\x93Ð£ Ð\\x91Ð\\x90Ð\\x9dÐ\\x9aÐ\\x90 Ð\\xa0Ð\\x9eÐ¡Ð¡Ð\\x98Ð\\x98//Ð£Ð¤Ð\\x9a Ð¿Ð¾ Ð³.Ð¡Ð°Ð½ÐºÑ\\x82-Ð\\x9fÐµÑ\\x82ÐµÑ\\x80Ð±Ñ\\x83Ñ\\x80Ð³Ñ\\x83 Ð³. Ð¡Ð°Ð½ÐºÑ\\x82-Ð\\x9fÐµÑ\\x82ÐµÑ\\x80Ð±Ñ\\x83Ñ\\x80Ð³|BIC=014030106|CorrespAcc=40102810945370000005|docIdx=18209997220017505589|DrawerStatus=13|lastName=Ð\\x94Ð°Ð³Ð°ÐµÐ²|firstName=Ð¡Ñ\\x82Ð°Ð½Ð¸Ñ\\x81Ð»Ð°Ð²|middleName=Ð®Ñ\\x80Ñ\\x8cÐµÐ²Ð¸Ñ\\x87|payerAddress=192029,Ð\\xa0Ð\\x9eÐ¡Ð¡Ð\\x98Ð¯,Ð¡Ð°Ð½ÐºÑ\\x82-Ð\\x9fÐµÑ\\x82ÐµÑ\\x80Ð±Ñ\\x83Ñ\\x80Ð³ Ð³, , , ,Ð\\x95Ð»Ð¸Ð·Ð°Ñ\\x80Ð¾Ð²Ð° Ð¿Ñ\\x80-ÐºÑ\\x82,11,,35|PayerINN=781109142534|Sum=446000.00|PayeeINN=7811047958|KPP=781101001|CBC=18210506000011000110|OKTMO=40000000|PaytReason=Ð¢Ð\\x9f|TaxPeriod=Ð\\x9cÐ¡.12.2021|TaxPaytKind=0'\n",
    "text = 'ST00012|Name=Ð£Ð¿ÑÐ°Ð²Ð»ÐµÐ½Ð¸Ðµ Ð¤ÐµÐ´ÐµÑÐ°Ð»ÑÐ½Ð¾Ð³Ð¾ ÐºÐ°Ð·Ð½Ð°ÑÐµÐ¹ÑÑÐ²Ð° Ð¿Ð¾ Ð³. Ð¡Ð°Ð½ÐºÑ-ÐÐµÑÐµÑÐ±ÑÑÐ³Ñ|PersonalAcc=03100643000000017200|BankName=Ð¡ÐÐÐÐ Ð-ÐÐÐÐÐÐÐÐ ÐÐ£ ÐÐÐÐÐ Ð ÐÐ¡Ð¡ÐÐ//Ð£Ð¤Ð Ð¿Ð¾ Ð³.Ð¡Ð°Ð½ÐºÑ-ÐÐµÑÐµÑÐ±ÑÑÐ³Ñ Ð³. Ð¡Ð°Ð½ÐºÑ-ÐÐµÑÐµÑÐ±ÑÑÐ³|BIC=014030106|CorrespAcc=40102810945370000005|docIdx=18209997220017505589|DrawerStatus=13|lastName=ÐÐ°Ð³Ð°ÐµÐ²|firstName=Ð¡ÑÐ°Ð½Ð¸ÑÐ»Ð°Ð²|middleName=Ð®ÑÑÐµÐ²Ð¸Ñ|payerAddress=192029,Ð ÐÐ¡Ð¡ÐÐ¯,Ð¡Ð°Ð½ÐºÑ-ÐÐµÑÐµÑÐ±ÑÑÐ³ Ð³, , , ,ÐÐ»Ð¸Ð·Ð°ÑÐ¾Ð²Ð° Ð¿Ñ-ÐºÑ,11,,35|PayerINN=781109142534|Sum=446000.00|PayeeINN=7811047958|KPP=781101001|CBC=18210506000011000110|OKTMO=40000000|PaytReason=Ð¢Ð|TaxPeriod=ÐÐ¡.12.2021|TaxPaytKind=0'\n",
    "\n",
    "# text = 'ST00011|Name=ÓÔÊ ïî ã. Ìîñêâå (ÌÈÔÍÑ Ðîññèè ¹ 46 ïî ã. Ìîñêâå)|PersonalAcc=40101810045250010041|BankName=ÃÓ Áàíêà Ðîññèè ïî ÖÔÎ|BIC=044525000|CorrespAcc=00000000000000000000|docIdx=18209964182869689593|DrawerStatus=13|lastName=Àëìàåâà|firstName=Êñåíèÿ|middleName=Åâãåíüåâíà|payerAddress=ÓË. ÑÀÐÀÒÎÂÑÊÀß, Ä. 6, Ã.ÌÎÑÊÂÀ|PayerINN=772271332423|Sum=80000|PayeeINN=7733506810|KPP=773301001|CBC=18210807010011000110|OKTMO=45373000|PaytReason=ÒÏ|TaxPeriod=27.09.2018'\n",
    "# text = 'ST00011|Name=ÓÔÊ ïî ã. Ìîñêâå (ÌÈÔÍÑ Ðîññèè ¹ 46 ïî ã. Ìîñêâå)|PersonalAcc=40101810045250010041|BankName=ÃÓ Áàíêà Ðîññèè ïî ÖÔÎ|BIC=044525000|CorrespAcc=00000000000000000000|docIdx=18209964182869689593|DrawerStatus=13|lastName=Àëìàåâà|firstName=Êñåíèÿ|middleName=Åâãåíüåâíà|payerAddress=ÓË. ÑÀÐÀÒÎÂÑÊÀß, Ä. 6, Ã.ÌÎÑÊÂÀ|PayerINN=772271332423|Sum=80000|PayeeINN=7733506810|KPP=773301001|CBC=18210807010011000110|OKTMO=45373000|PaytReason=ÒÏ|TaxPeriod=27.09.2018'\n",
    "\n",
    "# text = 'ST00011|Name=√ì√î√ä √Ø√Æ √£. √å√Æ√±√™√¢√• (√å√à√î√ç√ë √ê√Æ√±√±√®√® ¬π 46 √Ø√Æ √£. √å√Æ√±√™√¢√•)|PersonalAcc=40101810045250010041|BankName=√É√ì √Å√†√≠√™√† √ê√Æ√±√±√®√® √Ø√Æ √ñ√î√é|BIC=044525000|CorrespAcc=00000000000000000000|docIdx=18209964182869689593|DrawerStatus=13|lastName=√Ä√´√¨√†√•√¢√†|firstName=√ä√±√•√≠√®√ø|middleName=√Ö√¢√£√•√≠√º√•√¢√≠√†|payerAddress=√ì√ã. √ë√Ä√ê√Ä√í√é√Ç√ë√ä√Ä√ü, √Ñ. 6, √É.√å√é√ë√ä√Ç√Ä|PayerINN=772271332423|Sum=80000|PayeeINN=7733506810|KPP=773301001|CBC=18210807010011000110|OKTMO=45373000|PaytReason=√í√è|TaxPeriod=27.09.2018'\n",
    "\n",
    "\n",
    "# text = 'ST00011|Name=ÃÃÃ Ã¯Ã® Ã£. ÃÃ®Ã±ÃªÃ¢Ã¥ (ÃÃÃÃÃ ÃÃ®Ã±Ã±Ã¨Ã¨ Â¹ 46 Ã¯Ã® Ã£. ÃÃ®Ã±ÃªÃ¢Ã¥)|PersonalAcc=40101810045250010041|BankName=ÃÃ ÃÃ Ã­ÃªÃ  ÃÃ®Ã±Ã±Ã¨Ã¨ Ã¯Ã® ÃÃÃ|BIC=044525000|CorrespAcc=00000000000000000000|docIdx=18209964182869689593|DrawerStatus=13|lastName=ÃÃ«Ã¬Ã Ã¥Ã¢Ã |firstName=ÃÃ±Ã¥Ã­Ã¨Ã¿|middleName=Ã",
    "Ã¢Ã£Ã¥Ã­Ã¼Ã¥Ã¢Ã­Ã |payerAddress=ÃÃ. ÃÃÃÃÃÃÃÃÃÃÃ, Ã. 6, Ã.ÃÃÃÃÃÃ|PayerINN=772271332423|Sum=80000|PayeeINN=7733506810|KPP=773301001|CBC=18210807010011000110|OKTMO=45373000|PaytReason=ÃÃ|TaxPeriod=27.09.2018'"
   ]
  },
  {
   "cell_type": "code",
   "execution_count": null,
   "id": "2b3f8198",
   "metadata": {},
   "outputs": [],
   "source": [
    "# text = \"dsdf\"\n"
   ]
  },
  {
   "cell_type": "code",
   "execution_count": null,
   "id": "44659f3d",
   "metadata": {},
   "outputs": [],
   "source": [
    "text.encode('l1').decode('utf-8')"
   ]
  },
  {
   "cell_type": "code",
   "execution_count": null,
   "id": "763b3be7",
   "metadata": {},
   "outputs": [],
   "source": [
    "text.encode('l1').decode('utf-8')"
   ]
  },
  {
   "cell_type": "code",
   "execution_count": null,
   "id": "458b15c9",
   "metadata": {},
   "outputs": [],
   "source": [
    "text.encode('l1').decode('utf-8', \"ignore\")"
   ]
  },
  {
   "cell_type": "code",
   "execution_count": null,
   "id": "bd38fcef",
   "metadata": {},
   "outputs": [],
   "source": [
    "text = \"фыва-dsdf\"\n",
    "text.encode('l1')\n",
    "# text.encode('utf-8').decode('utf-8')"
   ]
  },
  {
   "cell_type": "code",
   "execution_count": null,
   "id": "42c3f8cd",
   "metadata": {},
   "outputs": [],
   "source": []
  }
 ],
 "metadata": {
  "kernelspec": {
   "display_name": "Python 3 (ipykernel)",
   "language": "python",
   "name": "python3"
  },
  "language_info": {
   "codemirror_mode": {
    "name": "ipython",
    "version": 3
   },
   "file_extension": ".py",
   "mimetype": "text/x-python",
   "name": "python",
   "nbconvert_exporter": "python",
   "pygments_lexer": "ipython3",
   "version": "3.8.9"
  }
 },
 "nbformat": 4,
 "nbformat_minor": 5
}
