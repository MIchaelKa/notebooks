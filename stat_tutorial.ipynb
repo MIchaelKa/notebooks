{
 "cells": [
  {
   "cell_type": "code",
   "execution_count": 23,
   "id": "finite-passenger",
   "metadata": {},
   "outputs": [],
   "source": [
    "import numpy as np\n",
    "import matplotlib.pyplot as plt"
   ]
  },
  {
   "cell_type": "code",
   "execution_count": 39,
   "id": "athletic-indicator",
   "metadata": {},
   "outputs": [],
   "source": [
    "np.random.seed(0)"
   ]
  },
  {
   "cell_type": "code",
   "execution_count": 40,
   "id": "funny-netscape",
   "metadata": {},
   "outputs": [
    {
     "data": {
      "text/plain": [
       "array([94.26460785, 94.06002358, 94.1468107 , 94.33613398, 94.2801337 ,\n",
       "       93.85340832, 94.14251326, 93.97729642, 93.98451717, 94.06158978,\n",
       "       94.02160654, 94.21814103, 94.11415566, 94.01825125, 94.06657948,\n",
       "       94.05005115, 94.22411186, 93.96922626, 94.04696016, 93.87188564,\n",
       "       93.61705153, 94.09804279, 94.12966543, 93.88867525, 94.34046319,\n",
       "       93.78184515, 94.00686378, 93.97192242, 94.22991688, 94.22040382,\n",
       "       94.02324211, 94.05672438, 93.86683214, 93.70288053, 93.94781318,\n",
       "       94.02345235, 94.1845436 , 94.18035698, 93.94190098, 93.95465459,\n",
       "       93.84271706, 93.78699731, 93.74405947, 94.29261631, 93.92355217,\n",
       "       93.93428885, 93.8120807 , 94.11662355, 93.75791532, 93.96808896,\n",
       "       93.86568002, 94.05803537, 93.92337923, 93.82290517, 93.99577267,\n",
       "       94.06424978, 94.00997758, 94.04537078, 93.90485169, 93.94558883,\n",
       "       93.89913093, 93.94606703, 93.87802806, 93.74105761, 94.02661392,\n",
       "       93.93973286, 93.75547025, 94.06941734, 93.86390525, 94.00779181,\n",
       "       94.10936358, 94.01934744, 94.1709101 , 93.81477613, 94.06035125,\n",
       "       93.89727849, 93.86938043, 93.91317255, 93.95326712, 94.0084248 ,\n",
       "       93.82522752, 94.13512397, 94.06984937, 93.76956345, 94.22323783,\n",
       "       94.28438338, 94.17681694, 93.97301127, 93.83938711, 94.15816776,\n",
       "       93.93952346, 94.18336676, 94.03124125, 94.14649586, 94.05345496,\n",
       "       94.10598598, 94.001575  , 94.26788057, 94.01903681, 94.0602984 ])"
      ]
     },
     "execution_count": 40,
     "metadata": {},
     "output_type": "execute_result"
    }
   ],
   "source": [
    "# np.random.randn(10) # you can pass any size here\n",
    "x = np.random.normal(94, 0.15, 100)\n",
    "x"
   ]
  },
  {
   "cell_type": "code",
   "execution_count": 41,
   "id": "smart-programming",
   "metadata": {},
   "outputs": [],
   "source": [
    "# np.quantile equivalent to percentile, except with q in the range [0, 1].\n",
    "\n",
    "def stat_intervals(stat, alpha):\n",
    "    \"\"\"Produce an interval estimate.\"\"\"\n",
    "    boundaries = np.percentile(stat, [100 * alpha / 2.0, 100 * (1 - alpha / 2.0)])\n",
    "    return boundaries"
   ]
  },
  {
   "cell_type": "code",
   "execution_count": 42,
   "id": "abstract-toilet",
   "metadata": {},
   "outputs": [
    {
     "data": {
      "text/plain": [
       "array([93.74248349, 94.28870567])"
      ]
     },
     "execution_count": 42,
     "metadata": {},
     "output_type": "execute_result"
    }
   ],
   "source": [
    "stat_intervals(x, 0.05)"
   ]
  },
  {
   "cell_type": "code",
   "execution_count": 136,
   "id": "impaired-locking",
   "metadata": {},
   "outputs": [
    {
     "data": {
      "text/plain": [
       "array([93.74248349, 94.28870567])"
      ]
     },
     "execution_count": 136,
     "metadata": {},
     "output_type": "execute_result"
    }
   ],
   "source": [
    "np.quantile(x, [0.025, 1 - 0.025])"
   ]
  },
  {
   "cell_type": "code",
   "execution_count": 44,
   "id": "metallic-comment",
   "metadata": {},
   "outputs": [
    {
     "data": {
      "image/png": "[encoded data removed]",
      "text/plain": [
       "<Figure size 432x288 with 1 Axes>"
      ]
     },
     "metadata": {
      "needs_background": "light"
     },
     "output_type": "display_data"
    }
   ],
   "source": [
    "count, bins, ignored = plt.hist(x, 20, density=True)"
   ]
  },
  {
   "cell_type": "code",
   "execution_count": 116,
   "id": "sought-fellowship",
   "metadata": {},
   "outputs": [],
   "source": [
    "x_new = np.random.normal(94.05, 0.15, 100)"
   ]
  },
  {
   "cell_type": "code",
   "execution_count": 62,
   "id": "ready-medication",
   "metadata": {},
   "outputs": [
    {
     "data": {
      "text/plain": [
       "(94.00897120233016, 0.15118233670748604)"
      ]
     },
     "execution_count": 62,
     "metadata": {},
     "output_type": "execute_result"
    }
   ],
   "source": [
    "x.mean(), x.std()"
   ]
  },
  {
   "cell_type": "code",
   "execution_count": 99,
   "id": "overhead-opposition",
   "metadata": {},
   "outputs": [
    {
     "data": {
      "text/plain": [
       "(94.02710688504956, 0.15781834702690017)"
      ]
     },
     "execution_count": 99,
     "metadata": {},
     "output_type": "execute_result"
    }
   ],
   "source": [
    "x_new.mean(), x_new.std()"
   ]
  },
  {
   "cell_type": "code",
   "execution_count": 48,
   "id": "established-bacon",
   "metadata": {},
   "outputs": [],
   "source": [
    "from scipy import stats"
   ]
  },
  {
   "cell_type": "markdown",
   "id": "worst-sullivan",
   "metadata": {},
   "source": [
    "https://docs.scipy.org/doc/scipy/reference/tutorial/stats.html#t-test-and-ks-test"
   ]
  },
  {
   "cell_type": "code",
   "execution_count": 97,
   "id": "ranging-desperate",
   "metadata": {},
   "outputs": [
    {
     "data": {
      "text/plain": [
       "(-2.7002584514925823, 0.008150276399437271, True)"
      ]
     },
     "execution_count": 97,
     "metadata": {},
     "output_type": "execute_result"
    }
   ],
   "source": [
    "t, p = stats.ttest_1samp(x, 94.05)\n",
    "t, p, (p < 0.05)"
   ]
  },
  {
   "cell_type": "code",
   "execution_count": 91,
   "id": "commercial-coordinate",
   "metadata": {},
   "outputs": [
    {
     "data": {
      "text/plain": [
       "0.5"
      ]
     },
     "execution_count": 91,
     "metadata": {},
     "output_type": "execute_result"
    }
   ],
   "source": [
    "stats.t.cdf(0,df=100)"
   ]
  },
  {
   "cell_type": "code",
   "execution_count": 117,
   "id": "retained-venture",
   "metadata": {},
   "outputs": [
    {
     "data": {
      "text/plain": [
       "(-3.2485329000873664, 0.0013627528810890206, True)"
      ]
     },
     "execution_count": 117,
     "metadata": {},
     "output_type": "execute_result"
    }
   ],
   "source": [
    "t, p = stats.ttest_ind(x, x_new)\n",
    "t, p, (p < 0.05)"
   ]
  },
  {
   "cell_type": "code",
   "execution_count": 118,
   "id": "british-promotion",
   "metadata": {},
   "outputs": [
    {
     "data": {
      "text/plain": [
       "1.9986372471189109"
      ]
     },
     "execution_count": 118,
     "metadata": {},
     "output_type": "execute_result"
    }
   ],
   "source": [
    "(1 - stats.t.cdf(t,df=200-1-1)) * 2 # do not work for t<0"
   ]
  },
  {
   "cell_type": "code",
   "execution_count": 135,
   "id": "suited-consolidation",
   "metadata": {},
   "outputs": [
    {
     "data": {
      "text/plain": [
       "(-0.26640868414458774, 0.7959275804815097, False)"
      ]
     },
     "execution_count": 135,
     "metadata": {},
     "output_type": "execute_result"
    }
   ],
   "source": [
    "y = np.random.normal(94, 0.15, 10)\n",
    "t, p = stats.ttest_1samp(y, 94.05)\n",
    "t, p, (p < 0.05)"
   ]
  },
  {
   "cell_type": "code",
   "execution_count": null,
   "id": "cordless-stream",
   "metadata": {},
   "outputs": [],
   "source": []
  }
 ],
 "metadata": {
  "kernelspec": {
   "display_name": "Python 3",
   "language": "python",
   "name": "python3"
  },
  "language_info": {
   "codemirror_mode": {
    "name": "ipython",
    "version": 3
   },
   "file_extension": ".py",
   "mimetype": "text/x-python",
   "name": "python",
   "nbconvert_exporter": "python",
   "pygments_lexer": "ipython3",
   "version": "3.8.2"
  }
 },
 "nbformat": 4,
 "nbformat_minor": 5
}
