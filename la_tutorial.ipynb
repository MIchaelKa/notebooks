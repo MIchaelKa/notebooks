{
 "cells": [
  {
   "cell_type": "code",
   "execution_count": 3,
   "id": "organized-farming",
   "metadata": {},
   "outputs": [],
   "source": [
    "import numpy as np\n",
    "import math\n",
    "\n",
    "import matplotlib.pyplot as plt"
   ]
  },
  {
   "cell_type": "code",
   "execution_count": 11,
   "id": "subject-baker",
   "metadata": {},
   "outputs": [],
   "source": [
    "theta = 30 * math.pi / 180 # 30 degress in radian\n",
    "\n",
    "# Rotation matrix for theta=30 degrees\n",
    "A = np.array([\n",
    "    [np.cos(theta), -np.sin(theta)],\n",
    "    [np.sin(theta), np.cos(theta)]\n",
    "])\n",
    "\n",
    "a_1 = A[:,0]\n",
    "a_2 = A[:,1]"
   ]
  },
  {
   "cell_type": "code",
   "execution_count": 25,
   "id": "entire-design",
   "metadata": {},
   "outputs": [
    {
     "name": "stdout",
     "output_type": "stream",
     "text": [
      "[[ 0.8660254 -0.5      ]\n",
      " [ 0.5        0.8660254]]\n"
     ]
    }
   ],
   "source": [
    "print(A)"
   ]
  },
  {
   "cell_type": "code",
   "execution_count": 24,
   "id": "apart-martial",
   "metadata": {},
   "outputs": [
    {
     "data": {
      "text/plain": [
       "(array([0.8660254, 0.5      ]), array([-0.5      ,  0.8660254]))"
      ]
     },
     "execution_count": 24,
     "metadata": {},
     "output_type": "execute_result"
    }
   ],
   "source": [
    "a_1, a_2"
   ]
  },
  {
   "cell_type": "code",
   "execution_count": 30,
   "id": "therapeutic-details",
   "metadata": {},
   "outputs": [],
   "source": [
    "# x_1 = np.array([1,0]).reshape(2,1)\n",
    "x_1 = np.array([1,1])\n",
    "\n",
    "Ax = A @ x_1\n",
    "xA = x_1 @ A"
   ]
  },
  {
   "cell_type": "code",
   "execution_count": 38,
   "id": "controlling-nomination",
   "metadata": {},
   "outputs": [
    {
     "data": {
      "image/png": "[encoded data removed]",
      "text/plain": [
       "<Figure size 360x360 with 1 Axes>"
      ]
     },
     "metadata": {
      "needs_background": "light"
     },
     "output_type": "display_data"
    }
   ],
   "source": [
    "fig, ax1 = plt.subplots(1, 1, figsize=(5,5))\n",
    "\n",
    "origin = [[0, 0], [0, 0]] # origin points\n",
    "\n",
    "ax1.quiver(*origin, a_1[0], a_1[1], color=['b'], width=0.013, angles='xy', scale_units='xy', scale=1)\n",
    "ax1.quiver(*origin, a_2[0], a_2[1], color=['g'], width=0.013, angles='xy', scale_units='xy', scale=1)\n",
    "\n",
    "ax1.quiver(*origin, Ax[0], Ax[1], color=['r'], width=0.013, angles='xy', scale_units='xy', scale=1)\n",
    "ax1.quiver(*origin, xA[0], xA[1], color=['y'], width=0.013, angles='xy', scale_units='xy', scale=1)\n",
    "\n",
    "\n",
    "ax1.set_xlabel('x', fontsize=14)\n",
    "ax1.set_ylabel('y', fontsize=14)\n",
    "ax1.set_xlim([-1.5,1.5])\n",
    "ax1.set_ylim([-1.5,1.5])\n",
    "ax1.set_aspect('equal')\n",
    "ax1.grid(True)\n",
    "ax1.set_axisbelow(True)\n",
    "ax1.set_title(\"Rotation transform\")\n",
    "ax1.axhline(y=0, color='k')\n",
    "ax1.axvline(x=0, color='k')\n",
    "\n",
    "plt.show()"
   ]
  },
  {
   "cell_type": "code",
   "execution_count": 42,
   "id": "therapeutic-decade",
   "metadata": {},
   "outputs": [],
   "source": [
    "# x_1 = np.array([1,0]).reshape(2,1)\n",
    "x_1 = np.array([0.5,1])\n",
    "\n",
    "Ax = A @ x_1\n",
    "xA = x_1 @ A"
   ]
  },
  {
   "cell_type": "code",
   "execution_count": 43,
   "id": "mental-limitation",
   "metadata": {},
   "outputs": [
    {
     "data": {
      "image/png": "[encoded data removed]",
      "text/plain": [
       "<Figure size 360x360 with 1 Axes>"
      ]
     },
     "metadata": {
      "needs_background": "light"
     },
     "output_type": "display_data"
    }
   ],
   "source": [
    "fig, ax1 = plt.subplots(1, 1, figsize=(5,5))\n",
    "\n",
    "origin = [[0, 0], [0, 0]] # origin points\n",
    "\n",
    "ax1.quiver(*origin, a_1[0], a_1[1], color=['b'], width=0.013, angles='xy', scale_units='xy', scale=1)\n",
    "ax1.quiver(*origin, a_2[0], a_2[1], color=['g'], width=0.013, angles='xy', scale_units='xy', scale=1)\n",
    "\n",
    "ax1.quiver(*origin, Ax[0], Ax[1], color=['r'], width=0.013, angles='xy', scale_units='xy', scale=1)\n",
    "ax1.quiver(*origin, xA[0], xA[1], color=['y'], width=0.013, angles='xy', scale_units='xy', scale=1)\n",
    "\n",
    "ax1.quiver(*origin, x_1[0], x_1[1], color=['black'], width=0.013, angles='xy', scale_units='xy', scale=1)\n",
    "\n",
    "\n",
    "ax1.set_xlabel('x', fontsize=14)\n",
    "ax1.set_ylabel('y', fontsize=14)\n",
    "ax1.set_xlim([-1.5,1.5])\n",
    "ax1.set_ylim([-1.5,1.5])\n",
    "ax1.set_aspect('equal')\n",
    "ax1.grid(True)\n",
    "ax1.set_axisbelow(True)\n",
    "ax1.set_title(\"Rotation transform\")\n",
    "ax1.axhline(y=0, color='k')\n",
    "ax1.axvline(x=0, color='k')\n",
    "\n",
    "plt.show()"
   ]
  },
  {
   "cell_type": "markdown",
   "id": "funky-installation",
   "metadata": {},
   "source": [
    "Собстветнные вектора матрицы поворота - комплексные"
   ]
  },
  {
   "cell_type": "code",
   "execution_count": 46,
   "id": "rotary-preliminary",
   "metadata": {},
   "outputs": [
    {
     "name": "stdout",
     "output_type": "stream",
     "text": [
      "[0.866+0.5j 0.866-0.5j]\n",
      "[[0.7071+0.j     0.7071-0.j    ]\n",
      " [0.    -0.7071j 0.    +0.7071j]]\n"
     ]
    }
   ],
   "source": [
    "lam, u = np.linalg.eig(A)\n",
    "print(np.round(lam, 4))\n",
    "print(np.round(u, 4))"
   ]
  },
  {
   "cell_type": "markdown",
   "id": "superior-premiere",
   "metadata": {},
   "source": [
    "## Circle"
   ]
  },
  {
   "cell_type": "code",
   "execution_count": 44,
   "id": "divine-marine",
   "metadata": {},
   "outputs": [
    {
     "data": {
      "text/plain": [
       "(2, 200)"
      ]
     },
     "execution_count": 44,
     "metadata": {},
     "output_type": "execute_result"
    }
   ],
   "source": [
    "# Creating the vectors for a circle and storing them in x\n",
    "xi1 = np.linspace(-1.0, 1.0, 100)\n",
    "xi2 = np.linspace(1.0, -1.0, 100)\n",
    "yi1 = np.sqrt(1 - xi1**2)\n",
    "yi2 = -np.sqrt(1 - xi2**2)\n",
    "\n",
    "xi = np.concatenate((xi1, xi2),axis=0)\n",
    "yi = np.concatenate((yi1, yi2),axis=0)\n",
    "\n",
    "# x = np.vstack((xi1, yi1))\n",
    "X = np.vstack((xi, yi))\n",
    "\n",
    "X.shape"
   ]
  },
  {
   "cell_type": "code",
   "execution_count": 55,
   "id": "driving-manufacturer",
   "metadata": {},
   "outputs": [],
   "source": [
    "B = np.array([[2, 0],\n",
    "              [0, 2]]) \n",
    "\n",
    "t = B @ X"
   ]
  },
  {
   "cell_type": "code",
   "execution_count": 56,
   "id": "eight-richmond",
   "metadata": {},
   "outputs": [
    {
     "data": {
      "image/png": "[encoded data removed]",
      "text/plain": [
       "<Figure size 720x1080 with 2 Axes>"
      ]
     },
     "metadata": {
      "needs_background": "light"
     },
     "output_type": "display_data"
    }
   ],
   "source": [
    "fig, (ax1, ax2) = plt.subplots(1, 2, figsize=(10,15))\n",
    "\n",
    "plt.subplots_adjust(wspace=0.4)\n",
    "\n",
    "# Plotting x\n",
    "ax1.plot(X[0,:], X[1,:], color='b')\n",
    "\n",
    "ax1.set_xlabel('x', fontsize=14)\n",
    "ax1.set_ylabel('y', fontsize=14)\n",
    "ax1.set_xlim([-4,4])\n",
    "ax1.set_ylim([-4,4])\n",
    "ax1.set_aspect('equal')\n",
    "ax1.grid(True)\n",
    "ax1.set_axisbelow(True)\n",
    "ax1.set_title(\"Original vectors\")\n",
    "ax1.axhline(y=0, color='k')\n",
    "ax1.axvline(x=0, color='k')\n",
    "\n",
    "# Plotting t\n",
    "ax2.plot(t[0, :], t[1, :], color='b')\n",
    "\n",
    "ax2.set_xlabel('x', fontsize=14)\n",
    "ax2.set_ylabel('y', fontsize=14)\n",
    "ax2.set_xlim([-4,4])\n",
    "ax2.set_ylim([-4,4])\n",
    "ax2.set_aspect('equal')\n",
    "ax2.grid(True)\n",
    "ax2.set_axisbelow(True)\n",
    "ax2.set_title(\"New vectors after transformation\")\n",
    "ax2.axhline(y=0, color='k')\n",
    "ax2.axvline(x=0, color='k')\n",
    "\n",
    "plt.show()"
   ]
  },
  {
   "cell_type": "code",
   "execution_count": 57,
   "id": "tough-princess",
   "metadata": {},
   "outputs": [],
   "source": [
    "x_2 = np.array([2,4])"
   ]
  },
  {
   "cell_type": "code",
   "execution_count": 58,
   "id": "empty-bahrain",
   "metadata": {},
   "outputs": [
    {
     "data": {
      "text/plain": [
       "array([4, 8])"
      ]
     },
     "execution_count": 58,
     "metadata": {},
     "output_type": "execute_result"
    }
   ],
   "source": [
    "B @ x_2"
   ]
  },
  {
   "cell_type": "markdown",
   "id": "white-debate",
   "metadata": {},
   "source": [
    "Собственные вектора и значения матрицы растяжения"
   ]
  },
  {
   "cell_type": "code",
   "execution_count": 59,
   "id": "contrary-argentina",
   "metadata": {},
   "outputs": [
    {
     "name": "stdout",
     "output_type": "stream",
     "text": [
      "[2. 2.]\n",
      "[[1. 0.]\n",
      " [0. 1.]]\n"
     ]
    }
   ],
   "source": [
    "lam, u = np.linalg.eig(B)\n",
    "print(np.round(lam, 4))\n",
    "print(np.round(u, 4))"
   ]
  },
  {
   "cell_type": "code",
   "execution_count": null,
   "id": "fluid-hepatitis",
   "metadata": {},
   "outputs": [],
   "source": []
  }
 ],
 "metadata": {
  "kernelspec": {
   "display_name": "Python 3",
   "language": "python",
   "name": "python3"
  },
  "language_info": {
   "codemirror_mode": {
    "name": "ipython",
    "version": 3
   },
   "file_extension": ".py",
   "mimetype": "text/x-python",
   "name": "python",
   "nbconvert_exporter": "python",
   "pygments_lexer": "ipython3",
   "version": "3.8.2"
  }
 },
 "nbformat": 4,
 "nbformat_minor": 5
}
